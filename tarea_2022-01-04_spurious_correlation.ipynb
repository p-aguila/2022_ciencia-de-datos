{
 "cells": [
  {
   "cell_type": "markdown",
   "id": "d592259a",
   "metadata": {},
   "source": [
    "## *Correlación* no implica *causalidad*\n",
    "*Autor: Patricio Águila Márquez*"
   ]
  },
  {
   "cell_type": "markdown",
   "id": "8090f7f4",
   "metadata": {},
   "source": [
    "* A continuación, se presenta un ejemplo de [correlación espuria](https://es.wikipedia.org/wiki/Relaci%C3%B3n_espuria) entre dos variables. \n",
    "* El objeto de estudio es la posible relación entre los precios de las acciones de [Tesla](https://es-us.finanzas.yahoo.com/quote/TSLA/history?p=TSLA) y el valor del [Bitcoin](https://www.in2013dollars.com/bitcoin-price), analizados en un periodo de aproximadamente 10 años.\n",
    "* La primera parte del ejercicio consiste leer las fuentes de datos y transformarlas a un solo data frame.\n",
    "* La segunda parte muestra los análisis de correlación entre las variables."
   ]
  },
  {
   "cell_type": "markdown",
   "id": "a529ea61",
   "metadata": {},
   "source": [
    "Primero, se importan librerías necesarias y se configura la visualizaciónde los gráficos"
   ]
  },
  {
   "cell_type": "code",
   "execution_count": 47,
   "id": "04020fe8",
   "metadata": {},
   "outputs": [],
   "source": [
    "import numpy as np\n",
    "import pandas as pd\n",
    "import seaborn as sns\n",
    "import matplotlib.pyplot as plt\n",
    "plt.style.use(\"seaborn-dark\")\n",
    "from sklearn.preprocessing import StandardScaler\n",
    "from sklearn.preprocessing import MinMaxScaler"
   ]
  },
  {
   "cell_type": "markdown",
   "id": "20139809",
   "metadata": {},
   "source": [
    "### 1. Lectura y transformación de datos"
   ]
  },
  {
   "cell_type": "markdown",
   "id": "e20c23fb",
   "metadata": {},
   "source": [
    "Primero, se analiza el dataset de los precios de las acciones de Tesla"
   ]
  },
  {
   "cell_type": "code",
   "execution_count": 2,
   "id": "83cf1b22",
   "metadata": {
    "scrolled": true
   },
   "outputs": [
    {
     "data": {
      "text/html": [
       "<div>\n",
       "<style scoped>\n",
       "    .dataframe tbody tr th:only-of-type {\n",
       "        vertical-align: middle;\n",
       "    }\n",
       "\n",
       "    .dataframe tbody tr th {\n",
       "        vertical-align: top;\n",
       "    }\n",
       "\n",
       "    .dataframe thead th {\n",
       "        text-align: right;\n",
       "    }\n",
       "</style>\n",
       "<table border=\"1\" class=\"dataframe\">\n",
       "  <thead>\n",
       "    <tr style=\"text-align: right;\">\n",
       "      <th></th>\n",
       "      <th>Date</th>\n",
       "      <th>Open</th>\n",
       "      <th>High</th>\n",
       "      <th>Low</th>\n",
       "      <th>Close</th>\n",
       "      <th>Adj Close</th>\n",
       "      <th>Volume</th>\n",
       "    </tr>\n",
       "  </thead>\n",
       "  <tbody>\n",
       "    <tr>\n",
       "      <th>0</th>\n",
       "      <td>2010-07-01</td>\n",
       "      <td>5.000</td>\n",
       "      <td>5.184</td>\n",
       "      <td>2.996</td>\n",
       "      <td>3.988</td>\n",
       "      <td>3.988</td>\n",
       "      <td>322879000</td>\n",
       "    </tr>\n",
       "    <tr>\n",
       "      <th>1</th>\n",
       "      <td>2010-08-01</td>\n",
       "      <td>4.100</td>\n",
       "      <td>4.436</td>\n",
       "      <td>3.478</td>\n",
       "      <td>3.896</td>\n",
       "      <td>3.896</td>\n",
       "      <td>75191000</td>\n",
       "    </tr>\n",
       "    <tr>\n",
       "      <th>2</th>\n",
       "      <td>2010-09-01</td>\n",
       "      <td>3.924</td>\n",
       "      <td>4.632</td>\n",
       "      <td>3.900</td>\n",
       "      <td>4.082</td>\n",
       "      <td>4.082</td>\n",
       "      <td>90229500</td>\n",
       "    </tr>\n",
       "    <tr>\n",
       "      <th>3</th>\n",
       "      <td>2010-10-01</td>\n",
       "      <td>4.138</td>\n",
       "      <td>4.374</td>\n",
       "      <td>4.000</td>\n",
       "      <td>4.368</td>\n",
       "      <td>4.368</td>\n",
       "      <td>32739000</td>\n",
       "    </tr>\n",
       "    <tr>\n",
       "      <th>4</th>\n",
       "      <td>2010-11-01</td>\n",
       "      <td>4.388</td>\n",
       "      <td>7.200</td>\n",
       "      <td>4.210</td>\n",
       "      <td>7.066</td>\n",
       "      <td>7.066</td>\n",
       "      <td>141575500</td>\n",
       "    </tr>\n",
       "  </tbody>\n",
       "</table>\n",
       "</div>"
      ],
      "text/plain": [
       "         Date   Open   High    Low  Close  Adj Close     Volume\n",
       "0  2010-07-01  5.000  5.184  2.996  3.988      3.988  322879000\n",
       "1  2010-08-01  4.100  4.436  3.478  3.896      3.896   75191000\n",
       "2  2010-09-01  3.924  4.632  3.900  4.082      4.082   90229500\n",
       "3  2010-10-01  4.138  4.374  4.000  4.368      4.368   32739000\n",
       "4  2010-11-01  4.388  7.200  4.210  7.066      7.066  141575500"
      ]
     },
     "execution_count": 2,
     "metadata": {},
     "output_type": "execute_result"
    }
   ],
   "source": [
    "# leer archivo csv del precio de las acciones de Tesla\n",
    "df_tsla = pd.read_csv('TSLA.csv')\n",
    "# vista preliminar del dataset\n",
    "df_tsla.head()"
   ]
  },
  {
   "cell_type": "code",
   "execution_count": 3,
   "id": "61637c0a",
   "metadata": {},
   "outputs": [
    {
     "data": {
      "text/html": [
       "<div>\n",
       "<style scoped>\n",
       "    .dataframe tbody tr th:only-of-type {\n",
       "        vertical-align: middle;\n",
       "    }\n",
       "\n",
       "    .dataframe tbody tr th {\n",
       "        vertical-align: top;\n",
       "    }\n",
       "\n",
       "    .dataframe thead th {\n",
       "        text-align: right;\n",
       "    }\n",
       "</style>\n",
       "<table border=\"1\" class=\"dataframe\">\n",
       "  <thead>\n",
       "    <tr style=\"text-align: right;\">\n",
       "      <th></th>\n",
       "      <th>Date</th>\n",
       "      <th>TSLA_price</th>\n",
       "    </tr>\n",
       "  </thead>\n",
       "  <tbody>\n",
       "    <tr>\n",
       "      <th>0</th>\n",
       "      <td>2010-07</td>\n",
       "      <td>3.988</td>\n",
       "    </tr>\n",
       "    <tr>\n",
       "      <th>1</th>\n",
       "      <td>2010-08</td>\n",
       "      <td>3.896</td>\n",
       "    </tr>\n",
       "    <tr>\n",
       "      <th>2</th>\n",
       "      <td>2010-09</td>\n",
       "      <td>4.082</td>\n",
       "    </tr>\n",
       "    <tr>\n",
       "      <th>3</th>\n",
       "      <td>2010-10</td>\n",
       "      <td>4.368</td>\n",
       "    </tr>\n",
       "    <tr>\n",
       "      <th>4</th>\n",
       "      <td>2010-11</td>\n",
       "      <td>7.066</td>\n",
       "    </tr>\n",
       "  </tbody>\n",
       "</table>\n",
       "</div>"
      ],
      "text/plain": [
       "      Date  TSLA_price\n",
       "0  2010-07       3.988\n",
       "1  2010-08       3.896\n",
       "2  2010-09       4.082\n",
       "3  2010-10       4.368\n",
       "4  2010-11       7.066"
      ]
     },
     "execution_count": 3,
     "metadata": {},
     "output_type": "execute_result"
    }
   ],
   "source": [
    "# transformar a formato fecha la columna 'Date'\n",
    "df_tsla['Date'] = pd.to_datetime(df_tsla['Date'], format=\"%Y/%m/%d\")\n",
    "# conservar solo el año y el mes\n",
    "df_tsla['Date'] = df_tsla['Date'].dt.to_period('M')\n",
    "# descartar columnas no usadas\n",
    "df_tsla = df_tsla.drop(columns=['Open','High','Low','Close','Volume'], axis = 1)\n",
    "# renombrar columna 'Adj Close' por 'TSLA_price'\n",
    "df_tsla = df_tsla.rename({'Adj Close': 'TSLA_price'}, axis=1)\n",
    "df_tsla.head()"
   ]
  },
  {
   "cell_type": "markdown",
   "id": "01890aee",
   "metadata": {},
   "source": [
    "A continuación, se analiza el dataset del valor de las acciones del Bitcoin"
   ]
  },
  {
   "cell_type": "code",
   "execution_count": 4,
   "id": "d79ebec2",
   "metadata": {
    "scrolled": true
   },
   "outputs": [
    {
     "data": {
      "text/html": [
       "<div>\n",
       "<style scoped>\n",
       "    .dataframe tbody tr th:only-of-type {\n",
       "        vertical-align: middle;\n",
       "    }\n",
       "\n",
       "    .dataframe tbody tr th {\n",
       "        vertical-align: top;\n",
       "    }\n",
       "\n",
       "    .dataframe thead th {\n",
       "        text-align: right;\n",
       "    }\n",
       "</style>\n",
       "<table border=\"1\" class=\"dataframe\">\n",
       "  <thead>\n",
       "    <tr style=\"text-align: right;\">\n",
       "      <th></th>\n",
       "      <th>Date</th>\n",
       "      <th>BTC_price</th>\n",
       "    </tr>\n",
       "  </thead>\n",
       "  <tbody>\n",
       "    <tr>\n",
       "      <th>0</th>\n",
       "      <td>2021-12</td>\n",
       "      <td>57239</td>\n",
       "    </tr>\n",
       "    <tr>\n",
       "      <th>1</th>\n",
       "      <td>2021-11</td>\n",
       "      <td>60956</td>\n",
       "    </tr>\n",
       "    <tr>\n",
       "      <th>2</th>\n",
       "      <td>2021-10</td>\n",
       "      <td>48163</td>\n",
       "    </tr>\n",
       "    <tr>\n",
       "      <th>3</th>\n",
       "      <td>2021-09</td>\n",
       "      <td>48841</td>\n",
       "    </tr>\n",
       "    <tr>\n",
       "      <th>4</th>\n",
       "      <td>2021-08</td>\n",
       "      <td>39882</td>\n",
       "    </tr>\n",
       "  </tbody>\n",
       "</table>\n",
       "</div>"
      ],
      "text/plain": [
       "      Date  BTC_price\n",
       "0  2021-12      57239\n",
       "1  2021-11      60956\n",
       "2  2021-10      48163\n",
       "3  2021-09      48841\n",
       "4  2021-08      39882"
      ]
     },
     "execution_count": 4,
     "metadata": {},
     "output_type": "execute_result"
    }
   ],
   "source": [
    "# leer archivo csv con los valores promedio mensuales del bitcoin\n",
    "# y transformar a formato fecha las columnas 'Year' y 'Month'\n",
    "df_btc = pd.read_csv('BTC_prices.csv', sep=';', parse_dates= {'Date' : ['Year','Month']})\n",
    "# conservar solo el año y el mes\n",
    "df_btc['Date'] = df_btc['Date'].dt.to_period('M')\n",
    "df_btc.head()"
   ]
  },
  {
   "cell_type": "markdown",
   "id": "ef505952",
   "metadata": {},
   "source": [
    "Es posible que en algunos meses haya más de un valor asignado a una misma variable. Para evitar estos datos duplicados, se agrupan y se calcula el promedio de estos."
   ]
  },
  {
   "cell_type": "code",
   "execution_count": 5,
   "id": "31d6216e",
   "metadata": {},
   "outputs": [],
   "source": [
    "# agrupar datos de fechas repetidas y calcular promedio en ambos datasets\n",
    "df_btc = df_btc.groupby(['Date']).mean()\n",
    "df_tsla = df_tsla.groupby(['Date']).mean()"
   ]
  },
  {
   "cell_type": "code",
   "execution_count": 6,
   "id": "ce187a65",
   "metadata": {},
   "outputs": [
    {
     "name": "stdout",
     "output_type": "stream",
     "text": [
      "(138, 1) (139, 1)\n"
     ]
    }
   ],
   "source": [
    "# observamos la forma de ambos data frames\n",
    "print(df_btc.shape, df_tsla.shape)"
   ]
  },
  {
   "cell_type": "markdown",
   "id": "24f6b8e6",
   "metadata": {},
   "source": [
    "Finalmente, se unen ambos set de datos con las variables de nuestro interés (comparativa del valor de las acciones de Tesla y del Bitcoin en un determinado intervalo de tiempo)"
   ]
  },
  {
   "cell_type": "code",
   "execution_count": 13,
   "id": "97e64b43",
   "metadata": {
    "scrolled": true
   },
   "outputs": [
    {
     "data": {
      "text/html": [
       "<div>\n",
       "<style scoped>\n",
       "    .dataframe tbody tr th:only-of-type {\n",
       "        vertical-align: middle;\n",
       "    }\n",
       "\n",
       "    .dataframe tbody tr th {\n",
       "        vertical-align: top;\n",
       "    }\n",
       "\n",
       "    .dataframe thead th {\n",
       "        text-align: right;\n",
       "    }\n",
       "</style>\n",
       "<table border=\"1\" class=\"dataframe\">\n",
       "  <thead>\n",
       "    <tr style=\"text-align: right;\">\n",
       "      <th></th>\n",
       "      <th>BTC_price</th>\n",
       "      <th>TSLA_price</th>\n",
       "    </tr>\n",
       "    <tr>\n",
       "      <th>Date</th>\n",
       "      <th></th>\n",
       "      <th></th>\n",
       "    </tr>\n",
       "  </thead>\n",
       "  <tbody>\n",
       "    <tr>\n",
       "      <th>2021-08</th>\n",
       "      <td>39882</td>\n",
       "      <td>735.719971</td>\n",
       "    </tr>\n",
       "    <tr>\n",
       "      <th>2021-09</th>\n",
       "      <td>48841</td>\n",
       "      <td>775.479980</td>\n",
       "    </tr>\n",
       "    <tr>\n",
       "      <th>2021-10</th>\n",
       "      <td>48163</td>\n",
       "      <td>1114.000000</td>\n",
       "    </tr>\n",
       "    <tr>\n",
       "      <th>2021-11</th>\n",
       "      <td>60956</td>\n",
       "      <td>1144.760010</td>\n",
       "    </tr>\n",
       "    <tr>\n",
       "      <th>2021-12</th>\n",
       "      <td>57239</td>\n",
       "      <td>1056.780029</td>\n",
       "    </tr>\n",
       "  </tbody>\n",
       "</table>\n",
       "</div>"
      ],
      "text/plain": [
       "         BTC_price   TSLA_price\n",
       "Date                           \n",
       "2021-08      39882   735.719971\n",
       "2021-09      48841   775.479980\n",
       "2021-10      48163  1114.000000\n",
       "2021-11      60956  1144.760010\n",
       "2021-12      57239  1056.780029"
      ]
     },
     "execution_count": 13,
     "metadata": {},
     "output_type": "execute_result"
    }
   ],
   "source": [
    "# juntamos los dos dataframes para poder realizar los análisis de correlación \n",
    "# entre las variables 'BTC_price' y 'TSLA_price'\n",
    "df = pd.merge(df_btc,df_tsla,on='Date',how='inner')\n",
    "# mostramos los últimos registros de cada variable\n",
    "df.tail()"
   ]
  },
  {
   "cell_type": "markdown",
   "id": "f6067397",
   "metadata": {},
   "source": [
    "### 2. Escalamiento de datos (z-score) y Matriz de covarianza "
   ]
  },
  {
   "cell_type": "code",
   "execution_count": 26,
   "id": "fb45c0e6",
   "metadata": {},
   "outputs": [
    {
     "data": {
      "image/png": "[encoded data removed]",
      "text/plain": [
       "<Figure size 432x432 with 6 Axes>"
      ]
     },
     "metadata": {},
     "output_type": "display_data"
    }
   ],
   "source": [
    "# análisis visual de la correlación entre las dos variables\n",
    "sns.pairplot(df, height=3, kind='reg')\n",
    "plt.show()"
   ]
  },
  {
   "cell_type": "code",
   "execution_count": 16,
   "id": "c687cf22",
   "metadata": {},
   "outputs": [],
   "source": [
    "# escalamiento de los datos por medio de la técnica z-score\n",
    "scaler = StandardScaler()\n",
    "scaled = scaler.fit_transform(df[['BTC_price', 'TSLA_price']])"
   ]
  },
  {
   "cell_type": "code",
   "execution_count": 18,
   "id": "bae41fe0",
   "metadata": {},
   "outputs": [
    {
     "data": {
      "text/plain": [
       "array([[1.00729927, 0.92955173],\n",
       "       [0.92955173, 1.00729927]])"
      ]
     },
     "execution_count": 18,
     "metadata": {},
     "output_type": "execute_result"
    }
   ],
   "source": [
    "# cálculo de la matriz de covarianza\n",
    "covariance_matrix = np.cov(scaled.T)\n",
    "covariance_matrix"
   ]
  },
  {
   "cell_type": "code",
   "execution_count": 19,
   "id": "5ff19131",
   "metadata": {
    "scrolled": true
   },
   "outputs": [
    {
     "data": {
      "image/png": "[encoded data removed]",
      "text/plain": [
       "<Figure size 432x288 with 2 Axes>"
      ]
     },
     "metadata": {},
     "output_type": "display_data"
    }
   ],
   "source": [
    "# visualización de los resultados de la matriz de covarianza\n",
    "sns.heatmap(df.corr(), annot=True)\n",
    "plt.show()"
   ]
  },
  {
   "cell_type": "markdown",
   "id": "a4214726",
   "metadata": {},
   "source": [
    "Dado que las variables no se distribuyen normalmente, se procede a realizar una transformación usando la tangente hiperbólica para, eventualmente, obtener una curva normal sobre los datos no lineales."
   ]
  },
  {
   "cell_type": "code",
   "execution_count": 46,
   "id": "bfe998f6",
   "metadata": {
    "scrolled": true
   },
   "outputs": [
    {
     "data": {
      "image/png": "[encoded data removed]",
      "text/plain": [
       "<Figure size 432x288 with 1 Axes>"
      ]
     },
     "metadata": {},
     "output_type": "display_data"
    }
   ],
   "source": [
    "# transformacion con la tangente hiperbolica tanh(x)\n",
    "p = 100\n",
    "df.TSLA_price.apply(lambda x: np.tanh(x/p)).hist()\n",
    "plt.show()"
   ]
  },
  {
   "cell_type": "code",
   "execution_count": 70,
   "id": "b47d5763",
   "metadata": {
    "scrolled": false
   },
   "outputs": [
    {
     "data": {
      "image/png": "[encoded data removed]",
      "text/plain": [
       "<Figure size 432x288 with 1 Axes>"
      ]
     },
     "metadata": {},
     "output_type": "display_data"
    }
   ],
   "source": [
    "# transformacion con la tangente hiperbolica tanh(x)\n",
    "p = 2800\n",
    "df.BTC_price.apply(lambda x: np.tanh(x/p)).hist()\n",
    "plt.show()"
   ]
  },
  {
   "cell_type": "markdown",
   "id": "26f99433",
   "metadata": {},
   "source": [
    "En ambos casos se observa que esta transformación no es posible, porque las nuevas distribuciones obtenidas no representan el comportamiento de una curva con distribución normal."
   ]
  },
  {
   "cell_type": "markdown",
   "id": "108142b6",
   "metadata": {},
   "source": [
    "### 3. Conclusiones\n",
    "* El análisis de la Matriz de Covarianza, nos podría llevar equivocadamente a deducir una fuerte correlación entre las variables. Pero, por otra parte, el análisis de las gráficas en la visualización 'pairplot' nos ofrecen una idea respecto a que los datos no se distribuyen normalmente, y por ende la aplicación del escalamiento 'z-score' no correspondía.\n",
    "* Finalmente, al intentar normalizar estas variables mediante una transformación con la tangente hiperbólica, tampoco se pudo conseguir. \n",
    "* Cabe señalar que siempre debe someterse a escrutinio la correlación entre variables, indagando la naturaleza de cada una. \n",
    "\n",
    "\n",
    "Para cerrar, cito textual desde [Wikipedia](https://es.wikipedia.org/wiki/Relaci%C3%B3n_espuria):\n",
    "> *En la práctica, se deben cumplir tres condiciones para poder concluir que X causa Y, directa o indirectamente:*\n",
    "> - *X debe preceder a Y.*\n",
    "> - *Si Y no ocurre entonces X no ocurre.*\n",
    "> - *Y debe ocurrir cada vez que X ocurra.*\n",
    ">\n",
    "> *Las relaciones espurias a menudo pueden ser identificadas considerando que cualquiera de estas condiciones ha sido violada.*"
   ]
  }
 ],
 "metadata": {
  "kernelspec": {
   "display_name": "Python 3 (ipykernel)",
   "language": "python",
   "name": "python3"
  },
  "language_info": {
   "codemirror_mode": {
    "name": "ipython",
    "version": 3
   },
   "file_extension": ".py",
   "mimetype": "text/x-python",
   "name": "python",
   "nbconvert_exporter": "python",
   "pygments_lexer": "ipython3",
   "version": "3.8.12"
  },
  "toc": {
   "base_numbering": 1,
   "nav_menu": {},
   "number_sections": true,
   "sideBar": true,
   "skip_h1_title": true,
   "title_cell": "Table of Contents",
   "title_sidebar": "Contents",
   "toc_cell": false,
   "toc_position": {},
   "toc_section_display": true,
   "toc_window_display": false
  },
  "varInspector": {
   "cols": {
    "lenName": 16,
    "lenType": 16,
    "lenVar": 40
   },
   "kernels_config": {
    "python": {
     "delete_cmd_postfix": "",
     "delete_cmd_prefix": "del ",
     "library": "var_list.py",
     "varRefreshCmd": "print(var_dic_list())"
    },
    "r": {
     "delete_cmd_postfix": ") ",
     "delete_cmd_prefix": "rm(",
     "library": "var_list.r",
     "varRefreshCmd": "cat(var_dic_list()) "
    }
   },
   "types_to_exclude": [
    "module",
    "function",
    "builtin_function_or_method",
    "instance",
    "_Feature"
   ],
   "window_display": false
  }
 },
 "nbformat": 4,
 "nbformat_minor": 5
}
