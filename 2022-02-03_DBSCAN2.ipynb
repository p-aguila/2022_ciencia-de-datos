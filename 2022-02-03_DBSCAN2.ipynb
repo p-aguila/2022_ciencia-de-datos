{
 "cells": [
  {
   "cell_type": "code",
   "execution_count": 1,
   "id": "617b6115",
   "metadata": {},
   "outputs": [],
   "source": [
    "# analizar anomalias en informacion financiera de tarjetas de credito"
   ]
  },
  {
   "cell_type": "code",
   "execution_count": 2,
   "id": "29c5ca2c",
   "metadata": {},
   "outputs": [
    {
     "name": "stdout",
     "output_type": "stream",
     "text": [
      "Last updated: 2022-02-03T16:24:21.586640-03:00\n",
      "\n",
      "Python implementation: CPython\n",
      "Python version       : 3.8.12\n",
      "IPython version      : 7.29.0\n",
      "\n",
      "Compiler    : MSC v.1916 64 bit (AMD64)\n",
      "OS          : Windows\n",
      "Release     : 10\n",
      "Machine     : AMD64\n",
      "Processor   : Intel64 Family 6 Model 158 Stepping 10, GenuineIntel\n",
      "CPU cores   : 12\n",
      "Architecture: 64bit\n",
      "\n"
     ]
    }
   ],
   "source": [
    "%load_ext watermark\n",
    "%watermark"
   ]
  },
  {
   "cell_type": "code",
   "execution_count": 3,
   "id": "88855a8c",
   "metadata": {},
   "outputs": [],
   "source": [
    "import pandas as pd"
   ]
  },
  {
   "cell_type": "code",
   "execution_count": 4,
   "id": "9cf64e4f",
   "metadata": {},
   "outputs": [],
   "source": [
    "df = pd.read_csv('../Ejercicios_Propios/datasets/credit_card.csv')"
   ]
  },
  {
   "cell_type": "code",
   "execution_count": 5,
   "id": "b6853091",
   "metadata": {},
   "outputs": [
    {
     "data": {
      "text/plain": [
       "(8950, 18)"
      ]
     },
     "execution_count": 5,
     "metadata": {},
     "output_type": "execute_result"
    }
   ],
   "source": [
    "df.shape"
   ]
  },
  {
   "cell_type": "code",
   "execution_count": 6,
   "id": "a1c72272",
   "metadata": {},
   "outputs": [
    {
     "data": {
      "text/plain": [
       "CUST_ID                              object\n",
       "BALANCE                             float64\n",
       "BALANCE_FREQUENCY                   float64\n",
       "PURCHASES                           float64\n",
       "ONEOFF_PURCHASES                    float64\n",
       "INSTALLMENTS_PURCHASES              float64\n",
       "CASH_ADVANCE                        float64\n",
       "PURCHASES_FREQUENCY                 float64\n",
       "ONEOFF_PURCHASES_FREQUENCY          float64\n",
       "PURCHASES_INSTALLMENTS_FREQUENCY    float64\n",
       "CASH_ADVANCE_FREQUENCY              float64\n",
       "CASH_ADVANCE_TRX                      int64\n",
       "PURCHASES_TRX                         int64\n",
       "CREDIT_LIMIT                        float64\n",
       "PAYMENTS                            float64\n",
       "MINIMUM_PAYMENTS                    float64\n",
       "PRC_FULL_PAYMENT                    float64\n",
       "TENURE                                int64\n",
       "dtype: object"
      ]
     },
     "execution_count": 6,
     "metadata": {},
     "output_type": "execute_result"
    }
   ],
   "source": [
    "df.dtypes"
   ]
  },
  {
   "cell_type": "code",
   "execution_count": 7,
   "id": "30fec6f2",
   "metadata": {},
   "outputs": [
    {
     "data": {
      "text/html": [
       "<div>\n",
       "<style scoped>\n",
       "    .dataframe tbody tr th:only-of-type {\n",
       "        vertical-align: middle;\n",
       "    }\n",
       "\n",
       "    .dataframe tbody tr th {\n",
       "        vertical-align: top;\n",
       "    }\n",
       "\n",
       "    .dataframe thead th {\n",
       "        text-align: right;\n",
       "    }\n",
       "</style>\n",
       "<table border=\"1\" class=\"dataframe\">\n",
       "  <thead>\n",
       "    <tr style=\"text-align: right;\">\n",
       "      <th></th>\n",
       "      <th>BALANCE</th>\n",
       "      <th>BALANCE_FREQUENCY</th>\n",
       "      <th>PURCHASES</th>\n",
       "      <th>ONEOFF_PURCHASES</th>\n",
       "      <th>INSTALLMENTS_PURCHASES</th>\n",
       "      <th>CASH_ADVANCE</th>\n",
       "      <th>PURCHASES_FREQUENCY</th>\n",
       "      <th>ONEOFF_PURCHASES_FREQUENCY</th>\n",
       "      <th>PURCHASES_INSTALLMENTS_FREQUENCY</th>\n",
       "      <th>CASH_ADVANCE_FREQUENCY</th>\n",
       "      <th>CASH_ADVANCE_TRX</th>\n",
       "      <th>PURCHASES_TRX</th>\n",
       "      <th>CREDIT_LIMIT</th>\n",
       "      <th>PAYMENTS</th>\n",
       "      <th>MINIMUM_PAYMENTS</th>\n",
       "      <th>PRC_FULL_PAYMENT</th>\n",
       "      <th>TENURE</th>\n",
       "    </tr>\n",
       "  </thead>\n",
       "  <tbody>\n",
       "    <tr>\n",
       "      <th>0</th>\n",
       "      <td>40.900749</td>\n",
       "      <td>0.818182</td>\n",
       "      <td>95.40</td>\n",
       "      <td>0.00</td>\n",
       "      <td>95.4</td>\n",
       "      <td>0.000000</td>\n",
       "      <td>0.166667</td>\n",
       "      <td>0.000000</td>\n",
       "      <td>0.083333</td>\n",
       "      <td>0.000000</td>\n",
       "      <td>0</td>\n",
       "      <td>2</td>\n",
       "      <td>1000.0</td>\n",
       "      <td>201.802084</td>\n",
       "      <td>139.509787</td>\n",
       "      <td>0.000000</td>\n",
       "      <td>12</td>\n",
       "    </tr>\n",
       "    <tr>\n",
       "      <th>1</th>\n",
       "      <td>3202.467416</td>\n",
       "      <td>0.909091</td>\n",
       "      <td>0.00</td>\n",
       "      <td>0.00</td>\n",
       "      <td>0.0</td>\n",
       "      <td>6442.945483</td>\n",
       "      <td>0.000000</td>\n",
       "      <td>0.000000</td>\n",
       "      <td>0.000000</td>\n",
       "      <td>0.250000</td>\n",
       "      <td>4</td>\n",
       "      <td>0</td>\n",
       "      <td>7000.0</td>\n",
       "      <td>4103.032597</td>\n",
       "      <td>1072.340217</td>\n",
       "      <td>0.222222</td>\n",
       "      <td>12</td>\n",
       "    </tr>\n",
       "    <tr>\n",
       "      <th>2</th>\n",
       "      <td>2495.148862</td>\n",
       "      <td>1.000000</td>\n",
       "      <td>773.17</td>\n",
       "      <td>773.17</td>\n",
       "      <td>0.0</td>\n",
       "      <td>0.000000</td>\n",
       "      <td>1.000000</td>\n",
       "      <td>1.000000</td>\n",
       "      <td>0.000000</td>\n",
       "      <td>0.000000</td>\n",
       "      <td>0</td>\n",
       "      <td>12</td>\n",
       "      <td>7500.0</td>\n",
       "      <td>622.066742</td>\n",
       "      <td>627.284787</td>\n",
       "      <td>0.000000</td>\n",
       "      <td>12</td>\n",
       "    </tr>\n",
       "    <tr>\n",
       "      <th>3</th>\n",
       "      <td>1666.670542</td>\n",
       "      <td>0.636364</td>\n",
       "      <td>1499.00</td>\n",
       "      <td>1499.00</td>\n",
       "      <td>0.0</td>\n",
       "      <td>205.788017</td>\n",
       "      <td>0.083333</td>\n",
       "      <td>0.083333</td>\n",
       "      <td>0.000000</td>\n",
       "      <td>0.083333</td>\n",
       "      <td>1</td>\n",
       "      <td>1</td>\n",
       "      <td>7500.0</td>\n",
       "      <td>0.000000</td>\n",
       "      <td>NaN</td>\n",
       "      <td>0.000000</td>\n",
       "      <td>12</td>\n",
       "    </tr>\n",
       "    <tr>\n",
       "      <th>4</th>\n",
       "      <td>817.714335</td>\n",
       "      <td>1.000000</td>\n",
       "      <td>16.00</td>\n",
       "      <td>16.00</td>\n",
       "      <td>0.0</td>\n",
       "      <td>0.000000</td>\n",
       "      <td>0.083333</td>\n",
       "      <td>0.083333</td>\n",
       "      <td>0.000000</td>\n",
       "      <td>0.000000</td>\n",
       "      <td>0</td>\n",
       "      <td>1</td>\n",
       "      <td>1200.0</td>\n",
       "      <td>678.334763</td>\n",
       "      <td>244.791237</td>\n",
       "      <td>0.000000</td>\n",
       "      <td>12</td>\n",
       "    </tr>\n",
       "  </tbody>\n",
       "</table>\n",
       "</div>"
      ],
      "text/plain": [
       "       BALANCE  BALANCE_FREQUENCY  PURCHASES  ONEOFF_PURCHASES  \\\n",
       "0    40.900749           0.818182      95.40              0.00   \n",
       "1  3202.467416           0.909091       0.00              0.00   \n",
       "2  2495.148862           1.000000     773.17            773.17   \n",
       "3  1666.670542           0.636364    1499.00           1499.00   \n",
       "4   817.714335           1.000000      16.00             16.00   \n",
       "\n",
       "   INSTALLMENTS_PURCHASES  CASH_ADVANCE  PURCHASES_FREQUENCY  \\\n",
       "0                    95.4      0.000000             0.166667   \n",
       "1                     0.0   6442.945483             0.000000   \n",
       "2                     0.0      0.000000             1.000000   \n",
       "3                     0.0    205.788017             0.083333   \n",
       "4                     0.0      0.000000             0.083333   \n",
       "\n",
       "   ONEOFF_PURCHASES_FREQUENCY  PURCHASES_INSTALLMENTS_FREQUENCY  \\\n",
       "0                    0.000000                          0.083333   \n",
       "1                    0.000000                          0.000000   \n",
       "2                    1.000000                          0.000000   \n",
       "3                    0.083333                          0.000000   \n",
       "4                    0.083333                          0.000000   \n",
       "\n",
       "   CASH_ADVANCE_FREQUENCY  CASH_ADVANCE_TRX  PURCHASES_TRX  CREDIT_LIMIT  \\\n",
       "0                0.000000                 0              2        1000.0   \n",
       "1                0.250000                 4              0        7000.0   \n",
       "2                0.000000                 0             12        7500.0   \n",
       "3                0.083333                 1              1        7500.0   \n",
       "4                0.000000                 0              1        1200.0   \n",
       "\n",
       "      PAYMENTS  MINIMUM_PAYMENTS  PRC_FULL_PAYMENT  TENURE  \n",
       "0   201.802084        139.509787          0.000000      12  \n",
       "1  4103.032597       1072.340217          0.222222      12  \n",
       "2   622.066742        627.284787          0.000000      12  \n",
       "3     0.000000               NaN          0.000000      12  \n",
       "4   678.334763        244.791237          0.000000      12  "
      ]
     },
     "execution_count": 7,
     "metadata": {},
     "output_type": "execute_result"
    }
   ],
   "source": [
    "df = df.drop(columns='CUST_ID')\n",
    "df.head()"
   ]
  },
  {
   "cell_type": "code",
   "execution_count": 8,
   "id": "30f93a92",
   "metadata": {},
   "outputs": [
    {
     "data": {
      "text/plain": [
       "Index(['CREDIT_LIMIT', 'MINIMUM_PAYMENTS'], dtype='object')"
      ]
     },
     "execution_count": 8,
     "metadata": {},
     "output_type": "execute_result"
    }
   ],
   "source": [
    "df.columns[df.isnull().any()]"
   ]
  },
  {
   "cell_type": "code",
   "execution_count": 9,
   "id": "1d3d5ada",
   "metadata": {},
   "outputs": [
    {
     "data": {
      "text/plain": [
       "BALANCE                               0\n",
       "BALANCE_FREQUENCY                     0\n",
       "PURCHASES                             0\n",
       "ONEOFF_PURCHASES                      0\n",
       "INSTALLMENTS_PURCHASES                0\n",
       "CASH_ADVANCE                          0\n",
       "PURCHASES_FREQUENCY                   0\n",
       "ONEOFF_PURCHASES_FREQUENCY            0\n",
       "PURCHASES_INSTALLMENTS_FREQUENCY      0\n",
       "CASH_ADVANCE_FREQUENCY                0\n",
       "CASH_ADVANCE_TRX                      0\n",
       "PURCHASES_TRX                         0\n",
       "CREDIT_LIMIT                          1\n",
       "PAYMENTS                              0\n",
       "MINIMUM_PAYMENTS                    313\n",
       "PRC_FULL_PAYMENT                      0\n",
       "TENURE                                0\n",
       "dtype: int64"
      ]
     },
     "execution_count": 9,
     "metadata": {},
     "output_type": "execute_result"
    }
   ],
   "source": [
    "df.isnull().sum()"
   ]
  },
  {
   "cell_type": "code",
   "execution_count": 10,
   "id": "d46271cc",
   "metadata": {},
   "outputs": [],
   "source": [
    "df = df.fillna(0)"
   ]
  },
  {
   "cell_type": "code",
   "execution_count": 11,
   "id": "47c19b18",
   "metadata": {},
   "outputs": [
    {
     "data": {
      "text/plain": [
       "Index([], dtype='object')"
      ]
     },
     "execution_count": 11,
     "metadata": {},
     "output_type": "execute_result"
    }
   ],
   "source": [
    "df.columns[df.isnull().any()]"
   ]
  },
  {
   "cell_type": "code",
   "execution_count": 12,
   "id": "e782cf60",
   "metadata": {},
   "outputs": [
    {
     "data": {
      "text/plain": [
       "BALANCE                             0\n",
       "BALANCE_FREQUENCY                   0\n",
       "PURCHASES                           0\n",
       "ONEOFF_PURCHASES                    0\n",
       "INSTALLMENTS_PURCHASES              0\n",
       "CASH_ADVANCE                        0\n",
       "PURCHASES_FREQUENCY                 0\n",
       "ONEOFF_PURCHASES_FREQUENCY          0\n",
       "PURCHASES_INSTALLMENTS_FREQUENCY    0\n",
       "CASH_ADVANCE_FREQUENCY              0\n",
       "CASH_ADVANCE_TRX                    0\n",
       "PURCHASES_TRX                       0\n",
       "CREDIT_LIMIT                        0\n",
       "PAYMENTS                            0\n",
       "MINIMUM_PAYMENTS                    0\n",
       "PRC_FULL_PAYMENT                    0\n",
       "TENURE                              0\n",
       "dtype: int64"
      ]
     },
     "execution_count": 12,
     "metadata": {},
     "output_type": "execute_result"
    }
   ],
   "source": [
    "df.isnull().sum()"
   ]
  },
  {
   "cell_type": "code",
   "execution_count": 13,
   "id": "c6f42dca",
   "metadata": {},
   "outputs": [],
   "source": [
    "from sklearn.preprocessing import StandardScaler"
   ]
  },
  {
   "cell_type": "code",
   "execution_count": 14,
   "id": "f854b951",
   "metadata": {},
   "outputs": [],
   "source": [
    "df_normalizado = pd.DataFrame(StandardScaler().fit_transform(df))"
   ]
  },
  {
   "cell_type": "code",
   "execution_count": 15,
   "id": "dab2fd68",
   "metadata": {},
   "outputs": [
    {
     "data": {
      "text/html": [
       "<div>\n",
       "<style scoped>\n",
       "    .dataframe tbody tr th:only-of-type {\n",
       "        vertical-align: middle;\n",
       "    }\n",
       "\n",
       "    .dataframe tbody tr th {\n",
       "        vertical-align: top;\n",
       "    }\n",
       "\n",
       "    .dataframe thead th {\n",
       "        text-align: right;\n",
       "    }\n",
       "</style>\n",
       "<table border=\"1\" class=\"dataframe\">\n",
       "  <thead>\n",
       "    <tr style=\"text-align: right;\">\n",
       "      <th></th>\n",
       "      <th>0</th>\n",
       "      <th>1</th>\n",
       "      <th>2</th>\n",
       "      <th>3</th>\n",
       "      <th>4</th>\n",
       "      <th>5</th>\n",
       "      <th>6</th>\n",
       "      <th>7</th>\n",
       "      <th>8</th>\n",
       "      <th>9</th>\n",
       "      <th>10</th>\n",
       "      <th>11</th>\n",
       "      <th>12</th>\n",
       "      <th>13</th>\n",
       "      <th>14</th>\n",
       "      <th>15</th>\n",
       "      <th>16</th>\n",
       "    </tr>\n",
       "  </thead>\n",
       "  <tbody>\n",
       "    <tr>\n",
       "      <th>0</th>\n",
       "      <td>-0.731989</td>\n",
       "      <td>-0.249434</td>\n",
       "      <td>-0.424900</td>\n",
       "      <td>-0.356934</td>\n",
       "      <td>-0.349079</td>\n",
       "      <td>-0.466786</td>\n",
       "      <td>-0.806490</td>\n",
       "      <td>-0.678661</td>\n",
       "      <td>-0.707313</td>\n",
       "      <td>-0.675349</td>\n",
       "      <td>-0.476070</td>\n",
       "      <td>-0.511333</td>\n",
       "      <td>-0.960213</td>\n",
       "      <td>-0.528979</td>\n",
       "      <td>-0.297310</td>\n",
       "      <td>-0.525551</td>\n",
       "      <td>0.360680</td>\n",
       "    </tr>\n",
       "    <tr>\n",
       "      <th>1</th>\n",
       "      <td>0.786961</td>\n",
       "      <td>0.134325</td>\n",
       "      <td>-0.469552</td>\n",
       "      <td>-0.356934</td>\n",
       "      <td>-0.454576</td>\n",
       "      <td>2.605605</td>\n",
       "      <td>-1.221758</td>\n",
       "      <td>-0.678661</td>\n",
       "      <td>-0.916995</td>\n",
       "      <td>0.573963</td>\n",
       "      <td>0.110074</td>\n",
       "      <td>-0.591796</td>\n",
       "      <td>0.688718</td>\n",
       "      <td>0.818642</td>\n",
       "      <td>0.102042</td>\n",
       "      <td>0.234227</td>\n",
       "      <td>0.360680</td>\n",
       "    </tr>\n",
       "    <tr>\n",
       "      <th>2</th>\n",
       "      <td>0.447135</td>\n",
       "      <td>0.518084</td>\n",
       "      <td>-0.107668</td>\n",
       "      <td>0.108889</td>\n",
       "      <td>-0.454576</td>\n",
       "      <td>-0.466786</td>\n",
       "      <td>1.269843</td>\n",
       "      <td>2.673451</td>\n",
       "      <td>-0.916995</td>\n",
       "      <td>-0.675349</td>\n",
       "      <td>-0.476070</td>\n",
       "      <td>-0.109020</td>\n",
       "      <td>0.826129</td>\n",
       "      <td>-0.383805</td>\n",
       "      <td>-0.088489</td>\n",
       "      <td>-0.525551</td>\n",
       "      <td>0.360680</td>\n",
       "    </tr>\n",
       "    <tr>\n",
       "      <th>3</th>\n",
       "      <td>0.049099</td>\n",
       "      <td>-1.016953</td>\n",
       "      <td>0.232058</td>\n",
       "      <td>0.546189</td>\n",
       "      <td>-0.454576</td>\n",
       "      <td>-0.368653</td>\n",
       "      <td>-1.014125</td>\n",
       "      <td>-0.399319</td>\n",
       "      <td>-0.916995</td>\n",
       "      <td>-0.258913</td>\n",
       "      <td>-0.329534</td>\n",
       "      <td>-0.551565</td>\n",
       "      <td>0.826129</td>\n",
       "      <td>-0.598688</td>\n",
       "      <td>-0.357035</td>\n",
       "      <td>-0.525551</td>\n",
       "      <td>0.360680</td>\n",
       "    </tr>\n",
       "    <tr>\n",
       "      <th>4</th>\n",
       "      <td>-0.358775</td>\n",
       "      <td>0.518084</td>\n",
       "      <td>-0.462063</td>\n",
       "      <td>-0.347294</td>\n",
       "      <td>-0.454576</td>\n",
       "      <td>-0.466786</td>\n",
       "      <td>-1.014125</td>\n",
       "      <td>-0.399319</td>\n",
       "      <td>-0.916995</td>\n",
       "      <td>-0.675349</td>\n",
       "      <td>-0.476070</td>\n",
       "      <td>-0.551565</td>\n",
       "      <td>-0.905249</td>\n",
       "      <td>-0.364368</td>\n",
       "      <td>-0.252238</td>\n",
       "      <td>-0.525551</td>\n",
       "      <td>0.360680</td>\n",
       "    </tr>\n",
       "    <tr>\n",
       "      <th>...</th>\n",
       "      <td>...</td>\n",
       "      <td>...</td>\n",
       "      <td>...</td>\n",
       "      <td>...</td>\n",
       "      <td>...</td>\n",
       "      <td>...</td>\n",
       "      <td>...</td>\n",
       "      <td>...</td>\n",
       "      <td>...</td>\n",
       "      <td>...</td>\n",
       "      <td>...</td>\n",
       "      <td>...</td>\n",
       "      <td>...</td>\n",
       "      <td>...</td>\n",
       "      <td>...</td>\n",
       "      <td>...</td>\n",
       "      <td>...</td>\n",
       "    </tr>\n",
       "    <tr>\n",
       "      <th>8945</th>\n",
       "      <td>-0.737950</td>\n",
       "      <td>0.518084</td>\n",
       "      <td>-0.333293</td>\n",
       "      <td>-0.356934</td>\n",
       "      <td>-0.132643</td>\n",
       "      <td>-0.466786</td>\n",
       "      <td>1.269843</td>\n",
       "      <td>-0.678661</td>\n",
       "      <td>1.179833</td>\n",
       "      <td>-0.675349</td>\n",
       "      <td>-0.476070</td>\n",
       "      <td>-0.350408</td>\n",
       "      <td>-0.960213</td>\n",
       "      <td>-0.486217</td>\n",
       "      <td>-0.336106</td>\n",
       "      <td>1.183951</td>\n",
       "      <td>-4.122768</td>\n",
       "    </tr>\n",
       "    <tr>\n",
       "      <th>8946</th>\n",
       "      <td>-0.742423</td>\n",
       "      <td>0.518084</td>\n",
       "      <td>-0.329136</td>\n",
       "      <td>-0.356934</td>\n",
       "      <td>-0.122823</td>\n",
       "      <td>-0.466786</td>\n",
       "      <td>1.269843</td>\n",
       "      <td>-0.678661</td>\n",
       "      <td>1.179833</td>\n",
       "      <td>-0.675349</td>\n",
       "      <td>-0.476070</td>\n",
       "      <td>-0.350408</td>\n",
       "      <td>-0.960213</td>\n",
       "      <td>-0.503396</td>\n",
       "      <td>-0.357035</td>\n",
       "      <td>-0.525551</td>\n",
       "      <td>-4.122768</td>\n",
       "    </tr>\n",
       "    <tr>\n",
       "      <th>8947</th>\n",
       "      <td>-0.740398</td>\n",
       "      <td>-0.185477</td>\n",
       "      <td>-0.401965</td>\n",
       "      <td>-0.356934</td>\n",
       "      <td>-0.294893</td>\n",
       "      <td>-0.466786</td>\n",
       "      <td>0.854576</td>\n",
       "      <td>-0.678661</td>\n",
       "      <td>0.760469</td>\n",
       "      <td>-0.675349</td>\n",
       "      <td>-0.476070</td>\n",
       "      <td>-0.390639</td>\n",
       "      <td>-0.960213</td>\n",
       "      <td>-0.570615</td>\n",
       "      <td>-0.321751</td>\n",
       "      <td>0.329200</td>\n",
       "      <td>-4.122768</td>\n",
       "    </tr>\n",
       "    <tr>\n",
       "      <th>8948</th>\n",
       "      <td>-0.745174</td>\n",
       "      <td>-0.185477</td>\n",
       "      <td>-0.469552</td>\n",
       "      <td>-0.356934</td>\n",
       "      <td>-0.454576</td>\n",
       "      <td>-0.449352</td>\n",
       "      <td>-1.221758</td>\n",
       "      <td>-0.678661</td>\n",
       "      <td>-0.916995</td>\n",
       "      <td>0.157527</td>\n",
       "      <td>-0.182998</td>\n",
       "      <td>-0.591796</td>\n",
       "      <td>-1.097624</td>\n",
       "      <td>-0.580536</td>\n",
       "      <td>-0.333166</td>\n",
       "      <td>0.329200</td>\n",
       "      <td>-4.122768</td>\n",
       "    </tr>\n",
       "    <tr>\n",
       "      <th>8949</th>\n",
       "      <td>-0.572575</td>\n",
       "      <td>-0.889033</td>\n",
       "      <td>0.042146</td>\n",
       "      <td>0.301732</td>\n",
       "      <td>-0.454576</td>\n",
       "      <td>-0.406205</td>\n",
       "      <td>0.439310</td>\n",
       "      <td>1.556082</td>\n",
       "      <td>-0.916995</td>\n",
       "      <td>0.990398</td>\n",
       "      <td>-0.182998</td>\n",
       "      <td>0.333524</td>\n",
       "      <td>-0.905249</td>\n",
       "      <td>-0.576869</td>\n",
       "      <td>-0.319238</td>\n",
       "      <td>-0.525551</td>\n",
       "      <td>-4.122768</td>\n",
       "    </tr>\n",
       "  </tbody>\n",
       "</table>\n",
       "<p>8950 rows × 17 columns</p>\n",
       "</div>"
      ],
      "text/plain": [
       "            0         1         2         3         4         5         6   \\\n",
       "0    -0.731989 -0.249434 -0.424900 -0.356934 -0.349079 -0.466786 -0.806490   \n",
       "1     0.786961  0.134325 -0.469552 -0.356934 -0.454576  2.605605 -1.221758   \n",
       "2     0.447135  0.518084 -0.107668  0.108889 -0.454576 -0.466786  1.269843   \n",
       "3     0.049099 -1.016953  0.232058  0.546189 -0.454576 -0.368653 -1.014125   \n",
       "4    -0.358775  0.518084 -0.462063 -0.347294 -0.454576 -0.466786 -1.014125   \n",
       "...        ...       ...       ...       ...       ...       ...       ...   \n",
       "8945 -0.737950  0.518084 -0.333293 -0.356934 -0.132643 -0.466786  1.269843   \n",
       "8946 -0.742423  0.518084 -0.329136 -0.356934 -0.122823 -0.466786  1.269843   \n",
       "8947 -0.740398 -0.185477 -0.401965 -0.356934 -0.294893 -0.466786  0.854576   \n",
       "8948 -0.745174 -0.185477 -0.469552 -0.356934 -0.454576 -0.449352 -1.221758   \n",
       "8949 -0.572575 -0.889033  0.042146  0.301732 -0.454576 -0.406205  0.439310   \n",
       "\n",
       "            7         8         9         10        11        12        13  \\\n",
       "0    -0.678661 -0.707313 -0.675349 -0.476070 -0.511333 -0.960213 -0.528979   \n",
       "1    -0.678661 -0.916995  0.573963  0.110074 -0.591796  0.688718  0.818642   \n",
       "2     2.673451 -0.916995 -0.675349 -0.476070 -0.109020  0.826129 -0.383805   \n",
       "3    -0.399319 -0.916995 -0.258913 -0.329534 -0.551565  0.826129 -0.598688   \n",
       "4    -0.399319 -0.916995 -0.675349 -0.476070 -0.551565 -0.905249 -0.364368   \n",
       "...        ...       ...       ...       ...       ...       ...       ...   \n",
       "8945 -0.678661  1.179833 -0.675349 -0.476070 -0.350408 -0.960213 -0.486217   \n",
       "8946 -0.678661  1.179833 -0.675349 -0.476070 -0.350408 -0.960213 -0.503396   \n",
       "8947 -0.678661  0.760469 -0.675349 -0.476070 -0.390639 -0.960213 -0.570615   \n",
       "8948 -0.678661 -0.916995  0.157527 -0.182998 -0.591796 -1.097624 -0.580536   \n",
       "8949  1.556082 -0.916995  0.990398 -0.182998  0.333524 -0.905249 -0.576869   \n",
       "\n",
       "            14        15        16  \n",
       "0    -0.297310 -0.525551  0.360680  \n",
       "1     0.102042  0.234227  0.360680  \n",
       "2    -0.088489 -0.525551  0.360680  \n",
       "3    -0.357035 -0.525551  0.360680  \n",
       "4    -0.252238 -0.525551  0.360680  \n",
       "...        ...       ...       ...  \n",
       "8945 -0.336106  1.183951 -4.122768  \n",
       "8946 -0.357035 -0.525551 -4.122768  \n",
       "8947 -0.321751  0.329200 -4.122768  \n",
       "8948 -0.333166  0.329200 -4.122768  \n",
       "8949 -0.319238 -0.525551 -4.122768  \n",
       "\n",
       "[8950 rows x 17 columns]"
      ]
     },
     "execution_count": 15,
     "metadata": {},
     "output_type": "execute_result"
    }
   ],
   "source": [
    "df_normalizado"
   ]
  },
  {
   "cell_type": "code",
   "execution_count": 16,
   "id": "3be69a0d",
   "metadata": {},
   "outputs": [],
   "source": [
    "from sklearn.cluster import DBSCAN"
   ]
  },
  {
   "cell_type": "code",
   "execution_count": 17,
   "id": "df21da51",
   "metadata": {},
   "outputs": [],
   "source": [
    "estimador_dbscan = DBSCAN()"
   ]
  },
  {
   "cell_type": "code",
   "execution_count": 18,
   "id": "a18db2da",
   "metadata": {},
   "outputs": [
    {
     "data": {
      "text/plain": [
       "array([ 0, -1, -1, ..., -1, -1, -1], dtype=int64)"
      ]
     },
     "execution_count": 18,
     "metadata": {},
     "output_type": "execute_result"
    }
   ],
   "source": [
    "labels = estimador_dbscan.fit_predict(df_normalizado)\n",
    "labels"
   ]
  },
  {
   "cell_type": "code",
   "execution_count": 19,
   "id": "fc49aa3d",
   "metadata": {},
   "outputs": [
    {
     "data": {
      "text/plain": [
       "-1     6627\n",
       " 0     1948\n",
       " 10      60\n",
       " 2       34\n",
       " 15      30\n",
       " 14      23\n",
       " 7       23\n",
       " 8       14\n",
       " 6       13\n",
       " 3       11\n",
       " 29      10\n",
       " 21       9\n",
       " 5        9\n",
       " 9        8\n",
       " 26       8\n",
       " 12       8\n",
       " 1        8\n",
       " 17       7\n",
       " 19       7\n",
       " 27       7\n",
       " 11       7\n",
       " 13       6\n",
       " 4        6\n",
       " 23       6\n",
       " 31       5\n",
       " 35       5\n",
       " 16       5\n",
       " 18       5\n",
       " 25       5\n",
       " 24       5\n",
       " 28       5\n",
       " 20       5\n",
       " 22       5\n",
       " 30       5\n",
       " 34       4\n",
       " 32       4\n",
       " 33       3\n",
       "dtype: int64"
      ]
     },
     "execution_count": 19,
     "metadata": {},
     "output_type": "execute_result"
    }
   ],
   "source": [
    "pd.Series(labels).value_counts()"
   ]
  },
  {
   "cell_type": "code",
   "execution_count": 20,
   "id": "65d4566e",
   "metadata": {},
   "outputs": [
    {
     "data": {
      "text/plain": [
       "{'algorithm': 'auto',\n",
       " 'eps': 0.5,\n",
       " 'leaf_size': 30,\n",
       " 'metric': 'euclidean',\n",
       " 'metric_params': None,\n",
       " 'min_samples': 5,\n",
       " 'n_jobs': None,\n",
       " 'p': None}"
      ]
     },
     "execution_count": 20,
     "metadata": {},
     "output_type": "execute_result"
    }
   ],
   "source": [
    "DBSCAN().get_params()"
   ]
  },
  {
   "cell_type": "code",
   "execution_count": 21,
   "id": "cfee65d8",
   "metadata": {},
   "outputs": [],
   "source": [
    "from sklearn.metrics import silhouette_score"
   ]
  },
  {
   "cell_type": "code",
   "execution_count": 22,
   "id": "db282818",
   "metadata": {},
   "outputs": [
    {
     "data": {
      "text/plain": [
       "-0.46596190778573116"
      ]
     },
     "execution_count": 22,
     "metadata": {},
     "output_type": "execute_result"
    }
   ],
   "source": [
    "silhouette_score(df_normalizado, labels)"
   ]
  },
  {
   "cell_type": "code",
   "execution_count": 23,
   "id": "e860eae9",
   "metadata": {},
   "outputs": [],
   "source": [
    "from scipy.stats import randint as sp_randint\n",
    "from scipy.stats import uniform "
   ]
  },
  {
   "cell_type": "code",
   "execution_count": 24,
   "id": "0bbb6dbe",
   "metadata": {},
   "outputs": [],
   "source": [
    "distribucion_parametros = {\n",
    "    'eps':uniform(0,5),\n",
    "    'min_samples':sp_randint(2,20),\n",
    "    'p': sp_randint(1,3)\n",
    "}"
   ]
  },
  {
   "cell_type": "code",
   "execution_count": 25,
   "id": "698522cb",
   "metadata": {},
   "outputs": [],
   "source": [
    "import numpy as np\n",
    "from sklearn.model_selection import ParameterSampler"
   ]
  },
  {
   "cell_type": "code",
   "execution_count": 26,
   "id": "d6b53978",
   "metadata": {},
   "outputs": [],
   "source": [
    "n_muestras = 10\n",
    "porcentaje_muestra = .7"
   ]
  },
  {
   "cell_type": "code",
   "execution_count": 27,
   "id": "fdbd7b2e",
   "metadata": {},
   "outputs": [
    {
     "data": {
      "text/plain": [
       "[{'eps': 0.6188478839049244, 'min_samples': 2, 'p': 2},\n",
       " {'eps': 0.8018536927289344, 'min_samples': 8, 'p': 1},\n",
       " {'eps': 4.573116996891089, 'min_samples': 15, 'p': 1},\n",
       " {'eps': 0.6471077958550109, 'min_samples': 17, 'p': 2},\n",
       " {'eps': 0.9433884361645806, 'min_samples': 3, 'p': 2},\n",
       " {'eps': 4.864380854910905, 'min_samples': 19, 'p': 2},\n",
       " {'eps': 2.6999445056364113, 'min_samples': 15, 'p': 2},\n",
       " {'eps': 2.7643590829856213, 'min_samples': 8, 'p': 2},\n",
       " {'eps': 3.8202194097911772, 'min_samples': 17, 'p': 1},\n",
       " {'eps': 1.0189918906571234, 'min_samples': 2, 'p': 2}]"
      ]
     },
     "execution_count": 27,
     "metadata": {},
     "output_type": "execute_result"
    }
   ],
   "source": [
    "resultado = list(ParameterSampler(distribucion_parametros, n_iter=n_muestras))\n",
    "resultado"
   ]
  },
  {
   "cell_type": "code",
   "execution_count": 28,
   "id": "9c8fb3c7",
   "metadata": {},
   "outputs": [],
   "source": [
    "n_iteraciones = 3\n",
    "resultados_busqueda = []\n",
    "for p in resultado:\n",
    "    for iteracion in range(n_iteraciones):\n",
    "        param_resultados = []\n",
    "        muestra = df_normalizado.sample(frac=porcentaje_muestra)\n",
    "        etiquetas_cluster = DBSCAN(n_jobs=-1, **p).fit_predict(muestra)\n",
    "        try:\n",
    "            param_resultados.append(silhouette_score(muestra, etiquetas_cluster))\n",
    "        except:\n",
    "            pass\n",
    "    puntuacion = np.mean(param_resultados)\n",
    "    resultados_busqueda.append([puntuacion, p])"
   ]
  },
  {
   "cell_type": "code",
   "execution_count": 29,
   "id": "d565495a",
   "metadata": {},
   "outputs": [
    {
     "data": {
      "text/plain": [
       "[[0.7346741241889044, {'eps': 4.864380854910905, 'min_samples': 19, 'p': 2}],\n",
       " [0.7016038480589986, {'eps': 4.573116996891089, 'min_samples': 15, 'p': 1}],\n",
       " [0.6619263997677061, {'eps': 3.8202194097911772, 'min_samples': 17, 'p': 1}],\n",
       " [0.5893409367056257, {'eps': 2.7643590829856213, 'min_samples': 8, 'p': 2}],\n",
       " [0.569397197327131, {'eps': 2.6999445056364113, 'min_samples': 15, 'p': 2}]]"
      ]
     },
     "execution_count": 29,
     "metadata": {},
     "output_type": "execute_result"
    }
   ],
   "source": [
    "sorted(resultados_busqueda, key=lambda x : x[0], reverse=True)[:5]"
   ]
  },
  {
   "cell_type": "code",
   "execution_count": 30,
   "id": "442ab084",
   "metadata": {},
   "outputs": [
    {
     "data": {
      "text/plain": [
       " 0    8876\n",
       "-1      74\n",
       "dtype: int64"
      ]
     },
     "execution_count": 30,
     "metadata": {},
     "output_type": "execute_result"
    }
   ],
   "source": [
    "buenos_param ={'eps': 4.864380854910905, 'min_samples': 19, 'p': 2}\n",
    "clus_dbscan = DBSCAN(n_jobs=-1, **buenos_param)\n",
    "labels_dbscan = clus_dbscan.fit_predict(df_normalizado)\n",
    "pd.Series(labels_dbscan).value_counts()"
   ]
  },
  {
   "cell_type": "code",
   "execution_count": 31,
   "id": "b3ade1e3",
   "metadata": {},
   "outputs": [],
   "source": [
    "# hay '74' anomalias, usando hiperparametros optimos"
   ]
  },
  {
   "cell_type": "code",
   "execution_count": 37,
   "id": "1f48a8eb",
   "metadata": {},
   "outputs": [],
   "source": [
    "def resu_cluster(cluster_id):\n",
    "    cluster = df[labels_dbscan == cluster_id]\n",
    "    resumen = cluster.mean().to_dict()\n",
    "    resumen['cluster_id'] = cluster_id\n",
    "    return resumen"
   ]
  },
  {
   "cell_type": "code",
   "execution_count": 40,
   "id": "a97530c4",
   "metadata": {},
   "outputs": [],
   "source": [
    "def comparar_cluster(*cluster_ids):\n",
    "    resu = []\n",
    "    for cluster_id in cluster_ids:\n",
    "        resu.append(resu_cluster(cluster_id))\n",
    "    return pd.DataFrame(resu).set_index('cluster_id').T"
   ]
  },
  {
   "cell_type": "code",
   "execution_count": 41,
   "id": "9d9b6b18",
   "metadata": {},
   "outputs": [
    {
     "data": {
      "text/html": [
       "<div>\n",
       "<style scoped>\n",
       "    .dataframe tbody tr th:only-of-type {\n",
       "        vertical-align: middle;\n",
       "    }\n",
       "\n",
       "    .dataframe tbody tr th {\n",
       "        vertical-align: top;\n",
       "    }\n",
       "\n",
       "    .dataframe thead th {\n",
       "        text-align: right;\n",
       "    }\n",
       "</style>\n",
       "<table border=\"1\" class=\"dataframe\">\n",
       "  <thead>\n",
       "    <tr style=\"text-align: right;\">\n",
       "      <th>cluster_id</th>\n",
       "      <th>0</th>\n",
       "      <th>-1</th>\n",
       "    </tr>\n",
       "  </thead>\n",
       "  <tbody>\n",
       "    <tr>\n",
       "      <th>BALANCE</th>\n",
       "      <td>1526.592127</td>\n",
       "      <td>6108.351152</td>\n",
       "    </tr>\n",
       "    <tr>\n",
       "      <th>BALANCE_FREQUENCY</th>\n",
       "      <td>0.876696</td>\n",
       "      <td>0.946233</td>\n",
       "    </tr>\n",
       "    <tr>\n",
       "      <th>PURCHASES</th>\n",
       "      <td>907.228039</td>\n",
       "      <td>12515.232297</td>\n",
       "    </tr>\n",
       "    <tr>\n",
       "      <th>ONEOFF_PURCHASES</th>\n",
       "      <td>527.531924</td>\n",
       "      <td>8377.582568</td>\n",
       "    </tr>\n",
       "    <tr>\n",
       "      <th>INSTALLMENTS_PURCHASES</th>\n",
       "      <td>379.998799</td>\n",
       "      <td>4137.649730</td>\n",
       "    </tr>\n",
       "    <tr>\n",
       "      <th>CASH_ADVANCE</th>\n",
       "      <td>931.933593</td>\n",
       "      <td>6608.836294</td>\n",
       "    </tr>\n",
       "    <tr>\n",
       "      <th>PURCHASES_FREQUENCY</th>\n",
       "      <td>0.488398</td>\n",
       "      <td>0.724590</td>\n",
       "    </tr>\n",
       "    <tr>\n",
       "      <th>ONEOFF_PURCHASES_FREQUENCY</th>\n",
       "      <td>0.199995</td>\n",
       "      <td>0.497853</td>\n",
       "    </tr>\n",
       "    <tr>\n",
       "      <th>PURCHASES_INSTALLMENTS_FREQUENCY</th>\n",
       "      <td>0.362362</td>\n",
       "      <td>0.613405</td>\n",
       "    </tr>\n",
       "    <tr>\n",
       "      <th>CASH_ADVANCE_FREQUENCY</th>\n",
       "      <td>0.133731</td>\n",
       "      <td>0.304668</td>\n",
       "    </tr>\n",
       "    <tr>\n",
       "      <th>CASH_ADVANCE_TRX</th>\n",
       "      <td>3.112438</td>\n",
       "      <td>19.608108</td>\n",
       "    </tr>\n",
       "    <tr>\n",
       "      <th>PURCHASES_TRX</th>\n",
       "      <td>14.070302</td>\n",
       "      <td>91.418919</td>\n",
       "    </tr>\n",
       "    <tr>\n",
       "      <th>CREDIT_LIMIT</th>\n",
       "      <td>4424.732777</td>\n",
       "      <td>12795.945946</td>\n",
       "    </tr>\n",
       "    <tr>\n",
       "      <th>PAYMENTS</th>\n",
       "      <td>1591.580965</td>\n",
       "      <td>18713.038245</td>\n",
       "    </tr>\n",
       "    <tr>\n",
       "      <th>MINIMUM_PAYMENTS</th>\n",
       "      <td>770.781789</td>\n",
       "      <td>8414.766858</td>\n",
       "    </tr>\n",
       "    <tr>\n",
       "      <th>PRC_FULL_PAYMENT</th>\n",
       "      <td>0.152653</td>\n",
       "      <td>0.281003</td>\n",
       "    </tr>\n",
       "    <tr>\n",
       "      <th>TENURE</th>\n",
       "      <td>11.516111</td>\n",
       "      <td>11.662162</td>\n",
       "    </tr>\n",
       "  </tbody>\n",
       "</table>\n",
       "</div>"
      ],
      "text/plain": [
       "cluster_id                                  0            -1\n",
       "BALANCE                           1526.592127   6108.351152\n",
       "BALANCE_FREQUENCY                    0.876696      0.946233\n",
       "PURCHASES                          907.228039  12515.232297\n",
       "ONEOFF_PURCHASES                   527.531924   8377.582568\n",
       "INSTALLMENTS_PURCHASES             379.998799   4137.649730\n",
       "CASH_ADVANCE                       931.933593   6608.836294\n",
       "PURCHASES_FREQUENCY                  0.488398      0.724590\n",
       "ONEOFF_PURCHASES_FREQUENCY           0.199995      0.497853\n",
       "PURCHASES_INSTALLMENTS_FREQUENCY     0.362362      0.613405\n",
       "CASH_ADVANCE_FREQUENCY               0.133731      0.304668\n",
       "CASH_ADVANCE_TRX                     3.112438     19.608108\n",
       "PURCHASES_TRX                       14.070302     91.418919\n",
       "CREDIT_LIMIT                      4424.732777  12795.945946\n",
       "PAYMENTS                          1591.580965  18713.038245\n",
       "MINIMUM_PAYMENTS                   770.781789   8414.766858\n",
       "PRC_FULL_PAYMENT                     0.152653      0.281003\n",
       "TENURE                              11.516111     11.662162"
      ]
     },
     "execution_count": 41,
     "metadata": {},
     "output_type": "execute_result"
    }
   ],
   "source": [
    "comparar_cluster(0, -1)"
   ]
  },
  {
   "cell_type": "code",
   "execution_count": 42,
   "id": "06342655",
   "metadata": {},
   "outputs": [],
   "source": [
    "# 0 es normal y -1 son anomalias\n",
    "# por ejemplo en compras, el promedio normal es de 907 mientras que en anomalias es de 12515."
   ]
  }
 ],
 "metadata": {
  "kernelspec": {
   "display_name": "Python 3 (ipykernel)",
   "language": "python",
   "name": "python3"
  },
  "language_info": {
   "codemirror_mode": {
    "name": "ipython",
    "version": 3
   },
   "file_extension": ".py",
   "mimetype": "text/x-python",
   "name": "python",
   "nbconvert_exporter": "python",
   "pygments_lexer": "ipython3",
   "version": "3.8.12"
  },
  "toc": {
   "base_numbering": 1,
   "nav_menu": {},
   "number_sections": true,
   "sideBar": true,
   "skip_h1_title": true,
   "title_cell": "Table of Contents",
   "title_sidebar": "Contents",
   "toc_cell": false,
   "toc_position": {},
   "toc_section_display": true,
   "toc_window_display": false
  },
  "varInspector": {
   "cols": {
    "lenName": 16,
    "lenType": 16,
    "lenVar": 40
   },
   "kernels_config": {
    "python": {
     "delete_cmd_postfix": "",
     "delete_cmd_prefix": "del ",
     "library": "var_list.py",
     "varRefreshCmd": "print(var_dic_list())"
    },
    "r": {
     "delete_cmd_postfix": ") ",
     "delete_cmd_prefix": "rm(",
     "library": "var_list.r",
     "varRefreshCmd": "cat(var_dic_list()) "
    }
   },
   "types_to_exclude": [
    "module",
    "function",
    "builtin_function_or_method",
    "instance",
    "_Feature"
   ],
   "window_display": false
  }
 },
 "nbformat": 4,
 "nbformat_minor": 5
}
