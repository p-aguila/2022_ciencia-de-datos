{
 "cells": [
  {
   "cell_type": "markdown",
   "id": "fe8ed3aa",
   "metadata": {},
   "source": [
    "!pip install watermark"
   ]
  },
  {
   "cell_type": "code",
   "execution_count": 1,
   "id": "0a779ea8",
   "metadata": {},
   "outputs": [
    {
     "name": "stdout",
     "output_type": "stream",
     "text": [
      "Last updated: 2022-01-18T14:44:04.481612-03:00\n",
      "\n",
      "Python implementation: CPython\n",
      "Python version       : 3.8.12\n",
      "IPython version      : 7.29.0\n",
      "\n",
      "Compiler    : MSC v.1916 64 bit (AMD64)\n",
      "OS          : Windows\n",
      "Release     : 10\n",
      "Machine     : AMD64\n",
      "Processor   : Intel64 Family 6 Model 158 Stepping 10, GenuineIntel\n",
      "CPU cores   : 12\n",
      "Architecture: 64bit\n",
      "\n"
     ]
    }
   ],
   "source": [
    "%load_ext watermark\n",
    "%watermark"
   ]
  },
  {
   "cell_type": "code",
   "execution_count": 2,
   "id": "c55a4bb4",
   "metadata": {},
   "outputs": [],
   "source": [
    "from sklearn import datasets"
   ]
  },
  {
   "cell_type": "code",
   "execution_count": 3,
   "id": "36422bf7",
   "metadata": {
    "scrolled": true
   },
   "outputs": [
    {
     "name": "stderr",
     "output_type": "stream",
     "text": [
      "C:\\Users\\patri\\anaconda3\\lib\\site-packages\\sklearn\\utils\\deprecation.py:87: FutureWarning: Function load_boston is deprecated; `load_boston` is deprecated in 1.0 and will be removed in 1.2.\n",
      "\n",
      "    The Boston housing prices dataset has an ethical problem. You can refer to\n",
      "    the documentation of this function for further details.\n",
      "\n",
      "    The scikit-learn maintainers therefore strongly discourage the use of this\n",
      "    dataset unless the purpose of the code is to study and educate about\n",
      "    ethical issues in data science and machine learning.\n",
      "\n",
      "    In this special case, you can fetch the dataset from the original\n",
      "    source::\n",
      "\n",
      "        import pandas as pd\n",
      "        import numpy as np\n",
      "\n",
      "\n",
      "        data_url = \"http://lib.stat.cmu.edu/datasets/boston\"\n",
      "        raw_df = pd.read_csv(data_url, sep=\"\\s+\", skiprows=22, header=None)\n",
      "        data = np.hstack([raw_df.values[::2, :], raw_df.values[1::2, :2]])\n",
      "        target = raw_df.values[1::2, 2]\n",
      "\n",
      "    Alternative datasets include the California housing dataset (i.e.\n",
      "    :func:`~sklearn.datasets.fetch_california_housing`) and the Ames housing\n",
      "    dataset. You can load the datasets as follows::\n",
      "\n",
      "        from sklearn.datasets import fetch_california_housing\n",
      "        housing = fetch_california_housing()\n",
      "\n",
      "    for the California housing dataset and::\n",
      "\n",
      "        from sklearn.datasets import fetch_openml\n",
      "        housing = fetch_openml(name=\"house_prices\", as_frame=True)\n",
      "\n",
      "    for the Ames housing dataset.\n",
      "    \n",
      "  warnings.warn(msg, category=FutureWarning)\n"
     ]
    }
   ],
   "source": [
    "df = datasets.load_boston()"
   ]
  },
  {
   "cell_type": "code",
   "execution_count": 4,
   "id": "5502b051",
   "metadata": {
    "scrolled": true
   },
   "outputs": [
    {
     "data": {
      "text/plain": [
       "{'data': array([[6.3200e-03, 1.8000e+01, 2.3100e+00, ..., 1.5300e+01, 3.9690e+02,\n",
       "         4.9800e+00],\n",
       "        [2.7310e-02, 0.0000e+00, 7.0700e+00, ..., 1.7800e+01, 3.9690e+02,\n",
       "         9.1400e+00],\n",
       "        [2.7290e-02, 0.0000e+00, 7.0700e+00, ..., 1.7800e+01, 3.9283e+02,\n",
       "         4.0300e+00],\n",
       "        ...,\n",
       "        [6.0760e-02, 0.0000e+00, 1.1930e+01, ..., 2.1000e+01, 3.9690e+02,\n",
       "         5.6400e+00],\n",
       "        [1.0959e-01, 0.0000e+00, 1.1930e+01, ..., 2.1000e+01, 3.9345e+02,\n",
       "         6.4800e+00],\n",
       "        [4.7410e-02, 0.0000e+00, 1.1930e+01, ..., 2.1000e+01, 3.9690e+02,\n",
       "         7.8800e+00]]),\n",
       " 'target': array([24. , 21.6, 34.7, 33.4, 36.2, 28.7, 22.9, 27.1, 16.5, 18.9, 15. ,\n",
       "        18.9, 21.7, 20.4, 18.2, 19.9, 23.1, 17.5, 20.2, 18.2, 13.6, 19.6,\n",
       "        15.2, 14.5, 15.6, 13.9, 16.6, 14.8, 18.4, 21. , 12.7, 14.5, 13.2,\n",
       "        13.1, 13.5, 18.9, 20. , 21. , 24.7, 30.8, 34.9, 26.6, 25.3, 24.7,\n",
       "        21.2, 19.3, 20. , 16.6, 14.4, 19.4, 19.7, 20.5, 25. , 23.4, 18.9,\n",
       "        35.4, 24.7, 31.6, 23.3, 19.6, 18.7, 16. , 22.2, 25. , 33. , 23.5,\n",
       "        19.4, 22. , 17.4, 20.9, 24.2, 21.7, 22.8, 23.4, 24.1, 21.4, 20. ,\n",
       "        20.8, 21.2, 20.3, 28. , 23.9, 24.8, 22.9, 23.9, 26.6, 22.5, 22.2,\n",
       "        23.6, 28.7, 22.6, 22. , 22.9, 25. , 20.6, 28.4, 21.4, 38.7, 43.8,\n",
       "        33.2, 27.5, 26.5, 18.6, 19.3, 20.1, 19.5, 19.5, 20.4, 19.8, 19.4,\n",
       "        21.7, 22.8, 18.8, 18.7, 18.5, 18.3, 21.2, 19.2, 20.4, 19.3, 22. ,\n",
       "        20.3, 20.5, 17.3, 18.8, 21.4, 15.7, 16.2, 18. , 14.3, 19.2, 19.6,\n",
       "        23. , 18.4, 15.6, 18.1, 17.4, 17.1, 13.3, 17.8, 14. , 14.4, 13.4,\n",
       "        15.6, 11.8, 13.8, 15.6, 14.6, 17.8, 15.4, 21.5, 19.6, 15.3, 19.4,\n",
       "        17. , 15.6, 13.1, 41.3, 24.3, 23.3, 27. , 50. , 50. , 50. , 22.7,\n",
       "        25. , 50. , 23.8, 23.8, 22.3, 17.4, 19.1, 23.1, 23.6, 22.6, 29.4,\n",
       "        23.2, 24.6, 29.9, 37.2, 39.8, 36.2, 37.9, 32.5, 26.4, 29.6, 50. ,\n",
       "        32. , 29.8, 34.9, 37. , 30.5, 36.4, 31.1, 29.1, 50. , 33.3, 30.3,\n",
       "        34.6, 34.9, 32.9, 24.1, 42.3, 48.5, 50. , 22.6, 24.4, 22.5, 24.4,\n",
       "        20. , 21.7, 19.3, 22.4, 28.1, 23.7, 25. , 23.3, 28.7, 21.5, 23. ,\n",
       "        26.7, 21.7, 27.5, 30.1, 44.8, 50. , 37.6, 31.6, 46.7, 31.5, 24.3,\n",
       "        31.7, 41.7, 48.3, 29. , 24. , 25.1, 31.5, 23.7, 23.3, 22. , 20.1,\n",
       "        22.2, 23.7, 17.6, 18.5, 24.3, 20.5, 24.5, 26.2, 24.4, 24.8, 29.6,\n",
       "        42.8, 21.9, 20.9, 44. , 50. , 36. , 30.1, 33.8, 43.1, 48.8, 31. ,\n",
       "        36.5, 22.8, 30.7, 50. , 43.5, 20.7, 21.1, 25.2, 24.4, 35.2, 32.4,\n",
       "        32. , 33.2, 33.1, 29.1, 35.1, 45.4, 35.4, 46. , 50. , 32.2, 22. ,\n",
       "        20.1, 23.2, 22.3, 24.8, 28.5, 37.3, 27.9, 23.9, 21.7, 28.6, 27.1,\n",
       "        20.3, 22.5, 29. , 24.8, 22. , 26.4, 33.1, 36.1, 28.4, 33.4, 28.2,\n",
       "        22.8, 20.3, 16.1, 22.1, 19.4, 21.6, 23.8, 16.2, 17.8, 19.8, 23.1,\n",
       "        21. , 23.8, 23.1, 20.4, 18.5, 25. , 24.6, 23. , 22.2, 19.3, 22.6,\n",
       "        19.8, 17.1, 19.4, 22.2, 20.7, 21.1, 19.5, 18.5, 20.6, 19. , 18.7,\n",
       "        32.7, 16.5, 23.9, 31.2, 17.5, 17.2, 23.1, 24.5, 26.6, 22.9, 24.1,\n",
       "        18.6, 30.1, 18.2, 20.6, 17.8, 21.7, 22.7, 22.6, 25. , 19.9, 20.8,\n",
       "        16.8, 21.9, 27.5, 21.9, 23.1, 50. , 50. , 50. , 50. , 50. , 13.8,\n",
       "        13.8, 15. , 13.9, 13.3, 13.1, 10.2, 10.4, 10.9, 11.3, 12.3,  8.8,\n",
       "         7.2, 10.5,  7.4, 10.2, 11.5, 15.1, 23.2,  9.7, 13.8, 12.7, 13.1,\n",
       "        12.5,  8.5,  5. ,  6.3,  5.6,  7.2, 12.1,  8.3,  8.5,  5. , 11.9,\n",
       "        27.9, 17.2, 27.5, 15. , 17.2, 17.9, 16.3,  7. ,  7.2,  7.5, 10.4,\n",
       "         8.8,  8.4, 16.7, 14.2, 20.8, 13.4, 11.7,  8.3, 10.2, 10.9, 11. ,\n",
       "         9.5, 14.5, 14.1, 16.1, 14.3, 11.7, 13.4,  9.6,  8.7,  8.4, 12.8,\n",
       "        10.5, 17.1, 18.4, 15.4, 10.8, 11.8, 14.9, 12.6, 14.1, 13. , 13.4,\n",
       "        15.2, 16.1, 17.8, 14.9, 14.1, 12.7, 13.5, 14.9, 20. , 16.4, 17.7,\n",
       "        19.5, 20.2, 21.4, 19.9, 19. , 19.1, 19.1, 20.1, 19.9, 19.6, 23.2,\n",
       "        29.8, 13.8, 13.3, 16.7, 12. , 14.6, 21.4, 23. , 23.7, 25. , 21.8,\n",
       "        20.6, 21.2, 19.1, 20.6, 15.2,  7. ,  8.1, 13.6, 20.1, 21.8, 24.5,\n",
       "        23.1, 19.7, 18.3, 21.2, 17.5, 16.8, 22.4, 20.6, 23.9, 22. , 11.9]),\n",
       " 'feature_names': array(['CRIM', 'ZN', 'INDUS', 'CHAS', 'NOX', 'RM', 'AGE', 'DIS', 'RAD',\n",
       "        'TAX', 'PTRATIO', 'B', 'LSTAT'], dtype='<U7'),\n",
       " 'DESCR': \".. _boston_dataset:\\n\\nBoston house prices dataset\\n---------------------------\\n\\n**Data Set Characteristics:**  \\n\\n    :Number of Instances: 506 \\n\\n    :Number of Attributes: 13 numeric/categorical predictive. Median Value (attribute 14) is usually the target.\\n\\n    :Attribute Information (in order):\\n        - CRIM     per capita crime rate by town\\n        - ZN       proportion of residential land zoned for lots over 25,000 sq.ft.\\n        - INDUS    proportion of non-retail business acres per town\\n        - CHAS     Charles River dummy variable (= 1 if tract bounds river; 0 otherwise)\\n        - NOX      nitric oxides concentration (parts per 10 million)\\n        - RM       average number of rooms per dwelling\\n        - AGE      proportion of owner-occupied units built prior to 1940\\n        - DIS      weighted distances to five Boston employment centres\\n        - RAD      index of accessibility to radial highways\\n        - TAX      full-value property-tax rate per $10,000\\n        - PTRATIO  pupil-teacher ratio by town\\n        - B        1000(Bk - 0.63)^2 where Bk is the proportion of black people by town\\n        - LSTAT    % lower status of the population\\n        - MEDV     Median value of owner-occupied homes in $1000's\\n\\n    :Missing Attribute Values: None\\n\\n    :Creator: Harrison, D. and Rubinfeld, D.L.\\n\\nThis is a copy of UCI ML housing dataset.\\nhttps://archive.ics.uci.edu/ml/machine-learning-databases/housing/\\n\\n\\nThis dataset was taken from the StatLib library which is maintained at Carnegie Mellon University.\\n\\nThe Boston house-price data of Harrison, D. and Rubinfeld, D.L. 'Hedonic\\nprices and the demand for clean air', J. Environ. Economics & Management,\\nvol.5, 81-102, 1978.   Used in Belsley, Kuh & Welsch, 'Regression diagnostics\\n...', Wiley, 1980.   N.B. Various transformations are used in the table on\\npages 244-261 of the latter.\\n\\nThe Boston house-price data has been used in many machine learning papers that address regression\\nproblems.   \\n     \\n.. topic:: References\\n\\n   - Belsley, Kuh & Welsch, 'Regression diagnostics: Identifying Influential Data and Sources of Collinearity', Wiley, 1980. 244-261.\\n   - Quinlan,R. (1993). Combining Instance-Based and Model-Based Learning. In Proceedings on the Tenth International Conference of Machine Learning, 236-243, University of Massachusetts, Amherst. Morgan Kaufmann.\\n\",\n",
       " 'filename': 'boston_house_prices.csv',\n",
       " 'data_module': 'sklearn.datasets.data'}"
      ]
     },
     "execution_count": 4,
     "metadata": {},
     "output_type": "execute_result"
    }
   ],
   "source": [
    "df"
   ]
  },
  {
   "cell_type": "code",
   "execution_count": 5,
   "id": "03dc1923",
   "metadata": {},
   "outputs": [
    {
     "data": {
      "text/plain": [
       "dict_keys(['data', 'target', 'feature_names', 'DESCR', 'filename', 'data_module'])"
      ]
     },
     "execution_count": 5,
     "metadata": {},
     "output_type": "execute_result"
    }
   ],
   "source": [
    "df.keys()"
   ]
  },
  {
   "cell_type": "code",
   "execution_count": 6,
   "id": "0d70efc5",
   "metadata": {
    "scrolled": true
   },
   "outputs": [
    {
     "name": "stdout",
     "output_type": "stream",
     "text": [
      ".. _boston_dataset:\n",
      "\n",
      "Boston house prices dataset\n",
      "---------------------------\n",
      "\n",
      "**Data Set Characteristics:**  \n",
      "\n",
      "    :Number of Instances: 506 \n",
      "\n",
      "    :Number of Attributes: 13 numeric/categorical predictive. Median Value (attribute 14) is usually the target.\n",
      "\n",
      "    :Attribute Information (in order):\n",
      "        - CRIM     per capita crime rate by town\n",
      "        - ZN       proportion of residential land zoned for lots over 25,000 sq.ft.\n",
      "        - INDUS    proportion of non-retail business acres per town\n",
      "        - CHAS     Charles River dummy variable (= 1 if tract bounds river; 0 otherwise)\n",
      "        - NOX      nitric oxides concentration (parts per 10 million)\n",
      "        - RM       average number of rooms per dwelling\n",
      "        - AGE      proportion of owner-occupied units built prior to 1940\n",
      "        - DIS      weighted distances to five Boston employment centres\n",
      "        - RAD      index of accessibility to radial highways\n",
      "        - TAX      full-value property-tax rate per $10,000\n",
      "        - PTRATIO  pupil-teacher ratio by town\n",
      "        - B        1000(Bk - 0.63)^2 where Bk is the proportion of black people by town\n",
      "        - LSTAT    % lower status of the population\n",
      "        - MEDV     Median value of owner-occupied homes in $1000's\n",
      "\n",
      "    :Missing Attribute Values: None\n",
      "\n",
      "    :Creator: Harrison, D. and Rubinfeld, D.L.\n",
      "\n",
      "This is a copy of UCI ML housing dataset.\n",
      "https://archive.ics.uci.edu/ml/machine-learning-databases/housing/\n",
      "\n",
      "\n",
      "This dataset was taken from the StatLib library which is maintained at Carnegie Mellon University.\n",
      "\n",
      "The Boston house-price data of Harrison, D. and Rubinfeld, D.L. 'Hedonic\n",
      "prices and the demand for clean air', J. Environ. Economics & Management,\n",
      "vol.5, 81-102, 1978.   Used in Belsley, Kuh & Welsch, 'Regression diagnostics\n",
      "...', Wiley, 1980.   N.B. Various transformations are used in the table on\n",
      "pages 244-261 of the latter.\n",
      "\n",
      "The Boston house-price data has been used in many machine learning papers that address regression\n",
      "problems.   \n",
      "     \n",
      ".. topic:: References\n",
      "\n",
      "   - Belsley, Kuh & Welsch, 'Regression diagnostics: Identifying Influential Data and Sources of Collinearity', Wiley, 1980. 244-261.\n",
      "   - Quinlan,R. (1993). Combining Instance-Based and Model-Based Learning. In Proceedings on the Tenth International Conference of Machine Learning, 236-243, University of Massachusetts, Amherst. Morgan Kaufmann.\n",
      "\n"
     ]
    }
   ],
   "source": [
    "print(df['DESCR'])"
   ]
  },
  {
   "cell_type": "code",
   "execution_count": 7,
   "id": "994b6b48",
   "metadata": {
    "scrolled": true
   },
   "outputs": [
    {
     "data": {
      "text/plain": [
       "array([24. , 21.6, 34.7, 33.4, 36.2, 28.7, 22.9, 27.1, 16.5, 18.9, 15. ,\n",
       "       18.9, 21.7, 20.4, 18.2, 19.9, 23.1, 17.5, 20.2, 18.2, 13.6, 19.6,\n",
       "       15.2, 14.5, 15.6, 13.9, 16.6, 14.8, 18.4, 21. , 12.7, 14.5, 13.2,\n",
       "       13.1, 13.5, 18.9, 20. , 21. , 24.7, 30.8, 34.9, 26.6, 25.3, 24.7,\n",
       "       21.2, 19.3, 20. , 16.6, 14.4, 19.4, 19.7, 20.5, 25. , 23.4, 18.9,\n",
       "       35.4, 24.7, 31.6, 23.3, 19.6, 18.7, 16. , 22.2, 25. , 33. , 23.5,\n",
       "       19.4, 22. , 17.4, 20.9, 24.2, 21.7, 22.8, 23.4, 24.1, 21.4, 20. ,\n",
       "       20.8, 21.2, 20.3, 28. , 23.9, 24.8, 22.9, 23.9, 26.6, 22.5, 22.2,\n",
       "       23.6, 28.7, 22.6, 22. , 22.9, 25. , 20.6, 28.4, 21.4, 38.7, 43.8,\n",
       "       33.2, 27.5, 26.5, 18.6, 19.3, 20.1, 19.5, 19.5, 20.4, 19.8, 19.4,\n",
       "       21.7, 22.8, 18.8, 18.7, 18.5, 18.3, 21.2, 19.2, 20.4, 19.3, 22. ,\n",
       "       20.3, 20.5, 17.3, 18.8, 21.4, 15.7, 16.2, 18. , 14.3, 19.2, 19.6,\n",
       "       23. , 18.4, 15.6, 18.1, 17.4, 17.1, 13.3, 17.8, 14. , 14.4, 13.4,\n",
       "       15.6, 11.8, 13.8, 15.6, 14.6, 17.8, 15.4, 21.5, 19.6, 15.3, 19.4,\n",
       "       17. , 15.6, 13.1, 41.3, 24.3, 23.3, 27. , 50. , 50. , 50. , 22.7,\n",
       "       25. , 50. , 23.8, 23.8, 22.3, 17.4, 19.1, 23.1, 23.6, 22.6, 29.4,\n",
       "       23.2, 24.6, 29.9, 37.2, 39.8, 36.2, 37.9, 32.5, 26.4, 29.6, 50. ,\n",
       "       32. , 29.8, 34.9, 37. , 30.5, 36.4, 31.1, 29.1, 50. , 33.3, 30.3,\n",
       "       34.6, 34.9, 32.9, 24.1, 42.3, 48.5, 50. , 22.6, 24.4, 22.5, 24.4,\n",
       "       20. , 21.7, 19.3, 22.4, 28.1, 23.7, 25. , 23.3, 28.7, 21.5, 23. ,\n",
       "       26.7, 21.7, 27.5, 30.1, 44.8, 50. , 37.6, 31.6, 46.7, 31.5, 24.3,\n",
       "       31.7, 41.7, 48.3, 29. , 24. , 25.1, 31.5, 23.7, 23.3, 22. , 20.1,\n",
       "       22.2, 23.7, 17.6, 18.5, 24.3, 20.5, 24.5, 26.2, 24.4, 24.8, 29.6,\n",
       "       42.8, 21.9, 20.9, 44. , 50. , 36. , 30.1, 33.8, 43.1, 48.8, 31. ,\n",
       "       36.5, 22.8, 30.7, 50. , 43.5, 20.7, 21.1, 25.2, 24.4, 35.2, 32.4,\n",
       "       32. , 33.2, 33.1, 29.1, 35.1, 45.4, 35.4, 46. , 50. , 32.2, 22. ,\n",
       "       20.1, 23.2, 22.3, 24.8, 28.5, 37.3, 27.9, 23.9, 21.7, 28.6, 27.1,\n",
       "       20.3, 22.5, 29. , 24.8, 22. , 26.4, 33.1, 36.1, 28.4, 33.4, 28.2,\n",
       "       22.8, 20.3, 16.1, 22.1, 19.4, 21.6, 23.8, 16.2, 17.8, 19.8, 23.1,\n",
       "       21. , 23.8, 23.1, 20.4, 18.5, 25. , 24.6, 23. , 22.2, 19.3, 22.6,\n",
       "       19.8, 17.1, 19.4, 22.2, 20.7, 21.1, 19.5, 18.5, 20.6, 19. , 18.7,\n",
       "       32.7, 16.5, 23.9, 31.2, 17.5, 17.2, 23.1, 24.5, 26.6, 22.9, 24.1,\n",
       "       18.6, 30.1, 18.2, 20.6, 17.8, 21.7, 22.7, 22.6, 25. , 19.9, 20.8,\n",
       "       16.8, 21.9, 27.5, 21.9, 23.1, 50. , 50. , 50. , 50. , 50. , 13.8,\n",
       "       13.8, 15. , 13.9, 13.3, 13.1, 10.2, 10.4, 10.9, 11.3, 12.3,  8.8,\n",
       "        7.2, 10.5,  7.4, 10.2, 11.5, 15.1, 23.2,  9.7, 13.8, 12.7, 13.1,\n",
       "       12.5,  8.5,  5. ,  6.3,  5.6,  7.2, 12.1,  8.3,  8.5,  5. , 11.9,\n",
       "       27.9, 17.2, 27.5, 15. , 17.2, 17.9, 16.3,  7. ,  7.2,  7.5, 10.4,\n",
       "        8.8,  8.4, 16.7, 14.2, 20.8, 13.4, 11.7,  8.3, 10.2, 10.9, 11. ,\n",
       "        9.5, 14.5, 14.1, 16.1, 14.3, 11.7, 13.4,  9.6,  8.7,  8.4, 12.8,\n",
       "       10.5, 17.1, 18.4, 15.4, 10.8, 11.8, 14.9, 12.6, 14.1, 13. , 13.4,\n",
       "       15.2, 16.1, 17.8, 14.9, 14.1, 12.7, 13.5, 14.9, 20. , 16.4, 17.7,\n",
       "       19.5, 20.2, 21.4, 19.9, 19. , 19.1, 19.1, 20.1, 19.9, 19.6, 23.2,\n",
       "       29.8, 13.8, 13.3, 16.7, 12. , 14.6, 21.4, 23. , 23.7, 25. , 21.8,\n",
       "       20.6, 21.2, 19.1, 20.6, 15.2,  7. ,  8.1, 13.6, 20.1, 21.8, 24.5,\n",
       "       23.1, 19.7, 18.3, 21.2, 17.5, 16.8, 22.4, 20.6, 23.9, 22. , 11.9])"
      ]
     },
     "execution_count": 7,
     "metadata": {},
     "output_type": "execute_result"
    }
   ],
   "source": [
    "var_objetivo = df['target']\n",
    "var_objetivo"
   ]
  },
  {
   "cell_type": "code",
   "execution_count": 8,
   "id": "73ce6d65",
   "metadata": {},
   "outputs": [
    {
     "data": {
      "text/plain": [
       "array(['CRIM', 'ZN', 'INDUS', 'CHAS', 'NOX', 'RM', 'AGE', 'DIS', 'RAD',\n",
       "       'TAX', 'PTRATIO', 'B', 'LSTAT'], dtype='<U7')"
      ]
     },
     "execution_count": 8,
     "metadata": {},
     "output_type": "execute_result"
    }
   ],
   "source": [
    "var_indep = df['feature_names']\n",
    "var_indep"
   ]
  },
  {
   "cell_type": "code",
   "execution_count": 9,
   "id": "2761e86a",
   "metadata": {
    "scrolled": true
   },
   "outputs": [
    {
     "data": {
      "text/plain": [
       "array([[6.3200e-03, 1.8000e+01, 2.3100e+00, ..., 1.5300e+01, 3.9690e+02,\n",
       "        4.9800e+00],\n",
       "       [2.7310e-02, 0.0000e+00, 7.0700e+00, ..., 1.7800e+01, 3.9690e+02,\n",
       "        9.1400e+00],\n",
       "       [2.7290e-02, 0.0000e+00, 7.0700e+00, ..., 1.7800e+01, 3.9283e+02,\n",
       "        4.0300e+00],\n",
       "       ...,\n",
       "       [6.0760e-02, 0.0000e+00, 1.1930e+01, ..., 2.1000e+01, 3.9690e+02,\n",
       "        5.6400e+00],\n",
       "       [1.0959e-01, 0.0000e+00, 1.1930e+01, ..., 2.1000e+01, 3.9345e+02,\n",
       "        6.4800e+00],\n",
       "       [4.7410e-02, 0.0000e+00, 1.1930e+01, ..., 2.1000e+01, 3.9690e+02,\n",
       "        7.8800e+00]])"
      ]
     },
     "execution_count": 9,
     "metadata": {},
     "output_type": "execute_result"
    }
   ],
   "source": [
    "data_var_indep = df['data']\n",
    "data_var_indep"
   ]
  },
  {
   "cell_type": "code",
   "execution_count": 10,
   "id": "68c1d067",
   "metadata": {},
   "outputs": [],
   "source": [
    "from sklearn.linear_model import LinearRegression"
   ]
  },
  {
   "cell_type": "code",
   "execution_count": 11,
   "id": "4dab3071",
   "metadata": {},
   "outputs": [],
   "source": [
    "LinearRegression?"
   ]
  },
  {
   "cell_type": "code",
   "execution_count": 12,
   "id": "276358b8",
   "metadata": {},
   "outputs": [],
   "source": [
    "modelo = LinearRegression()"
   ]
  },
  {
   "cell_type": "code",
   "execution_count": 13,
   "id": "4bb8ef79",
   "metadata": {},
   "outputs": [
    {
     "data": {
      "text/plain": [
       "LinearRegression()"
      ]
     },
     "execution_count": 13,
     "metadata": {},
     "output_type": "execute_result"
    }
   ],
   "source": [
    "# entrenar \n",
    "modelo.fit(X=data_var_indep, y=var_objetivo)"
   ]
  },
  {
   "cell_type": "code",
   "execution_count": 14,
   "id": "3b977648",
   "metadata": {},
   "outputs": [
    {
     "data": {
      "text/plain": [
       "36.459488385089855"
      ]
     },
     "execution_count": 14,
     "metadata": {},
     "output_type": "execute_result"
    }
   ],
   "source": [
    "modelo.intercept_"
   ]
  },
  {
   "cell_type": "code",
   "execution_count": 15,
   "id": "dbc3c907",
   "metadata": {},
   "outputs": [
    {
     "data": {
      "text/plain": [
       "array([-1.08011358e-01,  4.64204584e-02,  2.05586264e-02,  2.68673382e+00,\n",
       "       -1.77666112e+01,  3.80986521e+00,  6.92224640e-04, -1.47556685e+00,\n",
       "        3.06049479e-01, -1.23345939e-02, -9.52747232e-01,  9.31168327e-03,\n",
       "       -5.24758378e-01])"
      ]
     },
     "execution_count": 15,
     "metadata": {},
     "output_type": "execute_result"
    }
   ],
   "source": [
    "modelo.coef_"
   ]
  },
  {
   "cell_type": "code",
   "execution_count": 16,
   "id": "68043d56",
   "metadata": {},
   "outputs": [],
   "source": [
    "predicciones = modelo.predict(data_var_indep)"
   ]
  },
  {
   "cell_type": "code",
   "execution_count": 17,
   "id": "77d93606",
   "metadata": {
    "scrolled": true
   },
   "outputs": [
    {
     "name": "stdout",
     "output_type": "stream",
     "text": [
      "Valor real: 24.000 n\\Valor Estimado 30.004\n",
      "Valor real: 21.600 n\\Valor Estimado 25.026\n",
      "Valor real: 34.700 n\\Valor Estimado 30.568\n",
      "Valor real: 33.400 n\\Valor Estimado 28.607\n",
      "Valor real: 36.200 n\\Valor Estimado 27.944\n",
      "Valor real: 28.700 n\\Valor Estimado 25.256\n",
      "Valor real: 22.900 n\\Valor Estimado 23.002\n",
      "Valor real: 27.100 n\\Valor Estimado 19.536\n",
      "Valor real: 16.500 n\\Valor Estimado 11.524\n",
      "Valor real: 18.900 n\\Valor Estimado 18.920\n",
      "Valor real: 15.000 n\\Valor Estimado 18.999\n",
      "Valor real: 18.900 n\\Valor Estimado 21.587\n",
      "Valor real: 21.700 n\\Valor Estimado 20.907\n",
      "Valor real: 20.400 n\\Valor Estimado 19.553\n",
      "Valor real: 18.200 n\\Valor Estimado 19.283\n",
      "Valor real: 19.900 n\\Valor Estimado 19.297\n",
      "Valor real: 23.100 n\\Valor Estimado 20.528\n",
      "Valor real: 17.500 n\\Valor Estimado 16.911\n",
      "Valor real: 20.200 n\\Valor Estimado 16.178\n",
      "Valor real: 18.200 n\\Valor Estimado 18.406\n",
      "Valor real: 13.600 n\\Valor Estimado 12.524\n",
      "Valor real: 19.600 n\\Valor Estimado 17.671\n",
      "Valor real: 15.200 n\\Valor Estimado 15.833\n",
      "Valor real: 14.500 n\\Valor Estimado 13.806\n",
      "Valor real: 15.600 n\\Valor Estimado 15.678\n",
      "Valor real: 13.900 n\\Valor Estimado 13.387\n",
      "Valor real: 16.600 n\\Valor Estimado 15.464\n",
      "Valor real: 14.800 n\\Valor Estimado 14.708\n",
      "Valor real: 18.400 n\\Valor Estimado 19.547\n",
      "Valor real: 21.000 n\\Valor Estimado 20.876\n",
      "Valor real: 12.700 n\\Valor Estimado 11.455\n",
      "Valor real: 14.500 n\\Valor Estimado 18.059\n",
      "Valor real: 13.200 n\\Valor Estimado 8.811\n",
      "Valor real: 13.100 n\\Valor Estimado 14.283\n",
      "Valor real: 13.500 n\\Valor Estimado 13.707\n",
      "Valor real: 18.900 n\\Valor Estimado 23.815\n",
      "Valor real: 20.000 n\\Valor Estimado 22.342\n",
      "Valor real: 21.000 n\\Valor Estimado 23.109\n",
      "Valor real: 24.700 n\\Valor Estimado 22.915\n",
      "Valor real: 30.800 n\\Valor Estimado 31.358\n",
      "Valor real: 34.900 n\\Valor Estimado 34.215\n",
      "Valor real: 26.600 n\\Valor Estimado 28.021\n",
      "Valor real: 25.300 n\\Valor Estimado 25.204\n",
      "Valor real: 24.700 n\\Valor Estimado 24.610\n",
      "Valor real: 21.200 n\\Valor Estimado 22.941\n",
      "Valor real: 19.300 n\\Valor Estimado 22.097\n",
      "Valor real: 20.000 n\\Valor Estimado 20.423\n",
      "Valor real: 16.600 n\\Valor Estimado 18.037\n",
      "Valor real: 14.400 n\\Valor Estimado 9.107\n",
      "Valor real: 19.400 n\\Valor Estimado 17.206\n",
      "Valor real: 19.700 n\\Valor Estimado 21.282\n",
      "Valor real: 20.500 n\\Valor Estimado 23.972\n",
      "Valor real: 25.000 n\\Valor Estimado 27.656\n",
      "Valor real: 23.400 n\\Valor Estimado 24.049\n",
      "Valor real: 18.900 n\\Valor Estimado 15.362\n",
      "Valor real: 35.400 n\\Valor Estimado 31.153\n",
      "Valor real: 24.700 n\\Valor Estimado 24.857\n",
      "Valor real: 31.600 n\\Valor Estimado 33.109\n",
      "Valor real: 23.300 n\\Valor Estimado 21.775\n",
      "Valor real: 19.600 n\\Valor Estimado 21.085\n",
      "Valor real: 18.700 n\\Valor Estimado 17.873\n",
      "Valor real: 16.000 n\\Valor Estimado 18.511\n",
      "Valor real: 22.200 n\\Valor Estimado 23.987\n",
      "Valor real: 25.000 n\\Valor Estimado 22.554\n",
      "Valor real: 33.000 n\\Valor Estimado 23.373\n",
      "Valor real: 23.500 n\\Valor Estimado 30.361\n",
      "Valor real: 19.400 n\\Valor Estimado 25.531\n",
      "Valor real: 22.000 n\\Valor Estimado 21.113\n",
      "Valor real: 17.400 n\\Valor Estimado 17.422\n",
      "Valor real: 20.900 n\\Valor Estimado 20.785\n",
      "Valor real: 24.200 n\\Valor Estimado 25.201\n",
      "Valor real: 21.700 n\\Valor Estimado 21.743\n",
      "Valor real: 22.800 n\\Valor Estimado 24.557\n",
      "Valor real: 23.400 n\\Valor Estimado 24.043\n",
      "Valor real: 24.100 n\\Valor Estimado 25.505\n",
      "Valor real: 21.400 n\\Valor Estimado 23.967\n",
      "Valor real: 20.000 n\\Valor Estimado 22.945\n",
      "Valor real: 20.800 n\\Valor Estimado 23.357\n",
      "Valor real: 21.200 n\\Valor Estimado 21.262\n",
      "Valor real: 20.300 n\\Valor Estimado 22.428\n",
      "Valor real: 28.000 n\\Valor Estimado 28.406\n",
      "Valor real: 23.900 n\\Valor Estimado 26.995\n",
      "Valor real: 24.800 n\\Valor Estimado 26.036\n",
      "Valor real: 22.900 n\\Valor Estimado 25.059\n",
      "Valor real: 23.900 n\\Valor Estimado 24.785\n",
      "Valor real: 26.600 n\\Valor Estimado 27.790\n",
      "Valor real: 22.500 n\\Valor Estimado 22.169\n",
      "Valor real: 22.200 n\\Valor Estimado 25.893\n",
      "Valor real: 23.600 n\\Valor Estimado 30.675\n",
      "Valor real: 28.700 n\\Valor Estimado 30.831\n",
      "Valor real: 22.600 n\\Valor Estimado 27.119\n",
      "Valor real: 22.000 n\\Valor Estimado 27.413\n",
      "Valor real: 22.900 n\\Valor Estimado 28.941\n",
      "Valor real: 25.000 n\\Valor Estimado 29.081\n",
      "Valor real: 20.600 n\\Valor Estimado 27.040\n",
      "Valor real: 28.400 n\\Valor Estimado 28.625\n",
      "Valor real: 21.400 n\\Valor Estimado 24.727\n",
      "Valor real: 38.700 n\\Valor Estimado 35.782\n",
      "Valor real: 43.800 n\\Valor Estimado 35.115\n",
      "Valor real: 33.200 n\\Valor Estimado 32.251\n",
      "Valor real: 27.500 n\\Valor Estimado 24.580\n",
      "Valor real: 26.500 n\\Valor Estimado 25.594\n",
      "Valor real: 18.600 n\\Valor Estimado 19.790\n",
      "Valor real: 19.300 n\\Valor Estimado 20.312\n",
      "Valor real: 20.100 n\\Valor Estimado 21.435\n",
      "Valor real: 19.500 n\\Valor Estimado 18.540\n",
      "Valor real: 19.500 n\\Valor Estimado 17.188\n",
      "Valor real: 20.400 n\\Valor Estimado 20.750\n",
      "Valor real: 19.800 n\\Valor Estimado 22.648\n",
      "Valor real: 19.400 n\\Valor Estimado 19.772\n",
      "Valor real: 21.700 n\\Valor Estimado 20.650\n",
      "Valor real: 22.800 n\\Valor Estimado 26.526\n",
      "Valor real: 18.800 n\\Valor Estimado 20.773\n",
      "Valor real: 18.700 n\\Valor Estimado 20.715\n",
      "Valor real: 18.500 n\\Valor Estimado 25.172\n",
      "Valor real: 18.300 n\\Valor Estimado 20.430\n",
      "Valor real: 21.200 n\\Valor Estimado 23.377\n",
      "Valor real: 19.200 n\\Valor Estimado 23.690\n",
      "Valor real: 20.400 n\\Valor Estimado 20.336\n",
      "Valor real: 19.300 n\\Valor Estimado 20.792\n",
      "Valor real: 22.000 n\\Valor Estimado 21.916\n",
      "Valor real: 20.300 n\\Valor Estimado 22.471\n",
      "Valor real: 20.500 n\\Valor Estimado 20.557\n",
      "Valor real: 17.300 n\\Valor Estimado 16.367\n",
      "Valor real: 18.800 n\\Valor Estimado 20.561\n",
      "Valor real: 21.400 n\\Valor Estimado 22.482\n",
      "Valor real: 15.700 n\\Valor Estimado 14.617\n",
      "Valor real: 16.200 n\\Valor Estimado 15.179\n",
      "Valor real: 18.000 n\\Valor Estimado 18.939\n",
      "Valor real: 14.300 n\\Valor Estimado 14.056\n",
      "Valor real: 19.200 n\\Valor Estimado 20.035\n",
      "Valor real: 19.600 n\\Valor Estimado 19.410\n",
      "Valor real: 23.000 n\\Valor Estimado 20.062\n",
      "Valor real: 18.400 n\\Valor Estimado 15.758\n",
      "Valor real: 15.600 n\\Valor Estimado 13.256\n",
      "Valor real: 18.100 n\\Valor Estimado 17.263\n",
      "Valor real: 17.400 n\\Valor Estimado 15.878\n",
      "Valor real: 17.100 n\\Valor Estimado 19.362\n",
      "Valor real: 13.300 n\\Valor Estimado 13.815\n",
      "Valor real: 17.800 n\\Valor Estimado 16.449\n",
      "Valor real: 14.000 n\\Valor Estimado 13.571\n",
      "Valor real: 14.400 n\\Valor Estimado 3.989\n",
      "Valor real: 13.400 n\\Valor Estimado 14.595\n",
      "Valor real: 15.600 n\\Valor Estimado 12.149\n",
      "Valor real: 11.800 n\\Valor Estimado 8.728\n",
      "Valor real: 13.800 n\\Valor Estimado 12.036\n",
      "Valor real: 15.600 n\\Valor Estimado 15.821\n",
      "Valor real: 14.600 n\\Valor Estimado 8.515\n",
      "Valor real: 17.800 n\\Valor Estimado 9.718\n",
      "Valor real: 15.400 n\\Valor Estimado 14.805\n",
      "Valor real: 21.500 n\\Valor Estimado 20.839\n",
      "Valor real: 19.600 n\\Valor Estimado 18.301\n",
      "Valor real: 15.300 n\\Valor Estimado 20.123\n",
      "Valor real: 19.400 n\\Valor Estimado 17.286\n",
      "Valor real: 17.000 n\\Valor Estimado 22.366\n",
      "Valor real: 15.600 n\\Valor Estimado 20.104\n",
      "Valor real: 13.100 n\\Valor Estimado 13.621\n",
      "Valor real: 41.300 n\\Valor Estimado 33.260\n",
      "Valor real: 24.300 n\\Valor Estimado 29.030\n",
      "Valor real: 23.300 n\\Valor Estimado 25.568\n",
      "Valor real: 27.000 n\\Valor Estimado 32.708\n",
      "Valor real: 50.000 n\\Valor Estimado 36.775\n",
      "Valor real: 50.000 n\\Valor Estimado 40.558\n",
      "Valor real: 50.000 n\\Valor Estimado 41.847\n",
      "Valor real: 22.700 n\\Valor Estimado 24.789\n",
      "Valor real: 25.000 n\\Valor Estimado 25.379\n",
      "Valor real: 50.000 n\\Valor Estimado 37.203\n",
      "Valor real: 23.800 n\\Valor Estimado 23.087\n",
      "Valor real: 23.800 n\\Valor Estimado 26.403\n",
      "Valor real: 22.300 n\\Valor Estimado 26.654\n",
      "Valor real: 17.400 n\\Valor Estimado 22.555\n",
      "Valor real: 19.100 n\\Valor Estimado 24.291\n",
      "Valor real: 23.100 n\\Valor Estimado 22.977\n",
      "Valor real: 23.600 n\\Valor Estimado 29.072\n",
      "Valor real: 22.600 n\\Valor Estimado 26.522\n",
      "Valor real: 29.400 n\\Valor Estimado 30.722\n",
      "Valor real: 23.200 n\\Valor Estimado 25.617\n",
      "Valor real: 24.600 n\\Valor Estimado 29.137\n",
      "Valor real: 29.900 n\\Valor Estimado 31.436\n",
      "Valor real: 37.200 n\\Valor Estimado 32.922\n",
      "Valor real: 39.800 n\\Valor Estimado 34.724\n",
      "Valor real: 36.200 n\\Valor Estimado 27.766\n",
      "Valor real: 37.900 n\\Valor Estimado 33.888\n",
      "Valor real: 32.500 n\\Valor Estimado 30.992\n",
      "Valor real: 26.400 n\\Valor Estimado 22.718\n",
      "Valor real: 29.600 n\\Valor Estimado 24.766\n",
      "Valor real: 50.000 n\\Valor Estimado 35.885\n",
      "Valor real: 32.000 n\\Valor Estimado 33.425\n",
      "Valor real: 29.800 n\\Valor Estimado 32.412\n",
      "Valor real: 34.900 n\\Valor Estimado 34.515\n",
      "Valor real: 37.000 n\\Valor Estimado 30.761\n",
      "Valor real: 30.500 n\\Valor Estimado 30.289\n",
      "Valor real: 36.400 n\\Valor Estimado 32.919\n",
      "Valor real: 31.100 n\\Valor Estimado 32.113\n",
      "Valor real: 29.100 n\\Valor Estimado 31.559\n",
      "Valor real: 50.000 n\\Valor Estimado 40.846\n",
      "Valor real: 33.300 n\\Valor Estimado 36.128\n",
      "Valor real: 30.300 n\\Valor Estimado 32.669\n",
      "Valor real: 34.600 n\\Valor Estimado 34.705\n",
      "Valor real: 34.900 n\\Valor Estimado 30.093\n",
      "Valor real: 32.900 n\\Valor Estimado 30.644\n",
      "Valor real: 24.100 n\\Valor Estimado 29.287\n",
      "Valor real: 42.300 n\\Valor Estimado 37.071\n",
      "Valor real: 48.500 n\\Valor Estimado 42.032\n",
      "Valor real: 50.000 n\\Valor Estimado 43.189\n",
      "Valor real: 22.600 n\\Valor Estimado 22.690\n",
      "Valor real: 24.400 n\\Valor Estimado 23.683\n",
      "Valor real: 22.500 n\\Valor Estimado 17.854\n",
      "Valor real: 24.400 n\\Valor Estimado 23.494\n",
      "Valor real: 20.000 n\\Valor Estimado 17.006\n",
      "Valor real: 21.700 n\\Valor Estimado 22.393\n",
      "Valor real: 19.300 n\\Valor Estimado 17.060\n",
      "Valor real: 22.400 n\\Valor Estimado 22.739\n",
      "Valor real: 28.100 n\\Valor Estimado 25.219\n",
      "Valor real: 23.700 n\\Valor Estimado 11.119\n",
      "Valor real: 25.000 n\\Valor Estimado 24.510\n",
      "Valor real: 23.300 n\\Valor Estimado 26.603\n",
      "Valor real: 28.700 n\\Valor Estimado 28.355\n",
      "Valor real: 21.500 n\\Valor Estimado 24.915\n",
      "Valor real: 23.000 n\\Valor Estimado 29.687\n",
      "Valor real: 26.700 n\\Valor Estimado 33.184\n",
      "Valor real: 21.700 n\\Valor Estimado 23.775\n",
      "Valor real: 27.500 n\\Valor Estimado 32.141\n",
      "Valor real: 30.100 n\\Valor Estimado 29.746\n",
      "Valor real: 44.800 n\\Valor Estimado 38.371\n",
      "Valor real: 50.000 n\\Valor Estimado 39.815\n",
      "Valor real: 37.600 n\\Valor Estimado 37.586\n",
      "Valor real: 31.600 n\\Valor Estimado 32.400\n",
      "Valor real: 46.700 n\\Valor Estimado 35.457\n",
      "Valor real: 31.500 n\\Valor Estimado 31.234\n",
      "Valor real: 24.300 n\\Valor Estimado 24.484\n",
      "Valor real: 31.700 n\\Valor Estimado 33.288\n",
      "Valor real: 41.700 n\\Valor Estimado 38.048\n",
      "Valor real: 48.300 n\\Valor Estimado 37.163\n",
      "Valor real: 29.000 n\\Valor Estimado 31.714\n",
      "Valor real: 24.000 n\\Valor Estimado 25.267\n",
      "Valor real: 25.100 n\\Valor Estimado 30.100\n",
      "Valor real: 31.500 n\\Valor Estimado 32.720\n",
      "Valor real: 23.700 n\\Valor Estimado 28.427\n",
      "Valor real: 23.300 n\\Valor Estimado 28.429\n",
      "Valor real: 22.000 n\\Valor Estimado 27.294\n",
      "Valor real: 20.100 n\\Valor Estimado 23.743\n",
      "Valor real: 22.200 n\\Valor Estimado 24.120\n",
      "Valor real: 23.700 n\\Valor Estimado 27.402\n",
      "Valor real: 17.600 n\\Valor Estimado 16.329\n",
      "Valor real: 18.500 n\\Valor Estimado 13.399\n",
      "Valor real: 24.300 n\\Valor Estimado 20.016\n",
      "Valor real: 20.500 n\\Valor Estimado 19.862\n",
      "Valor real: 24.500 n\\Valor Estimado 21.288\n",
      "Valor real: 26.200 n\\Valor Estimado 24.080\n",
      "Valor real: 24.400 n\\Valor Estimado 24.206\n",
      "Valor real: 24.800 n\\Valor Estimado 25.042\n",
      "Valor real: 29.600 n\\Valor Estimado 24.920\n",
      "Valor real: 42.800 n\\Valor Estimado 29.946\n",
      "Valor real: 21.900 n\\Valor Estimado 23.972\n",
      "Valor real: 20.900 n\\Valor Estimado 21.696\n",
      "Valor real: 44.000 n\\Valor Estimado 37.511\n",
      "Valor real: 50.000 n\\Valor Estimado 43.302\n",
      "Valor real: 36.000 n\\Valor Estimado 36.484\n",
      "Valor real: 30.100 n\\Valor Estimado 34.990\n",
      "Valor real: 33.800 n\\Valor Estimado 34.812\n",
      "Valor real: 43.100 n\\Valor Estimado 37.166\n",
      "Valor real: 48.800 n\\Valor Estimado 40.989\n",
      "Valor real: 31.000 n\\Valor Estimado 34.446\n",
      "Valor real: 36.500 n\\Valor Estimado 35.834\n",
      "Valor real: 22.800 n\\Valor Estimado 28.246\n",
      "Valor real: 30.700 n\\Valor Estimado 31.227\n",
      "Valor real: 50.000 n\\Valor Estimado 40.840\n",
      "Valor real: 43.500 n\\Valor Estimado 39.318\n",
      "Valor real: 20.700 n\\Valor Estimado 25.708\n",
      "Valor real: 21.100 n\\Valor Estimado 22.303\n",
      "Valor real: 25.200 n\\Valor Estimado 27.203\n",
      "Valor real: 24.400 n\\Valor Estimado 28.512\n",
      "Valor real: 35.200 n\\Valor Estimado 35.477\n",
      "Valor real: 32.400 n\\Valor Estimado 36.106\n",
      "Valor real: 32.000 n\\Valor Estimado 33.797\n",
      "Valor real: 33.200 n\\Valor Estimado 35.611\n",
      "Valor real: 33.100 n\\Valor Estimado 34.840\n",
      "Valor real: 29.100 n\\Valor Estimado 30.352\n",
      "Valor real: 35.100 n\\Valor Estimado 35.310\n",
      "Valor real: 45.400 n\\Valor Estimado 38.798\n",
      "Valor real: 35.400 n\\Valor Estimado 34.331\n",
      "Valor real: 46.000 n\\Valor Estimado 40.340\n",
      "Valor real: 50.000 n\\Valor Estimado 44.673\n",
      "Valor real: 32.200 n\\Valor Estimado 31.597\n",
      "Valor real: 22.000 n\\Valor Estimado 27.357\n",
      "Valor real: 20.100 n\\Valor Estimado 20.102\n",
      "Valor real: 23.200 n\\Valor Estimado 27.042\n",
      "Valor real: 22.300 n\\Valor Estimado 27.214\n",
      "Valor real: 24.800 n\\Valor Estimado 26.914\n",
      "Valor real: 28.500 n\\Valor Estimado 33.436\n",
      "Valor real: 37.300 n\\Valor Estimado 34.403\n",
      "Valor real: 27.900 n\\Valor Estimado 31.833\n",
      "Valor real: 23.900 n\\Valor Estimado 25.818\n",
      "Valor real: 21.700 n\\Valor Estimado 24.430\n",
      "Valor real: 28.600 n\\Valor Estimado 28.458\n",
      "Valor real: 27.100 n\\Valor Estimado 27.363\n",
      "Valor real: 20.300 n\\Valor Estimado 19.539\n",
      "Valor real: 22.500 n\\Valor Estimado 29.113\n",
      "Valor real: 29.000 n\\Valor Estimado 31.911\n",
      "Valor real: 24.800 n\\Valor Estimado 30.772\n",
      "Valor real: 22.000 n\\Valor Estimado 28.943\n",
      "Valor real: 26.400 n\\Valor Estimado 28.882\n",
      "Valor real: 33.100 n\\Valor Estimado 32.799\n",
      "Valor real: 36.100 n\\Valor Estimado 33.209\n",
      "Valor real: 28.400 n\\Valor Estimado 30.768\n",
      "Valor real: 33.400 n\\Valor Estimado 35.562\n",
      "Valor real: 28.200 n\\Valor Estimado 32.709\n",
      "Valor real: 22.800 n\\Valor Estimado 28.642\n",
      "Valor real: 20.300 n\\Valor Estimado 23.590\n",
      "Valor real: 16.100 n\\Valor Estimado 18.543\n",
      "Valor real: 22.100 n\\Valor Estimado 26.879\n",
      "Valor real: 19.400 n\\Valor Estimado 23.281\n",
      "Valor real: 21.600 n\\Valor Estimado 25.546\n",
      "Valor real: 23.800 n\\Valor Estimado 25.481\n",
      "Valor real: 16.200 n\\Valor Estimado 20.539\n",
      "Valor real: 17.800 n\\Valor Estimado 17.616\n",
      "Valor real: 19.800 n\\Valor Estimado 18.376\n",
      "Valor real: 23.100 n\\Valor Estimado 24.291\n",
      "Valor real: 21.000 n\\Valor Estimado 21.325\n",
      "Valor real: 23.800 n\\Valor Estimado 24.887\n",
      "Valor real: 23.100 n\\Valor Estimado 24.869\n",
      "Valor real: 20.400 n\\Valor Estimado 22.870\n",
      "Valor real: 18.500 n\\Valor Estimado 19.451\n",
      "Valor real: 25.000 n\\Valor Estimado 25.118\n",
      "Valor real: 24.600 n\\Valor Estimado 24.668\n",
      "Valor real: 23.000 n\\Valor Estimado 23.681\n",
      "Valor real: 22.200 n\\Valor Estimado 19.341\n",
      "Valor real: 19.300 n\\Valor Estimado 21.174\n",
      "Valor real: 22.600 n\\Valor Estimado 24.252\n",
      "Valor real: 19.800 n\\Valor Estimado 21.593\n",
      "Valor real: 17.100 n\\Valor Estimado 19.984\n",
      "Valor real: 19.400 n\\Valor Estimado 23.339\n",
      "Valor real: 22.200 n\\Valor Estimado 22.141\n",
      "Valor real: 20.700 n\\Valor Estimado 21.555\n",
      "Valor real: 21.100 n\\Valor Estimado 20.619\n",
      "Valor real: 19.500 n\\Valor Estimado 20.161\n",
      "Valor real: 18.500 n\\Valor Estimado 19.285\n",
      "Valor real: 20.600 n\\Valor Estimado 22.167\n",
      "Valor real: 19.000 n\\Valor Estimado 21.250\n",
      "Valor real: 18.700 n\\Valor Estimado 21.429\n",
      "Valor real: 32.700 n\\Valor Estimado 30.328\n",
      "Valor real: 16.500 n\\Valor Estimado 22.047\n",
      "Valor real: 23.900 n\\Valor Estimado 27.706\n",
      "Valor real: 31.200 n\\Valor Estimado 28.548\n",
      "Valor real: 17.500 n\\Valor Estimado 16.545\n",
      "Valor real: 17.200 n\\Valor Estimado 14.784\n",
      "Valor real: 23.100 n\\Valor Estimado 25.274\n",
      "Valor real: 24.500 n\\Valor Estimado 27.542\n",
      "Valor real: 26.600 n\\Valor Estimado 22.148\n",
      "Valor real: 22.900 n\\Valor Estimado 20.459\n",
      "Valor real: 24.100 n\\Valor Estimado 20.546\n",
      "Valor real: 18.600 n\\Valor Estimado 16.881\n",
      "Valor real: 30.100 n\\Valor Estimado 25.403\n",
      "Valor real: 18.200 n\\Valor Estimado 14.325\n",
      "Valor real: 20.600 n\\Valor Estimado 16.595\n",
      "Valor real: 17.800 n\\Valor Estimado 19.637\n",
      "Valor real: 21.700 n\\Valor Estimado 22.718\n",
      "Valor real: 22.700 n\\Valor Estimado 22.202\n",
      "Valor real: 22.600 n\\Valor Estimado 19.205\n",
      "Valor real: 25.000 n\\Valor Estimado 22.666\n",
      "Valor real: 19.900 n\\Valor Estimado 18.932\n",
      "Valor real: 20.800 n\\Valor Estimado 18.228\n",
      "Valor real: 16.800 n\\Valor Estimado 20.232\n",
      "Valor real: 21.900 n\\Valor Estimado 37.494\n",
      "Valor real: 27.500 n\\Valor Estimado 14.282\n",
      "Valor real: 21.900 n\\Valor Estimado 15.543\n",
      "Valor real: 23.100 n\\Valor Estimado 10.832\n",
      "Valor real: 50.000 n\\Valor Estimado 23.801\n",
      "Valor real: 50.000 n\\Valor Estimado 32.644\n",
      "Valor real: 50.000 n\\Valor Estimado 34.607\n",
      "Valor real: 50.000 n\\Valor Estimado 24.943\n",
      "Valor real: 50.000 n\\Valor Estimado 26.000\n",
      "Valor real: 13.800 n\\Valor Estimado 6.126\n",
      "Valor real: 13.800 n\\Valor Estimado 0.778\n",
      "Valor real: 15.000 n\\Valor Estimado 25.307\n",
      "Valor real: 13.900 n\\Valor Estimado 17.741\n",
      "Valor real: 13.300 n\\Valor Estimado 20.233\n",
      "Valor real: 13.100 n\\Valor Estimado 15.833\n",
      "Valor real: 10.200 n\\Valor Estimado 16.835\n",
      "Valor real: 10.400 n\\Valor Estimado 14.370\n",
      "Valor real: 10.900 n\\Valor Estimado 18.477\n",
      "Valor real: 11.300 n\\Valor Estimado 13.428\n",
      "Valor real: 12.300 n\\Valor Estimado 13.062\n",
      "Valor real: 8.800 n\\Valor Estimado 3.279\n",
      "Valor real: 7.200 n\\Valor Estimado 8.060\n",
      "Valor real: 10.500 n\\Valor Estimado 6.128\n",
      "Valor real: 7.400 n\\Valor Estimado 5.619\n",
      "Valor real: 10.200 n\\Valor Estimado 6.452\n",
      "Valor real: 11.500 n\\Valor Estimado 14.208\n",
      "Valor real: 15.100 n\\Valor Estimado 17.212\n",
      "Valor real: 23.200 n\\Valor Estimado 17.299\n",
      "Valor real: 9.700 n\\Valor Estimado 9.891\n",
      "Valor real: 13.800 n\\Valor Estimado 20.221\n",
      "Valor real: 12.700 n\\Valor Estimado 17.942\n",
      "Valor real: 13.100 n\\Valor Estimado 20.304\n",
      "Valor real: 12.500 n\\Valor Estimado 19.296\n",
      "Valor real: 8.500 n\\Valor Estimado 16.336\n",
      "Valor real: 5.000 n\\Valor Estimado 6.552\n",
      "Valor real: 6.300 n\\Valor Estimado 10.890\n",
      "Valor real: 5.600 n\\Valor Estimado 11.881\n",
      "Valor real: 7.200 n\\Valor Estimado 17.812\n",
      "Valor real: 12.100 n\\Valor Estimado 18.261\n",
      "Valor real: 8.300 n\\Valor Estimado 12.979\n",
      "Valor real: 8.500 n\\Valor Estimado 7.378\n",
      "Valor real: 5.000 n\\Valor Estimado 8.211\n",
      "Valor real: 11.900 n\\Valor Estimado 8.066\n",
      "Valor real: 27.900 n\\Valor Estimado 19.983\n",
      "Valor real: 17.200 n\\Valor Estimado 13.708\n",
      "Valor real: 27.500 n\\Valor Estimado 19.853\n",
      "Valor real: 15.000 n\\Valor Estimado 15.223\n",
      "Valor real: 17.200 n\\Valor Estimado 16.961\n",
      "Valor real: 17.900 n\\Valor Estimado 1.719\n",
      "Valor real: 16.300 n\\Valor Estimado 11.806\n",
      "Valor real: 7.000 n\\Valor Estimado -4.281\n",
      "Valor real: 7.200 n\\Valor Estimado 9.584\n",
      "Valor real: 7.500 n\\Valor Estimado 13.367\n",
      "Valor real: 10.400 n\\Valor Estimado 6.896\n",
      "Valor real: 8.800 n\\Valor Estimado 6.148\n",
      "Valor real: 8.400 n\\Valor Estimado 14.607\n",
      "Valor real: 16.700 n\\Valor Estimado 19.600\n",
      "Valor real: 14.200 n\\Valor Estimado 18.124\n",
      "Valor real: 20.800 n\\Valor Estimado 18.522\n",
      "Valor real: 13.400 n\\Valor Estimado 13.175\n",
      "Valor real: 11.700 n\\Valor Estimado 14.626\n",
      "Valor real: 8.300 n\\Valor Estimado 9.924\n",
      "Valor real: 10.200 n\\Valor Estimado 16.346\n",
      "Valor real: 10.900 n\\Valor Estimado 14.075\n",
      "Valor real: 11.000 n\\Valor Estimado 14.258\n",
      "Valor real: 9.500 n\\Valor Estimado 13.042\n",
      "Valor real: 14.500 n\\Valor Estimado 18.160\n",
      "Valor real: 14.100 n\\Valor Estimado 18.696\n",
      "Valor real: 16.100 n\\Valor Estimado 21.527\n",
      "Valor real: 14.300 n\\Valor Estimado 17.031\n",
      "Valor real: 11.700 n\\Valor Estimado 15.961\n",
      "Valor real: 13.400 n\\Valor Estimado 13.361\n",
      "Valor real: 9.600 n\\Valor Estimado 14.521\n",
      "Valor real: 8.700 n\\Valor Estimado 8.820\n",
      "Valor real: 8.400 n\\Valor Estimado 4.868\n",
      "Valor real: 12.800 n\\Valor Estimado 13.066\n",
      "Valor real: 10.500 n\\Valor Estimado 12.706\n",
      "Valor real: 17.100 n\\Valor Estimado 17.296\n",
      "Valor real: 18.400 n\\Valor Estimado 18.740\n",
      "Valor real: 15.400 n\\Valor Estimado 18.059\n",
      "Valor real: 10.800 n\\Valor Estimado 11.515\n",
      "Valor real: 11.800 n\\Valor Estimado 11.974\n",
      "Valor real: 14.900 n\\Valor Estimado 17.683\n",
      "Valor real: 12.600 n\\Valor Estimado 18.127\n",
      "Valor real: 14.100 n\\Valor Estimado 17.518\n",
      "Valor real: 13.000 n\\Valor Estimado 17.227\n",
      "Valor real: 13.400 n\\Valor Estimado 16.523\n",
      "Valor real: 15.200 n\\Valor Estimado 19.413\n",
      "Valor real: 16.100 n\\Valor Estimado 18.582\n",
      "Valor real: 17.800 n\\Valor Estimado 22.489\n",
      "Valor real: 14.900 n\\Valor Estimado 15.280\n",
      "Valor real: 14.100 n\\Valor Estimado 15.821\n",
      "Valor real: 12.700 n\\Valor Estimado 12.687\n",
      "Valor real: 13.500 n\\Valor Estimado 12.876\n",
      "Valor real: 14.900 n\\Valor Estimado 17.187\n",
      "Valor real: 20.000 n\\Valor Estimado 18.512\n",
      "Valor real: 16.400 n\\Valor Estimado 19.049\n",
      "Valor real: 17.700 n\\Valor Estimado 20.172\n",
      "Valor real: 19.500 n\\Valor Estimado 19.774\n",
      "Valor real: 20.200 n\\Valor Estimado 22.429\n",
      "Valor real: 21.400 n\\Valor Estimado 20.319\n",
      "Valor real: 19.900 n\\Valor Estimado 17.886\n",
      "Valor real: 19.000 n\\Valor Estimado 14.375\n",
      "Valor real: 19.100 n\\Valor Estimado 16.948\n",
      "Valor real: 19.100 n\\Valor Estimado 16.984\n",
      "Valor real: 20.100 n\\Valor Estimado 18.588\n",
      "Valor real: 19.900 n\\Valor Estimado 20.167\n",
      "Valor real: 19.600 n\\Valor Estimado 22.977\n",
      "Valor real: 23.200 n\\Valor Estimado 22.456\n",
      "Valor real: 29.800 n\\Valor Estimado 25.578\n",
      "Valor real: 13.800 n\\Valor Estimado 16.391\n",
      "Valor real: 13.300 n\\Valor Estimado 16.111\n",
      "Valor real: 16.700 n\\Valor Estimado 20.535\n",
      "Valor real: 12.000 n\\Valor Estimado 11.543\n",
      "Valor real: 14.600 n\\Valor Estimado 19.205\n",
      "Valor real: 21.400 n\\Valor Estimado 21.863\n",
      "Valor real: 23.000 n\\Valor Estimado 23.469\n",
      "Valor real: 23.700 n\\Valor Estimado 27.099\n",
      "Valor real: 25.000 n\\Valor Estimado 28.570\n",
      "Valor real: 21.800 n\\Valor Estimado 21.084\n",
      "Valor real: 20.600 n\\Valor Estimado 19.455\n",
      "Valor real: 21.200 n\\Valor Estimado 22.222\n",
      "Valor real: 19.100 n\\Valor Estimado 19.656\n",
      "Valor real: 20.600 n\\Valor Estimado 21.325\n",
      "Valor real: 15.200 n\\Valor Estimado 11.856\n",
      "Valor real: 7.000 n\\Valor Estimado 8.224\n",
      "Valor real: 8.100 n\\Valor Estimado 3.664\n",
      "Valor real: 13.600 n\\Valor Estimado 13.759\n",
      "Valor real: 20.100 n\\Valor Estimado 15.931\n",
      "Valor real: 21.800 n\\Valor Estimado 20.627\n",
      "Valor real: 24.500 n\\Valor Estimado 20.612\n",
      "Valor real: 23.100 n\\Valor Estimado 16.885\n",
      "Valor real: 19.700 n\\Valor Estimado 14.013\n",
      "Valor real: 18.300 n\\Valor Estimado 19.109\n",
      "Valor real: 21.200 n\\Valor Estimado 21.298\n",
      "Valor real: 17.500 n\\Valor Estimado 18.455\n",
      "Valor real: 16.800 n\\Valor Estimado 20.469\n",
      "Valor real: 22.400 n\\Valor Estimado 23.533\n",
      "Valor real: 20.600 n\\Valor Estimado 22.376\n",
      "Valor real: 23.900 n\\Valor Estimado 27.627\n",
      "Valor real: 22.000 n\\Valor Estimado 26.128\n",
      "Valor real: 11.900 n\\Valor Estimado 22.344\n"
     ]
    }
   ],
   "source": [
    "for y, y_pred in list(zip(var_objetivo, predicciones)):\n",
    "    print(\"Valor real: {:.3f} n\\Valor Estimado {:.3f}\".format(y, y_pred))\n"
   ]
  },
  {
   "cell_type": "code",
   "execution_count": 18,
   "id": "a83bce7f",
   "metadata": {},
   "outputs": [],
   "source": [
    "from sklearn.model_selection import train_test_split"
   ]
  },
  {
   "cell_type": "code",
   "execution_count": 19,
   "id": "5f69cf76",
   "metadata": {},
   "outputs": [],
   "source": [
    "X_train, X_test, y_train, y_test = train_test_split(\n",
    "df['data'], df['target'], test_size=0.33, random_state=42)"
   ]
  },
  {
   "cell_type": "code",
   "execution_count": 20,
   "id": "91bce74e",
   "metadata": {},
   "outputs": [
    {
     "name": "stdout",
     "output_type": "stream",
     "text": [
      "(339, 13) (339,)\n"
     ]
    }
   ],
   "source": [
    "print(X_train.shape, y_train.shape)"
   ]
  },
  {
   "cell_type": "code",
   "execution_count": 21,
   "id": "74dee422",
   "metadata": {},
   "outputs": [],
   "source": [
    "modelo_ols = LinearRegression()\n",
    "modelo_ols.fit(X=X_train, y=y_train)\n",
    "modelo_ols_test_pred = modelo_ols.predict(X_test)"
   ]
  },
  {
   "cell_type": "code",
   "execution_count": 22,
   "id": "8cc058f2",
   "metadata": {},
   "outputs": [
    {
     "data": {
      "text/plain": [
       "array([28.53469469, 36.6187006 , 15.63751079, 25.5014496 , 18.7096734 ,\n",
       "       23.16471591, 17.31011035, 14.07736367, 23.01064388, 20.54223482,\n",
       "       24.91632351, 18.41098052, -6.52079687, 21.83372604, 19.14903064,\n",
       "       26.0587322 , 20.30232625,  5.74943567, 40.33137811, 17.45791446,\n",
       "       27.47486665, 30.2170757 , 10.80555625, 23.87721728, 17.99492211,\n",
       "       16.02608791, 23.268288  , 14.36825207, 22.38116971, 19.3092068 ,\n",
       "       22.17284576, 25.05925441, 25.13780726, 18.46730198, 16.60405712,\n",
       "       17.46564046, 30.71367733, 20.05106788, 23.9897768 , 24.94322408,\n",
       "       13.97945355, 31.64706967, 42.48057206, 17.70042814, 26.92507869,\n",
       "       17.15897719, 13.68918087, 26.14924245, 20.2782306 , 29.99003492,\n",
       "       21.21260347, 34.03649185, 15.41837553, 25.95781061, 39.13897274,\n",
       "       22.96118424, 18.80310558, 33.07865362, 24.74384155, 12.83640958,\n",
       "       22.41963398, 30.64804979, 31.59567111, 16.34088197, 20.9504304 ,\n",
       "       16.70145875, 20.23215646, 26.1437865 , 31.12160889, 11.89762768,\n",
       "       20.45432404, 27.48356359, 10.89034224, 16.77707214, 24.02593714,\n",
       "        5.44691807, 21.35152331, 41.27267175, 18.13447647,  9.8012101 ,\n",
       "       21.24024342, 13.02644969, 21.80198374,  9.48201752, 22.99183857,\n",
       "       31.90465631, 18.95594718, 25.48515032, 29.49687019, 20.07282539,\n",
       "       25.5616062 ,  5.59584382, 20.18410904, 15.08773299, 14.34562117,\n",
       "       20.85155407, 24.80149389, -0.19785401, 13.57649004, 15.64401679,\n",
       "       22.03765773, 24.70314482, 10.86409112, 19.60231067, 23.73429161,\n",
       "       12.08082177, 18.40997903, 25.4366158 , 20.76506636, 24.68588237,\n",
       "        7.4995836 , 18.93015665, 21.70801764, 27.14350579, 31.93765208,\n",
       "       15.19483586, 34.01357428, 12.85763091, 21.06646184, 28.58470042,\n",
       "       15.77437534, 24.77512495,  3.64655689, 23.91169589, 25.82292925,\n",
       "       23.03339677, 25.35158335, 33.05655447, 20.65930467, 38.18917361,\n",
       "       14.04714297, 25.26034469, 17.6138723 , 20.60883766,  9.8525544 ,\n",
       "       21.06756951, 22.20145587, 32.2920276 , 31.57638342, 15.29265938,\n",
       "       16.7100235 , 29.10550932, 25.17762329, 16.88159225,  6.32621877,\n",
       "       26.70210263, 23.3525851 , 17.24168182, 13.22815696, 39.49907507,\n",
       "       16.53528575, 18.14635902, 25.06620426, 23.70640231, 22.20167772,\n",
       "       21.22272327, 16.89825921, 23.15518273, 28.69699805,  6.65526482,\n",
       "       23.98399958, 17.21004545, 21.0574427 , 25.01734597, 27.65461859,\n",
       "       20.70205823, 40.38214871])"
      ]
     },
     "execution_count": 22,
     "metadata": {},
     "output_type": "execute_result"
    }
   ],
   "source": [
    "modelo_ols_test_pred"
   ]
  },
  {
   "cell_type": "code",
   "execution_count": 23,
   "id": "e9e307e3",
   "metadata": {},
   "outputs": [],
   "source": [
    "from sklearn import metrics\n",
    "import numpy as np"
   ]
  },
  {
   "cell_type": "code",
   "execution_count": 24,
   "id": "70101968",
   "metadata": {},
   "outputs": [],
   "source": [
    "# errores \n",
    "def rmse(objetivo, estimaciones):\n",
    "    return np.sqrt(metrics.mean_squared_error(objetivo, estimaciones))"
   ]
  },
  {
   "cell_type": "code",
   "execution_count": 25,
   "id": "3ac3428b",
   "metadata": {},
   "outputs": [],
   "source": [
    "def evaluar_modelo(objetivo, estimaciones):\n",
    "    return {\"rmse\": rmse(objetivo, estimaciones)}"
   ]
  },
  {
   "cell_type": "code",
   "execution_count": 26,
   "id": "1fd1fc1c",
   "metadata": {},
   "outputs": [
    {
     "data": {
      "text/plain": [
       "{'rmse': 4.55236459846306}"
      ]
     },
     "execution_count": 26,
     "metadata": {},
     "output_type": "execute_result"
    }
   ],
   "source": [
    "evaluar_modelo(y_test, modelo_ols_test_pred)"
   ]
  },
  {
   "cell_type": "code",
   "execution_count": 27,
   "id": "8b3a752e",
   "metadata": {},
   "outputs": [],
   "source": [
    "def test_semilla(valor):\n",
    "    X_train, X_test, y_train, y_test = train_test_split(\n",
    "        df['data'], df['target'], test_size=0.33, random_state=valor)\n",
    "    y_test_pred = modelo_ols.fit(X=X_train, y=y_train).predict(X_test)\n",
    "    print(rmse(y_test, y_test_pred), valor)"
   ]
  },
  {
   "cell_type": "code",
   "execution_count": 28,
   "id": "7204fd33",
   "metadata": {},
   "outputs": [
    {
     "name": "stdout",
     "output_type": "stream",
     "text": [
      "5.15350190084766 0\n",
      "4.549557752626553 1\n",
      "4.817966577147588 2\n",
      "4.822833248024285 3\n",
      "5.559184699608027 4\n",
      "5.341391089030524 5\n",
      "5.159716427550119 6\n",
      "5.032127524575094 7\n",
      "4.9389395266504525 8\n",
      "4.309052644211477 9\n",
      "5.205861284164466 10\n",
      "4.883381462443548 11\n",
      "4.88361816138163 12\n",
      "4.78417825175069 13\n",
      "5.070115288766261 14\n",
      "5.195051749631309 15\n",
      "4.837259505523129 16\n",
      "4.577216289061852 17\n",
      "5.056960927697352 18\n",
      "5.459689571680924 19\n",
      "4.9577531665469 20\n",
      "5.121997586228343 21\n",
      "4.838643246890023 22\n",
      "4.9552329297250255 23\n",
      "4.6052552607502 24\n",
      "4.691937258952615 25\n",
      "4.4578936045722894 26\n",
      "5.071868681234241 27\n",
      "4.951470581436949 28\n",
      "4.143649953294141 29\n",
      "4.987785731806309 30\n",
      "4.517838037683059 31\n",
      "5.069854914176088 32\n",
      "4.693375351773311 33\n",
      "4.583736404196863 34\n",
      "4.921204977097487 35\n",
      "4.6822263089327185 36\n",
      "5.723669790460899 37\n",
      "5.849716994424014 38\n",
      "5.801991496902829 39\n",
      "5.408974299848751 40\n",
      "4.701395096267161 41\n",
      "4.55236459846306 42\n",
      "4.930165706405586 43\n",
      "5.252957488849175 44\n",
      "4.7841287955829435 45\n",
      "4.041779457744048 46\n",
      "5.236480517397595 47\n",
      "5.3542417948333325 48\n",
      "4.981055100344155 49\n"
     ]
    }
   ],
   "source": [
    "for i in range(50):\n",
    "    test_semilla(i)"
   ]
  },
  {
   "cell_type": "code",
   "execution_count": 32,
   "id": "b6b7149a",
   "metadata": {},
   "outputs": [],
   "source": [
    "def test_semilla1(valor):\n",
    "    X_train, X_test, y_train, y_test = train_test_split(\n",
    "        df['data'], df['target'], test_size=0.33, random_state=valor)\n",
    "    y_test_pred = modelo_ols.fit(X=X_train, y=y_train).predict(X_test)\n",
    "    #print(rmse(y_test, y_test_pred), valor)\n",
    "    return [rmse(y_test, y_test_pred), valor]"
   ]
  },
  {
   "cell_type": "code",
   "execution_count": 37,
   "id": "52ecce92",
   "metadata": {},
   "outputs": [],
   "source": [
    "resultado = []\n",
    "for i in range(1000):\n",
    "    resultado.append(test_semilla1(i))"
   ]
  },
  {
   "cell_type": "code",
   "execution_count": 38,
   "id": "c4eeab43",
   "metadata": {},
   "outputs": [
    {
     "data": {
      "text/plain": [
       "[[5.15350190084766, 0],\n",
       " [4.549557752626553, 1],\n",
       " [4.817966577147588, 2],\n",
       " [4.822833248024285, 3],\n",
       " [5.559184699608027, 4],\n",
       " [5.341391089030524, 5],\n",
       " [5.159716427550119, 6],\n",
       " [5.032127524575094, 7],\n",
       " [4.9389395266504525, 8],\n",
       " [4.309052644211477, 9]]"
      ]
     },
     "execution_count": 38,
     "metadata": {},
     "output_type": "execute_result"
    }
   ],
   "source": [
    "resultado[:10]"
   ]
  },
  {
   "cell_type": "code",
   "execution_count": 41,
   "id": "3c911f6d",
   "metadata": {},
   "outputs": [],
   "source": [
    "resultado_ordenado = sorted(resultado, key=lambda x:x[0], reverse=False)"
   ]
  },
  {
   "cell_type": "code",
   "execution_count": 42,
   "id": "c2863485",
   "metadata": {},
   "outputs": [
    {
     "data": {
      "text/plain": [
       "[3.631314217076934, 635]"
      ]
     },
     "execution_count": 42,
     "metadata": {},
     "output_type": "execute_result"
    }
   ],
   "source": [
    "resultado_ordenado[0]"
   ]
  },
  {
   "cell_type": "code",
   "execution_count": 43,
   "id": "4012b361",
   "metadata": {},
   "outputs": [
    {
     "data": {
      "text/plain": [
       "[6.788054714003143, 645]"
      ]
     },
     "execution_count": 43,
     "metadata": {},
     "output_type": "execute_result"
    }
   ],
   "source": [
    "resultado_ordenado[-1]"
   ]
  },
  {
   "cell_type": "markdown",
   "id": "f2ecb89c",
   "metadata": {},
   "source": [
    "## Validación Cruzada - (Cross Validation)"
   ]
  },
  {
   "cell_type": "code",
   "execution_count": 44,
   "id": "c2555fa1",
   "metadata": {},
   "outputs": [
    {
     "data": {
      "image/png": "[encoded data removed]",
      "text/plain": [
       "<IPython.core.display.Image object>"
      ]
     },
     "execution_count": 44,
     "metadata": {},
     "output_type": "execute_result"
    }
   ],
   "source": [
    "from IPython.display import Image\n",
    "Image('cross_validation.png')"
   ]
  },
  {
   "cell_type": "code",
   "execution_count": 45,
   "id": "bbe38825",
   "metadata": {},
   "outputs": [],
   "source": [
    "from sklearn.model_selection import cross_val_score"
   ]
  },
  {
   "cell_type": "code",
   "execution_count": 46,
   "id": "0d71584e",
   "metadata": {},
   "outputs": [],
   "source": [
    "modelo_ols = LinearRegression()\n",
    "X = df['data']\n",
    "y = df['target']\n",
    "\n",
    "resultado_validacion_cruzada = cross_val_score(estimator=modelo_ols, \n",
    "                                               X=X, \n",
    "                                               y=y, \n",
    "                                               scoring='neg_root_mean_squared_error', \n",
    "                                               cv=20)"
   ]
  },
  {
   "cell_type": "code",
   "execution_count": 47,
   "id": "deee2c5e",
   "metadata": {},
   "outputs": [
    {
     "data": {
      "text/plain": [
       "array([ -3.54178214,  -2.37689828,  -3.38041102,  -3.79913557,\n",
       "        -2.373405  ,  -4.42740416,  -6.25642488,  -5.68244448,\n",
       "        -5.49467653,  -4.9630827 ,  -4.90029933,  -4.05946409,\n",
       "        -2.91959801,  -3.25695935, -16.48591366,  -5.84795122,\n",
       "        -6.30566266,  -3.90045818,  -2.46880188,  -3.93761578])"
      ]
     },
     "execution_count": 47,
     "metadata": {},
     "output_type": "execute_result"
    }
   ],
   "source": [
    "resultado_validacion_cruzada"
   ]
  },
  {
   "cell_type": "code",
   "execution_count": 48,
   "id": "c6388b26",
   "metadata": {},
   "outputs": [
    {
     "data": {
      "text/plain": [
       "-4.81891944621545"
      ]
     },
     "execution_count": 48,
     "metadata": {},
     "output_type": "execute_result"
    }
   ],
   "source": [
    "resultado_validacion_cruzada.mean()"
   ]
  },
  {
   "cell_type": "code",
   "execution_count": 54,
   "id": "670e7c3d",
   "metadata": {},
   "outputs": [],
   "source": [
    "resultado_cv = []\n",
    "for i in range (10, 100):\n",
    "    cv_rmse = cross_val_score(estimator=modelo_ols, X=X, y=y, \n",
    "                             scoring='neg_root_mean_squared_error',\n",
    "                             cv=i).mean()\n",
    "    resultado_cv.append(cv_rmse)\n"
   ]
  },
  {
   "cell_type": "code",
   "execution_count": 51,
   "id": "3e9f7643",
   "metadata": {},
   "outputs": [],
   "source": [
    "%matplotlib inline\n",
    "import matplotlib.pyplot as plt"
   ]
  },
  {
   "cell_type": "code",
   "execution_count": 55,
   "id": "8233c24c",
   "metadata": {},
   "outputs": [
    {
     "data": {
      "text/plain": [
       "<function matplotlib.pyplot.show(close=None, block=None)>"
      ]
     },
     "execution_count": 55,
     "metadata": {},
     "output_type": "execute_result"
    },
    {
     "data": {
      "image/png": "[encoded data removed]",
      "text/plain": [
       "<Figure size 432x288 with 1 Axes>"
      ]
     },
     "metadata": {
      "needs_background": "light"
     },
     "output_type": "display_data"
    }
   ],
   "source": [
    "plt.plot(resultado_cv)\n",
    "plt.show"
   ]
  },
  {
   "cell_type": "code",
   "execution_count": 56,
   "id": "32f1838d",
   "metadata": {},
   "outputs": [],
   "source": [
    "# cross_validate permite aplicar mas de un algoritmo de calculo de error\n",
    "# los algoritmos de error se pasan como un diccionario\n",
    "from sklearn.model_selection import cross_validate\n",
    "# cross_validate?"
   ]
  },
  {
   "cell_type": "code",
   "execution_count": 61,
   "id": "a02ed315",
   "metadata": {},
   "outputs": [],
   "source": [
    "score_error = {'mae':'neg_mean_absolute_error',\n",
    "              'rmse':'neg_root_mean_squared_error',\n",
    "              'mse':'neg_mean_squared_error'}\n",
    "resultado_cvalidate = cross_validate(estimator=modelo_ols,\n",
    "                                    X=X,\n",
    "                                    y=y,\n",
    "                                    scoring=score_error, \n",
    "                                    cv=50)"
   ]
  },
  {
   "cell_type": "code",
   "execution_count": 64,
   "id": "f83e4044",
   "metadata": {},
   "outputs": [],
   "source": [
    "import pandas as pd"
   ]
  },
  {
   "cell_type": "code",
   "execution_count": 63,
   "id": "0f5bd59b",
   "metadata": {},
   "outputs": [
    {
     "data": {
      "text/plain": [
       "fit_time       0.000772\n",
       "score_time     0.000724\n",
       "test_mae      -3.623136\n",
       "test_rmse     -4.444662\n",
       "test_mse     -28.221030\n",
       "dtype: float64"
      ]
     },
     "execution_count": 63,
     "metadata": {},
     "output_type": "execute_result"
    }
   ],
   "source": [
    "pd.DataFrame(resultado_cvalidate).mean()"
   ]
  },
  {
   "cell_type": "code",
   "execution_count": null,
   "id": "d64092c2",
   "metadata": {},
   "outputs": [],
   "source": []
  },
  {
   "cell_type": "code",
   "execution_count": null,
   "id": "660b5ef2",
   "metadata": {},
   "outputs": [],
   "source": []
  },
  {
   "cell_type": "code",
   "execution_count": null,
   "id": "23fb4093",
   "metadata": {},
   "outputs": [],
   "source": []
  }
 ],
 "metadata": {
  "kernelspec": {
   "display_name": "Python 3 (ipykernel)",
   "language": "python",
   "name": "python3"
  },
  "language_info": {
   "codemirror_mode": {
    "name": "ipython",
    "version": 3
   },
   "file_extension": ".py",
   "mimetype": "text/x-python",
   "name": "python",
   "nbconvert_exporter": "python",
   "pygments_lexer": "ipython3",
   "version": "3.8.12"
  },
  "toc": {
   "base_numbering": 1,
   "nav_menu": {},
   "number_sections": true,
   "sideBar": true,
   "skip_h1_title": true,
   "title_cell": "Table of Contents",
   "title_sidebar": "Contents",
   "toc_cell": false,
   "toc_position": {},
   "toc_section_display": true,
   "toc_window_display": false
  },
  "varInspector": {
   "cols": {
    "lenName": 16,
    "lenType": 16,
    "lenVar": 40
   },
   "kernels_config": {
    "python": {
     "delete_cmd_postfix": "",
     "delete_cmd_prefix": "del ",
     "library": "var_list.py",
     "varRefreshCmd": "print(var_dic_list())"
    },
    "r": {
     "delete_cmd_postfix": ") ",
     "delete_cmd_prefix": "rm(",
     "library": "var_list.r",
     "varRefreshCmd": "cat(var_dic_list()) "
    }
   },
   "types_to_exclude": [
    "module",
    "function",
    "builtin_function_or_method",
    "instance",
    "_Feature"
   ],
   "window_display": false
  }
 },
 "nbformat": 4,
 "nbformat_minor": 5
}
