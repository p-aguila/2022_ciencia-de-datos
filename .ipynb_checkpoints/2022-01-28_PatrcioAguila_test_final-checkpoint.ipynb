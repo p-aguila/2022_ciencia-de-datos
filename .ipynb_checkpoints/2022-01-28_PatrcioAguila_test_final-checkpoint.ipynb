{
 "cells": [
  {
   "cell_type": "markdown",
   "id": "407e73a7",
   "metadata": {},
   "source": [
    "## Ejercicio final del curso Aprendizaje de Máquina Supervisado\n",
    "\n",
    "### Instrucciones\n",
    "Dataset: Wine dataset\n",
    "\n",
    "Enunciado: Crear un modelo supervisado para pronosticar a qué clase pertenece un vino\n",
    "\n",
    "Se solicita:\n",
    "\n",
    "1. La implementación del modelo predictivo (ud. lo selecciona) en Python\n",
    "2. Una métrica de evaluación del modelo como por ejemplo validación cruzada"
   ]
  },
  {
   "cell_type": "markdown",
   "id": "8afbd5f7",
   "metadata": {},
   "source": [
    "### Pre-procesado de la data"
   ]
  },
  {
   "cell_type": "code",
   "execution_count": 1,
   "id": "a2cdb798",
   "metadata": {},
   "outputs": [],
   "source": [
    "# importar dataset\n",
    "from sklearn.datasets import load_wine\n",
    "# importar librerias de uso comun\n",
    "import pandas as pd\n",
    "import numpy as np"
   ]
  },
  {
   "cell_type": "code",
   "execution_count": 2,
   "id": "c18fdfa7",
   "metadata": {},
   "outputs": [
    {
     "name": "stdout",
     "output_type": "stream",
     "text": [
      ".. _wine_dataset:\n",
      "\n",
      "Wine recognition dataset\n",
      "------------------------\n",
      "\n",
      "**Data Set Characteristics:**\n",
      "\n",
      "    :Number of Instances: 178 (50 in each of three classes)\n",
      "    :Number of Attributes: 13 numeric, predictive attributes and the class\n",
      "    :Attribute Information:\n",
      " \t\t- Alcohol\n",
      " \t\t- Malic acid\n",
      " \t\t- Ash\n",
      "\t\t- Alcalinity of ash  \n",
      " \t\t- Magnesium\n",
      "\t\t- Total phenols\n",
      " \t\t- Flavanoids\n",
      " \t\t- Nonflavanoid phenols\n",
      " \t\t- Proanthocyanins\n",
      "\t\t- Color intensity\n",
      " \t\t- Hue\n",
      " \t\t- OD280/OD315 of diluted wines\n",
      " \t\t- Proline\n",
      "\n",
      "    - class:\n",
      "            - class_0\n",
      "            - class_1\n",
      "            - class_2\n",
      "\t\t\n",
      "    :Summary Statistics:\n",
      "    \n",
      "    ============================= ==== ===== ======= =====\n",
      "                                   Min   Max   Mean     SD\n",
      "    ============================= ==== ===== ======= =====\n",
      "    Alcohol:                      11.0  14.8    13.0   0.8\n",
      "    Malic Acid:                   0.74  5.80    2.34  1.12\n",
      "    Ash:                          1.36  3.23    2.36  0.27\n",
      "    Alcalinity of Ash:            10.6  30.0    19.5   3.3\n",
      "    Magnesium:                    70.0 162.0    99.7  14.3\n",
      "    Total Phenols:                0.98  3.88    2.29  0.63\n",
      "    Flavanoids:                   0.34  5.08    2.03  1.00\n",
      "    Nonflavanoid Phenols:         0.13  0.66    0.36  0.12\n",
      "    Proanthocyanins:              0.41  3.58    1.59  0.57\n",
      "    Colour Intensity:              1.3  13.0     5.1   2.3\n",
      "    Hue:                          0.48  1.71    0.96  0.23\n",
      "    OD280/OD315 of diluted wines: 1.27  4.00    2.61  0.71\n",
      "    Proline:                       278  1680     746   315\n",
      "    ============================= ==== ===== ======= =====\n",
      "\n",
      "    :Missing Attribute Values: None\n",
      "    :Class Distribution: class_0 (59), class_1 (71), class_2 (48)\n",
      "    :Creator: R.A. Fisher\n",
      "    :Donor: Michael Marshall (MARSHALL%PLU@io.arc.nasa.gov)\n",
      "    :Date: July, 1988\n",
      "\n",
      "This is a copy of UCI ML Wine recognition datasets.\n",
      "https://archive.ics.uci.edu/ml/machine-learning-databases/wine/wine.data\n",
      "\n",
      "The data is the results of a chemical analysis of wines grown in the same\n",
      "region in Italy by three different cultivators. There are thirteen different\n",
      "measurements taken for different constituents found in the three types of\n",
      "wine.\n",
      "\n",
      "Original Owners: \n",
      "\n",
      "Forina, M. et al, PARVUS - \n",
      "An Extendible Package for Data Exploration, Classification and Correlation. \n",
      "Institute of Pharmaceutical and Food Analysis and Technologies,\n",
      "Via Brigata Salerno, 16147 Genoa, Italy.\n",
      "\n",
      "Citation:\n",
      "\n",
      "Lichman, M. (2013). UCI Machine Learning Repository\n",
      "[https://archive.ics.uci.edu/ml]. Irvine, CA: University of California,\n",
      "School of Information and Computer Science. \n",
      "\n",
      ".. topic:: References\n",
      "\n",
      "  (1) S. Aeberhard, D. Coomans and O. de Vel, \n",
      "  Comparison of Classifiers in High Dimensional Settings, \n",
      "  Tech. Rep. no. 92-02, (1992), Dept. of Computer Science and Dept. of  \n",
      "  Mathematics and Statistics, James Cook University of North Queensland. \n",
      "  (Also submitted to Technometrics). \n",
      "\n",
      "  The data was used with many others for comparing various \n",
      "  classifiers. The classes are separable, though only RDA \n",
      "  has achieved 100% correct classification. \n",
      "  (RDA : 100%, QDA 99.4%, LDA 98.9%, 1NN 96.1% (z-transformed data)) \n",
      "  (All results using the leave-one-out technique) \n",
      "\n",
      "  (2) S. Aeberhard, D. Coomans and O. de Vel, \n",
      "  \"THE CLASSIFICATION PERFORMANCE OF RDA\" \n",
      "  Tech. Rep. no. 92-01, (1992), Dept. of Computer Science and Dept. of \n",
      "  Mathematics and Statistics, James Cook University of North Queensland. \n",
      "  (Also submitted to Journal of Chemometrics).\n",
      "\n"
     ]
    }
   ],
   "source": [
    "# cargar array de datos del dataset y guardarlos en una variable\n",
    "datos_vinos = load_wine()\n",
    "# descripcion del dataset y principales caracteristicas\n",
    "print(datos_vinos['DESCR'])"
   ]
  },
  {
   "cell_type": "code",
   "execution_count": 3,
   "id": "7a1d9a2a",
   "metadata": {},
   "outputs": [
    {
     "data": {
      "text/html": [
       "<div>\n",
       "<style scoped>\n",
       "    .dataframe tbody tr th:only-of-type {\n",
       "        vertical-align: middle;\n",
       "    }\n",
       "\n",
       "    .dataframe tbody tr th {\n",
       "        vertical-align: top;\n",
       "    }\n",
       "\n",
       "    .dataframe thead th {\n",
       "        text-align: right;\n",
       "    }\n",
       "</style>\n",
       "<table border=\"1\" class=\"dataframe\">\n",
       "  <thead>\n",
       "    <tr style=\"text-align: right;\">\n",
       "      <th></th>\n",
       "      <th>alcohol</th>\n",
       "      <th>malic_acid</th>\n",
       "      <th>ash</th>\n",
       "      <th>ashalcalinity</th>\n",
       "      <th>magnesium</th>\n",
       "      <th>total_phenols</th>\n",
       "      <th>flavanoids</th>\n",
       "      <th>non_flavanoid_phenols</th>\n",
       "      <th>proanthocyanins</th>\n",
       "      <th>color_intensity</th>\n",
       "      <th>hue</th>\n",
       "      <th>od280_od315</th>\n",
       "      <th>proline</th>\n",
       "      <th>objetivo</th>\n",
       "    </tr>\n",
       "  </thead>\n",
       "  <tbody>\n",
       "    <tr>\n",
       "      <th>0</th>\n",
       "      <td>14.23</td>\n",
       "      <td>1.71</td>\n",
       "      <td>2.43</td>\n",
       "      <td>15.6</td>\n",
       "      <td>127.0</td>\n",
       "      <td>2.80</td>\n",
       "      <td>3.06</td>\n",
       "      <td>0.28</td>\n",
       "      <td>2.29</td>\n",
       "      <td>5.64</td>\n",
       "      <td>1.04</td>\n",
       "      <td>3.92</td>\n",
       "      <td>1065.0</td>\n",
       "      <td>0</td>\n",
       "    </tr>\n",
       "    <tr>\n",
       "      <th>1</th>\n",
       "      <td>13.20</td>\n",
       "      <td>1.78</td>\n",
       "      <td>2.14</td>\n",
       "      <td>11.2</td>\n",
       "      <td>100.0</td>\n",
       "      <td>2.65</td>\n",
       "      <td>2.76</td>\n",
       "      <td>0.26</td>\n",
       "      <td>1.28</td>\n",
       "      <td>4.38</td>\n",
       "      <td>1.05</td>\n",
       "      <td>3.40</td>\n",
       "      <td>1050.0</td>\n",
       "      <td>0</td>\n",
       "    </tr>\n",
       "    <tr>\n",
       "      <th>2</th>\n",
       "      <td>13.16</td>\n",
       "      <td>2.36</td>\n",
       "      <td>2.67</td>\n",
       "      <td>18.6</td>\n",
       "      <td>101.0</td>\n",
       "      <td>2.80</td>\n",
       "      <td>3.24</td>\n",
       "      <td>0.30</td>\n",
       "      <td>2.81</td>\n",
       "      <td>5.68</td>\n",
       "      <td>1.03</td>\n",
       "      <td>3.17</td>\n",
       "      <td>1185.0</td>\n",
       "      <td>0</td>\n",
       "    </tr>\n",
       "    <tr>\n",
       "      <th>3</th>\n",
       "      <td>14.37</td>\n",
       "      <td>1.95</td>\n",
       "      <td>2.50</td>\n",
       "      <td>16.8</td>\n",
       "      <td>113.0</td>\n",
       "      <td>3.85</td>\n",
       "      <td>3.49</td>\n",
       "      <td>0.24</td>\n",
       "      <td>2.18</td>\n",
       "      <td>7.80</td>\n",
       "      <td>0.86</td>\n",
       "      <td>3.45</td>\n",
       "      <td>1480.0</td>\n",
       "      <td>0</td>\n",
       "    </tr>\n",
       "    <tr>\n",
       "      <th>4</th>\n",
       "      <td>13.24</td>\n",
       "      <td>2.59</td>\n",
       "      <td>2.87</td>\n",
       "      <td>21.0</td>\n",
       "      <td>118.0</td>\n",
       "      <td>2.80</td>\n",
       "      <td>2.69</td>\n",
       "      <td>0.39</td>\n",
       "      <td>1.82</td>\n",
       "      <td>4.32</td>\n",
       "      <td>1.04</td>\n",
       "      <td>2.93</td>\n",
       "      <td>735.0</td>\n",
       "      <td>0</td>\n",
       "    </tr>\n",
       "  </tbody>\n",
       "</table>\n",
       "</div>"
      ],
      "text/plain": [
       "   alcohol  malic_acid   ash  ashalcalinity  magnesium  total_phenols  \\\n",
       "0    14.23        1.71  2.43           15.6      127.0           2.80   \n",
       "1    13.20        1.78  2.14           11.2      100.0           2.65   \n",
       "2    13.16        2.36  2.67           18.6      101.0           2.80   \n",
       "3    14.37        1.95  2.50           16.8      113.0           3.85   \n",
       "4    13.24        2.59  2.87           21.0      118.0           2.80   \n",
       "\n",
       "   flavanoids  non_flavanoid_phenols  proanthocyanins  color_intensity   hue  \\\n",
       "0        3.06                   0.28             2.29             5.64  1.04   \n",
       "1        2.76                   0.26             1.28             4.38  1.05   \n",
       "2        3.24                   0.30             2.81             5.68  1.03   \n",
       "3        3.49                   0.24             2.18             7.80  0.86   \n",
       "4        2.69                   0.39             1.82             4.32  1.04   \n",
       "\n",
       "   od280_od315  proline  objetivo  \n",
       "0         3.92   1065.0         0  \n",
       "1         3.40   1050.0         0  \n",
       "2         3.17   1185.0         0  \n",
       "3         3.45   1480.0         0  \n",
       "4         2.93    735.0         0  "
      ]
     },
     "execution_count": 3,
     "metadata": {},
     "output_type": "execute_result"
    }
   ],
   "source": [
    "# creacion de un pandas dataframe \n",
    "df_wine = pd.DataFrame(datos_vinos.data)\n",
    "df_wine.columns = ['alcohol', \n",
    "                   'malic_acid', \n",
    "                   'ash', \n",
    "                   'ashalcalinity', \n",
    "                   'magnesium', \n",
    "                   'total_phenols', \n",
    "                   'flavanoids', \n",
    "                   'non_flavanoid_phenols', \n",
    "                   'proanthocyanins', \n",
    "                   'color_intensity', \n",
    "                   'hue', \n",
    "                   'od280_od315', \n",
    "                   'proline']\n",
    "df_wine['objetivo'] = datos_vinos.target\n",
    "df_wine.head()"
   ]
  },
  {
   "cell_type": "markdown",
   "id": "6220bc08",
   "metadata": {},
   "source": [
    "### Definición de variables dependientes, independiente y división de conjuntos de entrenamiento y prueba"
   ]
  },
  {
   "cell_type": "code",
   "execution_count": 4,
   "id": "846ee82b",
   "metadata": {},
   "outputs": [
    {
     "data": {
      "text/plain": [
       "(178,)"
      ]
     },
     "execution_count": 4,
     "metadata": {},
     "output_type": "execute_result"
    }
   ],
   "source": [
    "# variable dependiente\n",
    "y = df_wine['objetivo']\n",
    "y.shape"
   ]
  },
  {
   "cell_type": "code",
   "execution_count": 5,
   "id": "e8f0b3c6",
   "metadata": {},
   "outputs": [
    {
     "data": {
      "text/plain": [
       "(178, 13)"
      ]
     },
     "execution_count": 5,
     "metadata": {},
     "output_type": "execute_result"
    }
   ],
   "source": [
    "# variable independiente\n",
    "X = df_wine.drop('objetivo', axis=1)\n",
    "X.shape"
   ]
  },
  {
   "cell_type": "code",
   "execution_count": 6,
   "id": "0c194d71",
   "metadata": {},
   "outputs": [
    {
     "name": "stdout",
     "output_type": "stream",
     "text": [
      "(124, 13)\n",
      "(54, 13)\n"
     ]
    }
   ],
   "source": [
    "# particion en conjuntos de entrenamiento y de prueba\n",
    "from sklearn.model_selection import train_test_split\n",
    "\n",
    "X_train, X_test, y_train, y_test = train_test_split(X, y, test_size=0.3, random_state=42)\n",
    "print(X_train.shape)\n",
    "print(X_test.shape)"
   ]
  },
  {
   "cell_type": "markdown",
   "id": "6cc36113",
   "metadata": {},
   "source": [
    "### Importación de librerías de los modelos de clasificación"
   ]
  },
  {
   "cell_type": "code",
   "execution_count": 7,
   "id": "9552ea24",
   "metadata": {},
   "outputs": [],
   "source": [
    "# importar libreria para validacion cruzada\n",
    "from sklearn.model_selection import cross_val_score\n",
    "\n",
    "# importar librerias de los distintos modelos de clasificacion\n",
    "from sklearn.linear_model import LogisticRegression\n",
    "from sklearn.naive_bayes import GaussianNB\n",
    "from sklearn.neighbors import KNeighborsClassifier\n",
    "from sklearn.tree import DecisionTreeClassifier\n",
    "from sklearn.svm import SVC\n",
    "from sklearn.ensemble import RandomForestClassifier\n",
    "from xgboost import XGBClassifier\n",
    "from sklearn.ensemble import AdaBoostClassifier\n",
    "from sklearn.ensemble import GradientBoostingClassifier\n",
    "\n",
    "modelos = []\n",
    "\n",
    "# establecer parametros necesarios para correr cada modelo\n",
    "modelos.append((\"Logistic Regression:\",LogisticRegression()))\n",
    "modelos.append((\"Naive Bayes:\",GaussianNB()))\n",
    "modelos.append((\"K-Nearest Neighbour:\",KNeighborsClassifier(n_neighbors=3)))\n",
    "modelos.append((\"Decision Tree:\",DecisionTreeClassifier()))\n",
    "modelos.append((\"Support Vector Machine-linear:\",SVC(kernel=\"linear\")))\n",
    "modelos.append((\"Support Vector Machine-rbf:\",SVC(kernel=\"rbf\")))\n",
    "modelos.append((\"Random Forest:\",RandomForestClassifier(n_estimators=7)))\n",
    "modelos.append((\"eXtreme Gradient Boost:\",XGBClassifier(verbosity = 0)))\n",
    "modelos.append((\"AdaBoostClassifier:\",AdaBoostClassifier()))\n",
    "modelos.append((\"GradientBoostingClassifier:\",GradientBoostingClassifier()))\n"
   ]
  },
  {
   "cell_type": "code",
   "execution_count": 8,
   "id": "f0029a12",
   "metadata": {},
   "outputs": [],
   "source": [
    "# importar libreria para ignorar advertencias de codigos 'deprecated'\n",
    "import warnings\n",
    "warnings.filterwarnings('ignore')"
   ]
  },
  {
   "cell_type": "markdown",
   "id": "5148ad17",
   "metadata": {},
   "source": [
    "### Evaluación a priori de cada modelo de clasificación"
   ]
  },
  {
   "cell_type": "code",
   "execution_count": 9,
   "id": "404d06b7",
   "metadata": {},
   "outputs": [
    {
     "name": "stdout",
     "output_type": "stream",
     "text": [
      "Logistic Regression: 92.82\n",
      "Naive Bayes: 95.96\n",
      "K-Nearest Neighbour: 67.05\n",
      "Decision Tree: 93.72\n",
      "Support Vector Machine-linear: 93.46\n",
      "Support Vector Machine-rbf: 64.74\n",
      "Random Forest: 95.9\n",
      "eXtreme Gradient Boost: 94.36\n",
      "AdaBoostClassifier: 89.62\n",
      "GradientBoostingClassifier: 92.05\n"
     ]
    }
   ],
   "source": [
    "# implementacion de una validacion cruzada para todos los metodos de clasificacion\n",
    "# el 'scoring' elegido es la medida de 'accuracy' o exactitud. \n",
    "# no se usa el f1 score, ya que segun documentacion, este aplica para variables objetivo binarias\n",
    "# para mas info ver https://scikit-learn.org/stable/modules/model_evaluation.html\n",
    "resultados = []\n",
    "nombres = []\n",
    "for nombre, modelo in modelos:\n",
    "    cv_resultado = cross_val_score(modelo, \n",
    "                                X_train, \n",
    "                                y_train, \n",
    "                                cv = 10, \n",
    "                                scoring = \"accuracy\")\n",
    "    nombres.append(nombre)\n",
    "    resultados.append(cv_resultado)\n",
    "for i in range(len(nombres)):\n",
    "    print(nombres[i],round(resultados[i].mean()*100,2))"
   ]
  },
  {
   "cell_type": "markdown",
   "id": "fa74eed6",
   "metadata": {},
   "source": [
    "## Evaluación de modelos de clasificación"
   ]
  },
  {
   "cell_type": "markdown",
   "id": "b61be8d8",
   "metadata": {},
   "source": [
    "Seleccionamos los cuatro modelos con mejor performance a priori en el `accuracy scoring`:\n",
    "- Naive Bayes\n",
    "- Support Vector Machine (Lineal)\n",
    "- Random Forest\n",
    "- Extreme Gradient Boost"
   ]
  },
  {
   "cell_type": "code",
   "execution_count": 10,
   "id": "0c870aa6",
   "metadata": {},
   "outputs": [],
   "source": [
    "# importamos librerias para cuantificacion de metricas\n",
    "from sklearn.metrics import confusion_matrix, accuracy_score"
   ]
  },
  {
   "cell_type": "markdown",
   "id": "2a462225",
   "metadata": {},
   "source": [
    "### Evaluación modelo Naive Bayes"
   ]
  },
  {
   "cell_type": "code",
   "execution_count": 11,
   "id": "98c1f5e3",
   "metadata": {},
   "outputs": [],
   "source": [
    "# Gaussian Naive Bayes\n",
    "nb = GaussianNB()\n",
    "nb.fit(X_train, y_train)\n",
    "nb_pred = nb.predict(X_test)"
   ]
  },
  {
   "cell_type": "code",
   "execution_count": 12,
   "id": "4bb69f2c",
   "metadata": {},
   "outputs": [
    {
     "name": "stdout",
     "output_type": "stream",
     "text": [
      "[[19  0  0]\n",
      " [ 0 21  0]\n",
      " [ 0  0 14]]\n",
      "100.0\n"
     ]
    }
   ],
   "source": [
    "# Matriz de confusin y 'accuracy score'\n",
    "nb_conf_matrix = confusion_matrix(y_test, nb_pred)\n",
    "nb_accuracy = accuracy_score(y_test, nb_pred)\n",
    "print(nb_conf_matrix)\n",
    "print(nb_accuracy*100)\n",
    "\n",
    "# Segun los resultados obtenidos, hay un 100% de acierto en las predicciones."
   ]
  },
  {
   "cell_type": "markdown",
   "id": "3197fb7d",
   "metadata": {},
   "source": [
    "### Evaluación modelo  Support Vector Machine (Lineal)"
   ]
  },
  {
   "cell_type": "code",
   "execution_count": 13,
   "id": "8d4459c8",
   "metadata": {},
   "outputs": [],
   "source": [
    "# Support Vector Machine (Lineal)\n",
    "lin_svc = SVC(kernel='linear')\n",
    "lin_svc.fit(X_train, y_train)\n",
    "lin_svc_pred = lin_svc.predict(X_test)"
   ]
  },
  {
   "cell_type": "code",
   "execution_count": 14,
   "id": "c0de66d0",
   "metadata": {},
   "outputs": [
    {
     "name": "stdout",
     "output_type": "stream",
     "text": [
      "[[19  0  0]\n",
      " [ 0 20  1]\n",
      " [ 0  0 14]]\n",
      "98.14814814814815\n"
     ]
    }
   ],
   "source": [
    "# Matriz de confusin y 'accuracy score'\n",
    "lin_svc_conf_matrix = confusion_matrix(y_test, lin_svc_pred)\n",
    "lin_svc_accuracy = accuracy_score(y_test, lin_svc_pred)\n",
    "print(lin_svc_conf_matrix)\n",
    "print(lin_svc_accuracy*100)"
   ]
  },
  {
   "cell_type": "markdown",
   "id": "9d2720bb",
   "metadata": {},
   "source": [
    "### Evaluación modelo Random Forest"
   ]
  },
  {
   "cell_type": "code",
   "execution_count": 15,
   "id": "786706c2",
   "metadata": {},
   "outputs": [],
   "source": [
    "# Random Forest\n",
    "rf = RandomForestClassifier()\n",
    "rf.fit(X_train, y_train)\n",
    "rf_pred = rf.predict(X_test)"
   ]
  },
  {
   "cell_type": "code",
   "execution_count": 16,
   "id": "d985e586",
   "metadata": {},
   "outputs": [
    {
     "name": "stdout",
     "output_type": "stream",
     "text": [
      "[[19  0  0]\n",
      " [ 0 21  0]\n",
      " [ 0  0 14]]\n",
      "100.0\n"
     ]
    }
   ],
   "source": [
    "# Matriz de confusin y 'accuracy score'\n",
    "rf_conf_matrix = confusion_matrix(y_test, rf_pred)\n",
    "rf_accuracy = accuracy_score(y_test, rf_pred)\n",
    "print(rf_conf_matrix)\n",
    "print(rf_accuracy*100)"
   ]
  },
  {
   "cell_type": "markdown",
   "id": "97b0ac4e",
   "metadata": {},
   "source": [
    "### Evaluación modelo Extreme Gradient Boost"
   ]
  },
  {
   "cell_type": "code",
   "execution_count": 17,
   "id": "a35dcf63",
   "metadata": {},
   "outputs": [],
   "source": [
    "# Extreme Gradient Boost\n",
    "xgb = XGBClassifier(learning_rate = 0.1, n_estimators = 100)\n",
    "xgb.fit(X_train, y_train)\n",
    "xgb_pred = xgb.predict(X_test)"
   ]
  },
  {
   "cell_type": "code",
   "execution_count": 18,
   "id": "265353d9",
   "metadata": {},
   "outputs": [
    {
     "name": "stdout",
     "output_type": "stream",
     "text": [
      "[[19  0  0]\n",
      " [ 0 21  0]\n",
      " [ 0  0 14]]\n",
      "100.0\n"
     ]
    }
   ],
   "source": [
    "# Matriz de confusin y 'accuracy score' \n",
    "xgb_conf_matrix = confusion_matrix(y_test, xgb_pred)\n",
    "xgb_accuracy = accuracy_score(y_test, xgb_pred)\n",
    "print(rf_conf_matrix)\n",
    "print(rf_accuracy*100)"
   ]
  },
  {
   "cell_type": "markdown",
   "id": "f7801060",
   "metadata": {},
   "source": [
    "## Conclusiones"
   ]
  },
  {
   "cell_type": "markdown",
   "id": "2fbdb599",
   "metadata": {},
   "source": [
    "### Principales hallazgos\n",
    "- Los modelos evaluados en el punto 2 con el mejor desempeño fueron: Gaussian Naive Bayes, Random Forest y Extreme Gradient Boost, con una exactitud de un 100% en las predicciones.\n",
    "- Dentro de mi poca experiencia, encuentro extraño tener un 100% de éxitos al evaluar un modelo, porque en la realidad esto nunca suele pasar. Puede que haya omitido algún dato importante, pero hasta el momento no me he percatado de ello (en caso de haber un error, agradecería se me indicara en qué he fallado).\n",
    "- Hubo dos modelos que no alcanzamos a ver ejemplos (Random Forest y Extreme Gradient Boost), así que tuve que evaluarlos en funcion de datasets encontrados en Kaggle."
   ]
  },
  {
   "cell_type": "markdown",
   "id": "1cd85058",
   "metadata": {},
   "source": [
    "### Bibliografía\n",
    "- [Implementación de algoritmo de evaluacion a priori de modelos con 'cross validation'](https://www.kaggle.com/abhikaggle8/wine-classification)\n",
    "- [Elección de método de 'scoring' para 'cross validation'](https://scikit-learn.org/stable/modules/model_evaluation.html)\n",
    "- [Implementación matriz de confusión](https://www.kaggle.com/vishalyo990/prediction-of-quality-of-wine)\n",
    "- [Implementación Naive Bayes, Random Forest, Support Vector Machine](https://www.kaggle.com/madhurisivalenka/basic-machine-learning-with-red-wine-quality-data)\n",
    "- [Implementación XGBClassifier](https://www.kaggle.com/niteshyadav3103/red-wine-quality-classification)"
   ]
  }
 ],
 "metadata": {
  "kernelspec": {
   "display_name": "Python 3 (ipykernel)",
   "language": "python",
   "name": "python3"
  },
  "language_info": {
   "codemirror_mode": {
    "name": "ipython",
    "version": 3
   },
   "file_extension": ".py",
   "mimetype": "text/x-python",
   "name": "python",
   "nbconvert_exporter": "python",
   "pygments_lexer": "ipython3",
   "version": "3.8.12"
  },
  "toc": {
   "base_numbering": 1,
   "nav_menu": {},
   "number_sections": true,
   "sideBar": true,
   "skip_h1_title": true,
   "title_cell": "Table of Contents",
   "title_sidebar": "Contents",
   "toc_cell": false,
   "toc_position": {},
   "toc_section_display": true,
   "toc_window_display": false
  },
  "varInspector": {
   "cols": {
    "lenName": 16,
    "lenType": 16,
    "lenVar": 40
   },
   "kernels_config": {
    "python": {
     "delete_cmd_postfix": "",
     "delete_cmd_prefix": "del ",
     "library": "var_list.py",
     "varRefreshCmd": "print(var_dic_list())"
    },
    "r": {
     "delete_cmd_postfix": ") ",
     "delete_cmd_prefix": "rm(",
     "library": "var_list.r",
     "varRefreshCmd": "cat(var_dic_list()) "
    }
   },
   "types_to_exclude": [
    "module",
    "function",
    "builtin_function_or_method",
    "instance",
    "_Feature"
   ],
   "window_display": false
  }
 },
 "nbformat": 4,
 "nbformat_minor": 5
}
