{
 "cells": [
  {
   "cell_type": "code",
   "execution_count": 1,
   "id": "b992eef0",
   "metadata": {},
   "outputs": [],
   "source": [
    "import numpy as np"
   ]
  },
  {
   "cell_type": "code",
   "execution_count": 2,
   "id": "10e0097c",
   "metadata": {},
   "outputs": [],
   "source": [
    "# definimos una neurona\n",
    "class NeuronaMP:\n",
    "    # constructor\n",
    "    def __init__(self):\n",
    "        # sesgo, bias, umbral\n",
    "        self.b = None\n",
    "    \n",
    "    def modelo(self, x):\n",
    "        z = sum(x)\n",
    "        return (z >= self.b) \n",
    "    \n",
    "    def predict(self, X):\n",
    "        y = []\n",
    "        for i in X:\n",
    "            resultado = self.modelo(i)\n",
    "            y.append(resultado)\n",
    "            return np.array(y)"
   ]
  },
  {
   "cell_type": "code",
   "execution_count": 3,
   "id": "6efe5c1e",
   "metadata": {},
   "outputs": [],
   "source": [
    "# instanciar la neurona \n",
    "mp_neurona = NeuronaMP()"
   ]
  },
  {
   "cell_type": "code",
   "execution_count": 4,
   "id": "429d51c6",
   "metadata": {},
   "outputs": [],
   "source": [
    "# le damos valor al bias\n",
    "mp_neurona.b = 5"
   ]
  },
  {
   "cell_type": "code",
   "execution_count": 5,
   "id": "e92d81d5",
   "metadata": {},
   "outputs": [
    {
     "data": {
      "text/plain": [
       "array([ True])"
      ]
     },
     "execution_count": 5,
     "metadata": {},
     "output_type": "execute_result"
    }
   ],
   "source": [
    "# predecir\n",
    "mp_neurona.predict([[6,-1],[2,7,8],[-15]])"
   ]
  }
 ],
 "metadata": {
  "kernelspec": {
   "display_name": "Python 3 (ipykernel)",
   "language": "python",
   "name": "python3"
  },
  "language_info": {
   "codemirror_mode": {
    "name": "ipython",
    "version": 3
   },
   "file_extension": ".py",
   "mimetype": "text/x-python",
   "name": "python",
   "nbconvert_exporter": "python",
   "pygments_lexer": "ipython3",
   "version": "3.8.12"
  },
  "toc": {
   "base_numbering": 1,
   "nav_menu": {},
   "number_sections": true,
   "sideBar": true,
   "skip_h1_title": true,
   "title_cell": "Table of Contents",
   "title_sidebar": "Contents",
   "toc_cell": false,
   "toc_position": {},
   "toc_section_display": true,
   "toc_window_display": false
  },
  "varInspector": {
   "cols": {
    "lenName": 16,
    "lenType": 16,
    "lenVar": 40
   },
   "kernels_config": {
    "python": {
     "delete_cmd_postfix": "",
     "delete_cmd_prefix": "del ",
     "library": "var_list.py",
     "varRefreshCmd": "print(var_dic_list())"
    },
    "r": {
     "delete_cmd_postfix": ") ",
     "delete_cmd_prefix": "rm(",
     "library": "var_list.r",
     "varRefreshCmd": "cat(var_dic_list()) "
    }
   },
   "types_to_exclude": [
    "module",
    "function",
    "builtin_function_or_method",
    "instance",
    "_Feature"
   ],
   "window_display": false
  }
 },
 "nbformat": 4,
 "nbformat_minor": 5
}
