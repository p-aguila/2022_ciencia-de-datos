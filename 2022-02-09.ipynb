{
 "cells": [
  {
   "cell_type": "code",
   "execution_count": 1,
   "id": "c32b428c",
   "metadata": {},
   "outputs": [],
   "source": [
    "import tensorflow as tf"
   ]
  },
  {
   "cell_type": "code",
   "execution_count": 3,
   "id": "a22e9f1d",
   "metadata": {},
   "outputs": [],
   "source": [
    "from tensorflow import keras"
   ]
  },
  {
   "cell_type": "code",
   "execution_count": 7,
   "id": "d6a2b34c",
   "metadata": {},
   "outputs": [
    {
     "data": {
      "text/plain": [
       "'2.3.0'"
      ]
     },
     "execution_count": 7,
     "metadata": {},
     "output_type": "execute_result"
    }
   ],
   "source": [
    "tf.__version__"
   ]
  },
  {
   "cell_type": "code",
   "execution_count": 5,
   "id": "e294fca9",
   "metadata": {},
   "outputs": [
    {
     "data": {
      "text/plain": [
       "'2.4.0'"
      ]
     },
     "execution_count": 5,
     "metadata": {},
     "output_type": "execute_result"
    }
   ],
   "source": [
    "keras.__version__"
   ]
  },
  {
   "cell_type": "code",
   "execution_count": 8,
   "id": "d24a781e",
   "metadata": {},
   "outputs": [],
   "source": [
    "# obtener el dataset\n",
    "from tensorflow.keras import datasets"
   ]
  },
  {
   "cell_type": "code",
   "execution_count": 9,
   "id": "c7f81cde",
   "metadata": {},
   "outputs": [],
   "source": [
    "mnist = datasets.mnist"
   ]
  },
  {
   "cell_type": "code",
   "execution_count": 11,
   "id": "48ec8ac5",
   "metadata": {},
   "outputs": [
    {
     "name": "stdout",
     "output_type": "stream",
     "text": [
      "Downloading data from https://storage.googleapis.com/tensorflow/tf-keras-datasets/mnist.npz\n",
      "11493376/11490434 [==============================] - 1s 0us/step\n"
     ]
    }
   ],
   "source": [
    "(X_train, y_train), (X_test, y_test) = mnist.load_data()"
   ]
  },
  {
   "cell_type": "code",
   "execution_count": 21,
   "id": "d237544f",
   "metadata": {},
   "outputs": [
    {
     "data": {
      "text/plain": [
       "(3000, 28, 28)"
      ]
     },
     "execution_count": 21,
     "metadata": {},
     "output_type": "execute_result"
    }
   ],
   "source": [
    "X_test.shape"
   ]
  },
  {
   "cell_type": "code",
   "execution_count": 12,
   "id": "04ba94a7",
   "metadata": {},
   "outputs": [
    {
     "data": {
      "text/plain": [
       "(60000, 28, 28)"
      ]
     },
     "execution_count": 12,
     "metadata": {},
     "output_type": "execute_result"
    }
   ],
   "source": [
    "X_train.shape # 60 mil imagenes de 28x28 pixeles"
   ]
  },
  {
   "cell_type": "code",
   "execution_count": 13,
   "id": "dd70eebe",
   "metadata": {},
   "outputs": [],
   "source": [
    "from sklearn.model_selection import train_test_split\n",
    "\n",
    "X_test, X_val, y_test, y_val = train_test_split(X_test, y_test, test_size=0.7)"
   ]
  },
  {
   "cell_type": "code",
   "execution_count": 14,
   "id": "7314ade0",
   "metadata": {},
   "outputs": [],
   "source": [
    "# definir la architectura de la red neuronal artificial RNA\n",
    "from tensorflow.keras import models\n",
    "from tensorflow.keras import layers"
   ]
  },
  {
   "cell_type": "code",
   "execution_count": 15,
   "id": "f13cf420",
   "metadata": {},
   "outputs": [],
   "source": [
    "# definir capas de entrada, oculta y de salida\n",
    "network = models.Sequential()\n",
    "# (28*28,) se le da la dimension excplicita en el primer argumento, por eso va la coma\n",
    "network.add(layers.Dense(300, activation='relu', input_shape = (28*28,)))\n",
    "network.add(layers.Dense(100, activation='relu'))\n",
    "network.add(layers.Dense(10, activation='softmax'))"
   ]
  },
  {
   "cell_type": "code",
   "execution_count": 16,
   "id": "f5396fda",
   "metadata": {},
   "outputs": [
    {
     "name": "stdout",
     "output_type": "stream",
     "text": [
      "Model: \"sequential\"\n",
      "_________________________________________________________________\n",
      "Layer (type)                 Output Shape              Param #   \n",
      "=================================================================\n",
      "dense (Dense)                (None, 300)               235500    \n",
      "_________________________________________________________________\n",
      "dense_1 (Dense)              (None, 100)               30100     \n",
      "_________________________________________________________________\n",
      "dense_2 (Dense)              (None, 10)                1010      \n",
      "=================================================================\n",
      "Total params: 266,610\n",
      "Trainable params: 266,610\n",
      "Non-trainable params: 0\n",
      "_________________________________________________________________\n"
     ]
    }
   ],
   "source": [
    "network.summary()"
   ]
  },
  {
   "cell_type": "code",
   "execution_count": 17,
   "id": "f5d19ae9",
   "metadata": {},
   "outputs": [
    {
     "data": {
      "text/plain": [
       "235500"
      ]
     },
     "execution_count": 17,
     "metadata": {},
     "output_type": "execute_result"
    }
   ],
   "source": [
    "# px*px*neuronas + sesgo\n",
    "28*28*300 + 300"
   ]
  },
  {
   "cell_type": "code",
   "execution_count": 18,
   "id": "ada4ff8e",
   "metadata": {},
   "outputs": [
    {
     "data": {
      "text/plain": [
       "30100"
      ]
     },
     "execution_count": 18,
     "metadata": {},
     "output_type": "execute_result"
    }
   ],
   "source": [
    "# 300 neuronas capa oculta * 100 neuronas capa oculta + 100 neuronas capa oculta\n",
    "300*100 + 100"
   ]
  },
  {
   "cell_type": "code",
   "execution_count": 19,
   "id": "8d77b6df",
   "metadata": {},
   "outputs": [
    {
     "data": {
      "text/plain": [
       "1010"
      ]
     },
     "execution_count": 19,
     "metadata": {},
     "output_type": "execute_result"
    }
   ],
   "source": [
    "# 100 neuronas capa oculta * 10 neuronas capa salida + 10 neuronas capa salida\n",
    "100*10 + 10"
   ]
  },
  {
   "cell_type": "code",
   "execution_count": 20,
   "id": "e5eb8a17",
   "metadata": {},
   "outputs": [],
   "source": [
    "network.compile(loss='categorical_crossentropy', \n",
    "                optimizer='sgd', \n",
    "                metrics=['accuracy', 'Precision'])"
   ]
  },
  {
   "cell_type": "code",
   "execution_count": 22,
   "id": "d65101ea",
   "metadata": {},
   "outputs": [],
   "source": [
    "# configurar los datasets, redimensionar datos\n",
    "X_train_mod = X_train.reshape((X_train.shape[0],28*28))\n",
    "X_train_mod = X_train_mod.astype('float32')/255 #son los colores de los pixeles rgb u otro parecido\n",
    "\n",
    "X_test_mod = X_test.reshape((X_test.shape[0],28*28))\n",
    "X_test_mod = X_test_mod.astype('float32')/255 \n",
    "\n",
    "X_val_mod = X_val.reshape((X_val.shape[0],28*28))\n",
    "X_val_mod = X_val_mod.astype('float32')/255 "
   ]
  },
  {
   "cell_type": "code",
   "execution_count": 23,
   "id": "6dc40c3d",
   "metadata": {},
   "outputs": [],
   "source": [
    "from tensorflow.keras.utils import to_categorical\n",
    "y_train_mod = to_categorical(y_train)\n",
    "y_test_mod = to_categorical(y_test)\n",
    "y_val_mod = to_categorical(y_val)"
   ]
  },
  {
   "cell_type": "code",
   "execution_count": 25,
   "id": "7da364aa",
   "metadata": {},
   "outputs": [
    {
     "name": "stdout",
     "output_type": "stream",
     "text": [
      "Epoch 1/10\n",
      "1875/1875 [==============================] - 2s 1ms/step - loss: 0.0957 - accuracy: 0.9729 - precision: 0.9788 - val_loss: 0.1020 - val_accuracy: 0.9697 - val_precision: 0.9753\n",
      "Epoch 2/10\n",
      "1875/1875 [==============================] - 2s 1ms/step - loss: 0.0880 - accuracy: 0.9756 - precision: 0.9808 - val_loss: 0.0954 - val_accuracy: 0.9717 - val_precision: 0.9768\n",
      "Epoch 3/10\n",
      "1875/1875 [==============================] - 2s 1ms/step - loss: 0.0817 - accuracy: 0.9773 - precision: 0.9820 - val_loss: 0.0952 - val_accuracy: 0.9724 - val_precision: 0.9772\n",
      "Epoch 4/10\n",
      "1875/1875 [==============================] - 2s 1ms/step - loss: 0.0758 - accuracy: 0.9787 - precision: 0.9832 - val_loss: 0.0915 - val_accuracy: 0.9731 - val_precision: 0.9775\n",
      "Epoch 5/10\n",
      "1875/1875 [==============================] - 3s 1ms/step - loss: 0.0707 - accuracy: 0.9806 - precision: 0.9849 - val_loss: 0.0863 - val_accuracy: 0.9740 - val_precision: 0.9794\n",
      "Epoch 6/10\n",
      "1875/1875 [==============================] - 2s 1ms/step - loss: 0.0661 - accuracy: 0.9818 - precision: 0.9852 - val_loss: 0.0849 - val_accuracy: 0.9739 - val_precision: 0.9786\n",
      "Epoch 7/10\n",
      "1875/1875 [==============================] - 2s 1ms/step - loss: 0.0616 - accuracy: 0.9833 - precision: 0.9867 - val_loss: 0.0841 - val_accuracy: 0.9753 - val_precision: 0.9805\n",
      "Epoch 8/10\n",
      "1875/1875 [==============================] - 3s 1ms/step - loss: 0.0578 - accuracy: 0.9844 - precision: 0.9872 - val_loss: 0.0820 - val_accuracy: 0.9750 - val_precision: 0.9804\n",
      "Epoch 9/10\n",
      "1875/1875 [==============================] - 3s 1ms/step - loss: 0.0543 - accuracy: 0.9854 - precision: 0.9882 - val_loss: 0.0778 - val_accuracy: 0.9761 - val_precision: 0.9797\n",
      "Epoch 10/10\n",
      "1875/1875 [==============================] - 3s 1ms/step - loss: 0.0510 - accuracy: 0.9864 - precision: 0.9891 - val_loss: 0.0763 - val_accuracy: 0.9767 - val_precision: 0.9807\n"
     ]
    }
   ],
   "source": [
    "# entrenar a la red\n",
    "# los 'train' modifican los pesos (weights)\n",
    "historia = network.fit(X_train_mod, y_train_mod, epochs=10, validation_data=(X_val_mod, y_val_mod))"
   ]
  },
  {
   "cell_type": "code",
   "execution_count": 26,
   "id": "ac2e206a",
   "metadata": {},
   "outputs": [
    {
     "data": {
      "text/plain": [
       "{'loss': [0.09571173042058945,\n",
       "  0.08804965019226074,\n",
       "  0.08173047006130219,\n",
       "  0.07577858865261078,\n",
       "  0.07067117840051651,\n",
       "  0.06607107073068619,\n",
       "  0.06156981736421585,\n",
       "  0.05781169608235359,\n",
       "  0.05429183691740036,\n",
       "  0.050955984741449356],\n",
       " 'accuracy': [0.9729499816894531,\n",
       "  0.9756166934967041,\n",
       "  0.9772833585739136,\n",
       "  0.978683352470398,\n",
       "  0.9805999994277954,\n",
       "  0.9817833304405212,\n",
       "  0.9833166599273682,\n",
       "  0.9844333529472351,\n",
       "  0.9854333400726318,\n",
       "  0.9863666892051697],\n",
       " 'precision': [0.9788482189178467,\n",
       "  0.9807870388031006,\n",
       "  0.9820482134819031,\n",
       "  0.9832226634025574,\n",
       "  0.9849210977554321,\n",
       "  0.9851608276367188,\n",
       "  0.9867433905601501,\n",
       "  0.9872035980224609,\n",
       "  0.988245964050293,\n",
       "  0.9890599846839905],\n",
       " 'val_loss': [0.1020193099975586,\n",
       "  0.09543251991271973,\n",
       "  0.09522419422864914,\n",
       "  0.09153072535991669,\n",
       "  0.0863441452383995,\n",
       "  0.0849362462759018,\n",
       "  0.08407012373209,\n",
       "  0.08195149153470993,\n",
       "  0.07779479026794434,\n",
       "  0.07633940130472183],\n",
       " 'val_accuracy': [0.9697142839431763,\n",
       "  0.9717142581939697,\n",
       "  0.972428560256958,\n",
       "  0.9731428623199463,\n",
       "  0.9739999771118164,\n",
       "  0.9738571643829346,\n",
       "  0.9752857089042664,\n",
       "  0.9750000238418579,\n",
       "  0.9761428833007812,\n",
       "  0.9767143130302429],\n",
       " 'val_precision': [0.9753246903419495,\n",
       "  0.9768178462982178,\n",
       "  0.9772235751152039,\n",
       "  0.9775313138961792,\n",
       "  0.9794214963912964,\n",
       "  0.9785549640655518,\n",
       "  0.9805447459220886,\n",
       "  0.980403482913971,\n",
       "  0.9797297120094299,\n",
       "  0.9807277321815491]}"
      ]
     },
     "execution_count": 26,
     "metadata": {},
     "output_type": "execute_result"
    }
   ],
   "source": [
    "historia.history"
   ]
  },
  {
   "cell_type": "code",
   "execution_count": 31,
   "id": "abff1927",
   "metadata": {},
   "outputs": [
    {
     "data": {
      "image/png": "[encoded data removed]",
      "text/plain": [
       "<Figure size 720x504 with 1 Axes>"
      ]
     },
     "metadata": {},
     "output_type": "display_data"
    }
   ],
   "source": [
    "import pandas as pd\n",
    "import matplotlib.pyplot as plt\n",
    "plt.style.use('seaborn-dark')\n",
    "pd.DataFrame(historia.history).plot(figsize=(10,7))\n",
    "plt.grid(True)\n",
    "#plt.gca().set_ylim(0,1.5)\n",
    "plt.show()"
   ]
  },
  {
   "cell_type": "code",
   "execution_count": 32,
   "id": "8016599d",
   "metadata": {},
   "outputs": [
    {
     "name": "stdout",
     "output_type": "stream",
     "text": [
      "94/94 [==============================] - 0s 949us/step - loss: 0.0848 - accuracy: 0.9740 - precision: 0.9775\n"
     ]
    }
   ],
   "source": [
    "# evaluar la red\n",
    "test_loss, test_acc, test_prec = network.evaluate(X_test_mod, y_test_mod)"
   ]
  },
  {
   "cell_type": "code",
   "execution_count": 33,
   "id": "af425718",
   "metadata": {},
   "outputs": [
    {
     "data": {
      "text/plain": [
       "0.08479196578264236"
      ]
     },
     "execution_count": 33,
     "metadata": {},
     "output_type": "execute_result"
    }
   ],
   "source": [
    "test_loss"
   ]
  },
  {
   "cell_type": "code",
   "execution_count": 34,
   "id": "5ed87d2b",
   "metadata": {},
   "outputs": [],
   "source": [
    "# evaluar posicion\n",
    "x_nuevo = X_test[30]\n",
    "x_nuevo = x_nuevo.reshape((1,28*28))\n",
    "x_nuevo = x_nuevo.astype('float32')/255"
   ]
  },
  {
   "cell_type": "code",
   "execution_count": 35,
   "id": "2693e44a",
   "metadata": {},
   "outputs": [
    {
     "data": {
      "text/plain": [
       "array([[1.3091893e-02, 7.8567199e-02, 8.9111843e-04, 5.4370403e-01,\n",
       "        7.9046395e-03, 2.1110363e-01, 1.9996401e-04, 1.6381152e-02,\n",
       "        1.3632812e-04, 1.2802002e-01]], dtype=float32)"
      ]
     },
     "execution_count": 35,
     "metadata": {},
     "output_type": "execute_result"
    }
   ],
   "source": [
    "# el valor con mayor probabilidad es el predicho (posicion 3)\n",
    "resul = network.predict(x_nuevo)\n",
    "resul"
   ]
  },
  {
   "cell_type": "code",
   "execution_count": 36,
   "id": "cd22025e",
   "metadata": {},
   "outputs": [
    {
     "data": {
      "text/plain": [
       "3"
      ]
     },
     "execution_count": 36,
     "metadata": {},
     "output_type": "execute_result"
    }
   ],
   "source": [
    "# comporbar que el valor real es el predicho con el modelo\n",
    "y_test[30]"
   ]
  }
 ],
 "metadata": {
  "kernelspec": {
   "display_name": "Python 3 (ipykernel)",
   "language": "python",
   "name": "python3"
  },
  "language_info": {
   "codemirror_mode": {
    "name": "ipython",
    "version": 3
   },
   "file_extension": ".py",
   "mimetype": "text/x-python",
   "name": "python",
   "nbconvert_exporter": "python",
   "pygments_lexer": "ipython3",
   "version": "3.8.12"
  },
  "toc": {
   "base_numbering": 1,
   "nav_menu": {},
   "number_sections": true,
   "sideBar": true,
   "skip_h1_title": true,
   "title_cell": "Table of Contents",
   "title_sidebar": "Contents",
   "toc_cell": false,
   "toc_position": {},
   "toc_section_display": true,
   "toc_window_display": false
  },
  "varInspector": {
   "cols": {
    "lenName": 16,
    "lenType": 16,
    "lenVar": 40
   },
   "kernels_config": {
    "python": {
     "delete_cmd_postfix": "",
     "delete_cmd_prefix": "del ",
     "library": "var_list.py",
     "varRefreshCmd": "print(var_dic_list())"
    },
    "r": {
     "delete_cmd_postfix": ") ",
     "delete_cmd_prefix": "rm(",
     "library": "var_list.r",
     "varRefreshCmd": "cat(var_dic_list()) "
    }
   },
   "types_to_exclude": [
    "module",
    "function",
    "builtin_function_or_method",
    "instance",
    "_Feature"
   ],
   "window_display": false
  }
 },
 "nbformat": 4,
 "nbformat_minor": 5
}
