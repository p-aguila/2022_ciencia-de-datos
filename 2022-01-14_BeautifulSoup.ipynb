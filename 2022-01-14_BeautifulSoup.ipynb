{
 "cells": [
  {
   "cell_type": "code",
   "execution_count": 3,
   "id": "06f40c94",
   "metadata": {},
   "outputs": [],
   "source": [
    "from bs4 import BeautifulSoup"
   ]
  },
  {
   "cell_type": "code",
   "execution_count": 5,
   "id": "96b707c3",
   "metadata": {},
   "outputs": [],
   "source": [
    "contenido_html = open('index.html') # si estuviera en una carpeta seria 'html/index.html'\n",
    "soup = BeautifulSoup(contenido_html, 'lxml')"
   ]
  },
  {
   "cell_type": "code",
   "execution_count": 9,
   "id": "7ab93da1",
   "metadata": {},
   "outputs": [
    {
     "name": "stdout",
     "output_type": "stream",
     "text": [
      "<!DOCTYPE html>\n",
      "<html lang=\"en\">\n",
      " <head>\n",
      "  <meta charset=\"utf-8\"/>\n",
      "  <meta content=\"IE=edge\" http-equiv=\"X-UA-Compatible\"/>\n",
      "  <meta content=\"width=device-width, initial-scale=1.0\" name=\"viewport\"/>\n",
      "  <title>\n",
      "   Document\n",
      "  </title>\n",
      " </head>\n",
      " <body>\n",
      "  <div class=\"header\">\n",
      "   <h1 class=\"titulo\">\n",
      "    <b>\n",
      "     Titulo\n",
      "    </b>\n",
      "   </h1>\n",
      "   <p class=\"links\">\n",
      "    <a class=\"link\" href=\"http://example.com/link1\" id=\"link1\">\n",
      "     Primer Link\n",
      "    </a>\n",
      "    <a class=\"link\" id=\"link2\" target=\"_blank\">\n",
      "     Segundo link\n",
      "    </a>\n",
      "    <a class=\"link\" id=\"link3\">\n",
      "     Tercer Link\n",
      "    </a>\n",
      "   </p>\n",
      "  </div>\n",
      "  <div class=\"footer\">\n",
      "   <ul>\n",
      "    <li class=\"item\">\n",
      "     item1\n",
      "    </li>\n",
      "    <li class=\"item\">\n",
      "     item2\n",
      "    </li>\n",
      "    <li class=\"item_final\">\n",
      "     item3\n",
      "    </li>\n",
      "   </ul>\n",
      "  </div>\n",
      " </body>\n",
      "</html>\n"
     ]
    }
   ],
   "source": [
    "# prettify imprime con indentado\n",
    "print(soup.prettify())"
   ]
  },
  {
   "cell_type": "code",
   "execution_count": 14,
   "id": "0e59fb68",
   "metadata": {},
   "outputs": [
    {
     "data": {
      "text/plain": [
       "<head>\n",
       "<meta charset=\"utf-8\"/>\n",
       "<meta content=\"IE=edge\" http-equiv=\"X-UA-Compatible\"/>\n",
       "<meta content=\"width=device-width, initial-scale=1.0\" name=\"viewport\"/>\n",
       "<title>Document</title>\n",
       "</head>"
      ]
     },
     "execution_count": 14,
     "metadata": {},
     "output_type": "execute_result"
    }
   ],
   "source": [
    "# conociendo y navegando el objeto soup\n",
    "soup.html.head"
   ]
  },
  {
   "cell_type": "code",
   "execution_count": 15,
   "id": "78e95201",
   "metadata": {},
   "outputs": [
    {
     "data": {
      "text/plain": [
       "'\\n        Primer Link\\n      '"
      ]
     },
     "execution_count": 15,
     "metadata": {},
     "output_type": "execute_result"
    }
   ],
   "source": [
    "# primer link\n",
    "soup.body.a.text"
   ]
  },
  {
   "cell_type": "code",
   "execution_count": 16,
   "id": "e9367dd1",
   "metadata": {},
   "outputs": [
    {
     "data": {
      "text/plain": [
       "'item1'"
      ]
     },
     "execution_count": 16,
     "metadata": {},
     "output_type": "execute_result"
    }
   ],
   "source": [
    "# print item\n",
    "soup.body.ul.li.text"
   ]
  },
  {
   "cell_type": "code",
   "execution_count": 18,
   "id": "eb4fbf11",
   "metadata": {},
   "outputs": [
    {
     "data": {
      "text/plain": [
       "{'href': 'http://example.com/link1', 'class': ['link'], 'id': 'link1'}"
      ]
     },
     "execution_count": 18,
     "metadata": {},
     "output_type": "execute_result"
    }
   ],
   "source": [
    "# atributos de la etiqueta a\n",
    "soup.body.a.attrs"
   ]
  },
  {
   "cell_type": "code",
   "execution_count": 19,
   "id": "33285b5c",
   "metadata": {},
   "outputs": [
    {
     "data": {
      "text/plain": [
       "<li class=\"item_final\">item3</li>"
      ]
     },
     "execution_count": 19,
     "metadata": {},
     "output_type": "execute_result"
    }
   ],
   "source": [
    "# metodos find y find all\n",
    "# find: trabaja con un solo arreglo\n",
    "soup.find('li', class_='item_final')"
   ]
  },
  {
   "cell_type": "code",
   "execution_count": 20,
   "id": "fccb5cff",
   "metadata": {},
   "outputs": [
    {
     "data": {
      "text/plain": [
       "[<li class=\"item\">item1</li>, <li class=\"item\">item2</li>]"
      ]
     },
     "execution_count": 20,
     "metadata": {},
     "output_type": "execute_result"
    }
   ],
   "source": [
    "# find_all: encuentra mas de un item o arreglo\n",
    "# class_: es clase\n",
    "soup.find_all('li', class_='item')"
   ]
  },
  {
   "cell_type": "code",
   "execution_count": 24,
   "id": "d626ec29",
   "metadata": {},
   "outputs": [
    {
     "data": {
      "text/plain": [
       "<a class=\"link\" href=\"http://example.com/link1\" id=\"link1\">\n",
       "        Primer Link\n",
       "      </a>"
      ]
     },
     "execution_count": 24,
     "metadata": {},
     "output_type": "execute_result"
    }
   ],
   "source": [
    "# encontrar el primer link\n",
    "soup.find_all('a', class_='link')[0]"
   ]
  },
  {
   "cell_type": "code",
   "execution_count": 27,
   "id": "b02394a5",
   "metadata": {},
   "outputs": [
    {
     "data": {
      "text/plain": [
       "[<a class=\"link\" id=\"link2\" target=\"_blank\">Segundo link</a>]"
      ]
     },
     "execution_count": 27,
     "metadata": {},
     "output_type": "execute_result"
    }
   ],
   "source": [
    "# con mas de un atributo\n",
    "soup.find_all('a', attrs={'class':'link', 'id':'link2'})"
   ]
  },
  {
   "cell_type": "code",
   "execution_count": 28,
   "id": "557c5f74",
   "metadata": {},
   "outputs": [
    {
     "data": {
      "text/plain": [
       "[<body>\n",
       " <div class=\"header\">\n",
       " <h1 class=\"titulo\"><b>Titulo</b></h1>\n",
       " <p class=\"links\">\n",
       " <a class=\"link\" href=\"http://example.com/link1\" id=\"link1\">\n",
       "         Primer Link\n",
       "       </a>\n",
       " <a class=\"link\" id=\"link2\" target=\"_blank\">Segundo link</a>\n",
       " <a class=\"link\" id=\"link3\"> Tercer Link</a>\n",
       " </p>\n",
       " </div>\n",
       " <div class=\"footer\">\n",
       " <ul>\n",
       " <li class=\"item\">item1</li>\n",
       " <li class=\"item\">item2</li>\n",
       " <li class=\"item_final\">item3</li>\n",
       " </ul>\n",
       " </div>\n",
       " </body>,\n",
       " <b>Titulo</b>]"
      ]
     },
     "execution_count": 28,
     "metadata": {},
     "output_type": "execute_result"
    }
   ],
   "source": [
    "# expresiones regulares\n",
    "import re\n",
    "soup.find_all(re.compile('^b'))"
   ]
  },
  {
   "cell_type": "code",
   "execution_count": 29,
   "id": "6efcd89d",
   "metadata": {},
   "outputs": [
    {
     "data": {
      "text/plain": [
       "[<li class=\"item\">item1</li>, <li class=\"item\">item2</li>]"
      ]
     },
     "execution_count": 29,
     "metadata": {},
     "output_type": "execute_result"
    }
   ],
   "source": [
    "# CSS selectors\n",
    "# atraer a los hijos de la clase 'ul'\n",
    "soup.select('ul > li.item')"
   ]
  },
  {
   "cell_type": "code",
   "execution_count": 30,
   "id": "42299891",
   "metadata": {},
   "outputs": [
    {
     "data": {
      "text/plain": [
       "[<li class=\"item\">item1</li>, <li class=\"item\">item2</li>]"
      ]
     },
     "execution_count": 30,
     "metadata": {},
     "output_type": "execute_result"
    }
   ],
   "source": [
    "soup.select('li.item')"
   ]
  },
  {
   "cell_type": "code",
   "execution_count": 32,
   "id": "073b8580",
   "metadata": {},
   "outputs": [
    {
     "data": {
      "text/plain": [
       "<li class=\"item\">item1</li>"
      ]
     },
     "execution_count": 32,
     "metadata": {},
     "output_type": "execute_result"
    }
   ],
   "source": [
    "# traer la posicion cero\n",
    "soup.select('li.item')[0]"
   ]
  },
  {
   "cell_type": "code",
   "execution_count": 33,
   "id": "0afb3b15",
   "metadata": {},
   "outputs": [
    {
     "data": {
      "text/plain": [
       "'item1'"
      ]
     },
     "execution_count": 33,
     "metadata": {},
     "output_type": "execute_result"
    }
   ],
   "source": [
    "# acceder al texto del item 1\n",
    "soup.select('li.item')[0].text"
   ]
  },
  {
   "cell_type": "code",
   "execution_count": 36,
   "id": "c695dd41",
   "metadata": {},
   "outputs": [
    {
     "data": {
      "text/plain": [
       "[<li class=\"item_final\">item3</li>]"
      ]
     },
     "execution_count": 36,
     "metadata": {},
     "output_type": "execute_result"
    }
   ],
   "source": [
    "soup.select('.item_final')"
   ]
  },
  {
   "cell_type": "code",
   "execution_count": 38,
   "id": "b6b75f36",
   "metadata": {},
   "outputs": [
    {
     "data": {
      "text/plain": [
       "[<a class=\"link\" id=\"link3\"> Tercer Link</a>]"
      ]
     },
     "execution_count": 38,
     "metadata": {},
     "output_type": "execute_result"
    }
   ],
   "source": [
    "# buscar por id\n",
    "# '.' es para la clase\n",
    "# '#' es para buscar por id\n",
    "soup.select('#link3')"
   ]
  }
 ],
 "metadata": {
  "kernelspec": {
   "display_name": "Python 3 (ipykernel)",
   "language": "python",
   "name": "python3"
  },
  "language_info": {
   "codemirror_mode": {
    "name": "ipython",
    "version": 3
   },
   "file_extension": ".py",
   "mimetype": "text/x-python",
   "name": "python",
   "nbconvert_exporter": "python",
   "pygments_lexer": "ipython3",
   "version": "3.8.12"
  },
  "toc": {
   "base_numbering": 1,
   "nav_menu": {},
   "number_sections": true,
   "sideBar": true,
   "skip_h1_title": true,
   "title_cell": "Table of Contents",
   "title_sidebar": "Contents",
   "toc_cell": false,
   "toc_position": {},
   "toc_section_display": true,
   "toc_window_display": false
  },
  "varInspector": {
   "cols": {
    "lenName": 16,
    "lenType": 16,
    "lenVar": 40
   },
   "kernels_config": {
    "python": {
     "delete_cmd_postfix": "",
     "delete_cmd_prefix": "del ",
     "library": "var_list.py",
     "varRefreshCmd": "print(var_dic_list())"
    },
    "r": {
     "delete_cmd_postfix": ") ",
     "delete_cmd_prefix": "rm(",
     "library": "var_list.r",
     "varRefreshCmd": "cat(var_dic_list()) "
    }
   },
   "types_to_exclude": [
    "module",
    "function",
    "builtin_function_or_method",
    "instance",
    "_Feature"
   ],
   "window_display": false
  }
 },
 "nbformat": 4,
 "nbformat_minor": 5
}
